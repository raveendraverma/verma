{
 "cells": [
  {
   "cell_type": "code",
   "execution_count": null,
   "metadata": {
    "collapsed": true
   },
   "outputs": [],
   "source": [
    "# conda install bokeh or pip install bokeh"
   ]
  },
  {
   "cell_type": "code",
   "execution_count": null,
   "metadata": {
    "collapsed": true
   },
   "outputs": [],
   "source": [
    "# 3 interfaces bokeh.charts, bokeh.plotting, bokeh.models"
   ]
  },
  {
   "cell_type": "code",
   "execution_count": 1,
   "metadata": {},
   "outputs": [],
   "source": [
    "import bokeh"
   ]
  },
  {
   "cell_type": "code",
   "execution_count": null,
   "metadata": {
    "collapsed": true
   },
   "outputs": [],
   "source": [
    "# output_notebook, output_file"
   ]
  },
  {
   "cell_type": "code",
   "execution_count": 2,
   "metadata": {},
   "outputs": [],
   "source": [
    "from bokeh.io import output_notebook, show\n",
    "from bokeh.plotting import figure"
   ]
  },
  {
   "cell_type": "code",
   "execution_count": 3,
   "metadata": {},
   "outputs": [
    {
     "data": {
      "text/html": [
       "\n",
       "    <div class=\"bk-root\">\n",
       "        <a href=\"https://bokeh.pydata.org\" target=\"_blank\" class=\"bk-logo bk-logo-small bk-logo-notebook\"></a>\n",
       "        <span id=\"1001\">Loading BokehJS ...</span>\n",
       "    </div>"
      ]
     },
     "metadata": {},
     "output_type": "display_data"
    },
    {
     "data": {
      "application/javascript": [
       "\n",
       "(function(root) {\n",
       "  function now() {\n",
       "    return new Date();\n",
       "  }\n",
       "\n",
       "  var force = true;\n",
       "\n",
       "  if (typeof root._bokeh_onload_callbacks === \"undefined\" || force === true) {\n",
       "    root._bokeh_onload_callbacks = [];\n",
       "    root._bokeh_is_loading = undefined;\n",
       "  }\n",
       "\n",
       "  var JS_MIME_TYPE = 'application/javascript';\n",
       "  var HTML_MIME_TYPE = 'text/html';\n",
       "  var EXEC_MIME_TYPE = 'application/vnd.bokehjs_exec.v0+json';\n",
       "  var CLASS_NAME = 'output_bokeh rendered_html';\n",
       "\n",
       "  /**\n",
       "   * Render data to the DOM node\n",
       "   */\n",
       "  function render(props, node) {\n",
       "    var script = document.createElement(\"script\");\n",
       "    node.appendChild(script);\n",
       "  }\n",
       "\n",
       "  /**\n",
       "   * Handle when an output is cleared or removed\n",
       "   */\n",
       "  function handleClearOutput(event, handle) {\n",
       "    var cell = handle.cell;\n",
       "\n",
       "    var id = cell.output_area._bokeh_element_id;\n",
       "    var server_id = cell.output_area._bokeh_server_id;\n",
       "    // Clean up Bokeh references\n",
       "    if (id != null && id in Bokeh.index) {\n",
       "      Bokeh.index[id].model.document.clear();\n",
       "      delete Bokeh.index[id];\n",
       "    }\n",
       "\n",
       "    if (server_id !== undefined) {\n",
       "      // Clean up Bokeh references\n",
       "      var cmd = \"from bokeh.io.state import curstate; print(curstate().uuid_to_server['\" + server_id + \"'].get_sessions()[0].document.roots[0]._id)\";\n",
       "      cell.notebook.kernel.execute(cmd, {\n",
       "        iopub: {\n",
       "          output: function(msg) {\n",
       "            var id = msg.content.text.trim();\n",
       "            if (id in Bokeh.index) {\n",
       "              Bokeh.index[id].model.document.clear();\n",
       "              delete Bokeh.index[id];\n",
       "            }\n",
       "          }\n",
       "        }\n",
       "      });\n",
       "      // Destroy server and session\n",
       "      var cmd = \"import bokeh.io.notebook as ion; ion.destroy_server('\" + server_id + \"')\";\n",
       "      cell.notebook.kernel.execute(cmd);\n",
       "    }\n",
       "  }\n",
       "\n",
       "  /**\n",
       "   * Handle when a new output is added\n",
       "   */\n",
       "  function handleAddOutput(event, handle) {\n",
       "    var output_area = handle.output_area;\n",
       "    var output = handle.output;\n",
       "\n",
       "    // limit handleAddOutput to display_data with EXEC_MIME_TYPE content only\n",
       "    if ((output.output_type != \"display_data\") || (!output.data.hasOwnProperty(EXEC_MIME_TYPE))) {\n",
       "      return\n",
       "    }\n",
       "\n",
       "    var toinsert = output_area.element.find(\".\" + CLASS_NAME.split(' ')[0]);\n",
       "\n",
       "    if (output.metadata[EXEC_MIME_TYPE][\"id\"] !== undefined) {\n",
       "      toinsert[toinsert.length - 1].firstChild.textContent = output.data[JS_MIME_TYPE];\n",
       "      // store reference to embed id on output_area\n",
       "      output_area._bokeh_element_id = output.metadata[EXEC_MIME_TYPE][\"id\"];\n",
       "    }\n",
       "    if (output.metadata[EXEC_MIME_TYPE][\"server_id\"] !== undefined) {\n",
       "      var bk_div = document.createElement(\"div\");\n",
       "      bk_div.innerHTML = output.data[HTML_MIME_TYPE];\n",
       "      var script_attrs = bk_div.children[0].attributes;\n",
       "      for (var i = 0; i < script_attrs.length; i++) {\n",
       "        toinsert[toinsert.length - 1].firstChild.setAttribute(script_attrs[i].name, script_attrs[i].value);\n",
       "      }\n",
       "      // store reference to server id on output_area\n",
       "      output_area._bokeh_server_id = output.metadata[EXEC_MIME_TYPE][\"server_id\"];\n",
       "    }\n",
       "  }\n",
       "\n",
       "  function register_renderer(events, OutputArea) {\n",
       "\n",
       "    function append_mime(data, metadata, element) {\n",
       "      // create a DOM node to render to\n",
       "      var toinsert = this.create_output_subarea(\n",
       "        metadata,\n",
       "        CLASS_NAME,\n",
       "        EXEC_MIME_TYPE\n",
       "      );\n",
       "      this.keyboard_manager.register_events(toinsert);\n",
       "      // Render to node\n",
       "      var props = {data: data, metadata: metadata[EXEC_MIME_TYPE]};\n",
       "      render(props, toinsert[toinsert.length - 1]);\n",
       "      element.append(toinsert);\n",
       "      return toinsert\n",
       "    }\n",
       "\n",
       "    /* Handle when an output is cleared or removed */\n",
       "    events.on('clear_output.CodeCell', handleClearOutput);\n",
       "    events.on('delete.Cell', handleClearOutput);\n",
       "\n",
       "    /* Handle when a new output is added */\n",
       "    events.on('output_added.OutputArea', handleAddOutput);\n",
       "\n",
       "    /**\n",
       "     * Register the mime type and append_mime function with output_area\n",
       "     */\n",
       "    OutputArea.prototype.register_mime_type(EXEC_MIME_TYPE, append_mime, {\n",
       "      /* Is output safe? */\n",
       "      safe: true,\n",
       "      /* Index of renderer in `output_area.display_order` */\n",
       "      index: 0\n",
       "    });\n",
       "  }\n",
       "\n",
       "  // register the mime type if in Jupyter Notebook environment and previously unregistered\n",
       "  if (root.Jupyter !== undefined) {\n",
       "    var events = require('base/js/events');\n",
       "    var OutputArea = require('notebook/js/outputarea').OutputArea;\n",
       "\n",
       "    if (OutputArea.prototype.mime_types().indexOf(EXEC_MIME_TYPE) == -1) {\n",
       "      register_renderer(events, OutputArea);\n",
       "    }\n",
       "  }\n",
       "\n",
       "  \n",
       "  if (typeof (root._bokeh_timeout) === \"undefined\" || force === true) {\n",
       "    root._bokeh_timeout = Date.now() + 5000;\n",
       "    root._bokeh_failed_load = false;\n",
       "  }\n",
       "\n",
       "  var NB_LOAD_WARNING = {'data': {'text/html':\n",
       "     \"<div style='background-color: #fdd'>\\n\"+\n",
       "     \"<p>\\n\"+\n",
       "     \"BokehJS does not appear to have successfully loaded. If loading BokehJS from CDN, this \\n\"+\n",
       "     \"may be due to a slow or bad network connection. Possible fixes:\\n\"+\n",
       "     \"</p>\\n\"+\n",
       "     \"<ul>\\n\"+\n",
       "     \"<li>re-rerun `output_notebook()` to attempt to load from CDN again, or</li>\\n\"+\n",
       "     \"<li>use INLINE resources instead, as so:</li>\\n\"+\n",
       "     \"</ul>\\n\"+\n",
       "     \"<code>\\n\"+\n",
       "     \"from bokeh.resources import INLINE\\n\"+\n",
       "     \"output_notebook(resources=INLINE)\\n\"+\n",
       "     \"</code>\\n\"+\n",
       "     \"</div>\"}};\n",
       "\n",
       "  function display_loaded() {\n",
       "    var el = document.getElementById(\"1001\");\n",
       "    if (el != null) {\n",
       "      el.textContent = \"BokehJS is loading...\";\n",
       "    }\n",
       "    if (root.Bokeh !== undefined) {\n",
       "      if (el != null) {\n",
       "        el.textContent = \"BokehJS \" + root.Bokeh.version + \" successfully loaded.\";\n",
       "      }\n",
       "    } else if (Date.now() < root._bokeh_timeout) {\n",
       "      setTimeout(display_loaded, 100)\n",
       "    }\n",
       "  }\n",
       "\n",
       "\n",
       "  function run_callbacks() {\n",
       "    try {\n",
       "      root._bokeh_onload_callbacks.forEach(function(callback) {\n",
       "        if (callback != null)\n",
       "          callback();\n",
       "      });\n",
       "    } finally {\n",
       "      delete root._bokeh_onload_callbacks\n",
       "    }\n",
       "    console.debug(\"Bokeh: all callbacks have finished\");\n",
       "  }\n",
       "\n",
       "  function load_libs(css_urls, js_urls, callback) {\n",
       "    if (css_urls == null) css_urls = [];\n",
       "    if (js_urls == null) js_urls = [];\n",
       "\n",
       "    root._bokeh_onload_callbacks.push(callback);\n",
       "    if (root._bokeh_is_loading > 0) {\n",
       "      console.debug(\"Bokeh: BokehJS is being loaded, scheduling callback at\", now());\n",
       "      return null;\n",
       "    }\n",
       "    if (js_urls == null || js_urls.length === 0) {\n",
       "      run_callbacks();\n",
       "      return null;\n",
       "    }\n",
       "    console.debug(\"Bokeh: BokehJS not loaded, scheduling load and callback at\", now());\n",
       "    root._bokeh_is_loading = css_urls.length + js_urls.length;\n",
       "\n",
       "    function on_load() {\n",
       "      root._bokeh_is_loading--;\n",
       "      if (root._bokeh_is_loading === 0) {\n",
       "        console.debug(\"Bokeh: all BokehJS libraries/stylesheets loaded\");\n",
       "        run_callbacks()\n",
       "      }\n",
       "    }\n",
       "\n",
       "    function on_error() {\n",
       "      console.error(\"failed to load \" + url);\n",
       "    }\n",
       "\n",
       "    for (var i = 0; i < css_urls.length; i++) {\n",
       "      var url = css_urls[i];\n",
       "      const element = document.createElement(\"link\");\n",
       "      element.onload = on_load;\n",
       "      element.onerror = on_error;\n",
       "      element.rel = \"stylesheet\";\n",
       "      element.type = \"text/css\";\n",
       "      element.href = url;\n",
       "      console.debug(\"Bokeh: injecting link tag for BokehJS stylesheet: \", url);\n",
       "      document.body.appendChild(element);\n",
       "    }\n",
       "\n",
       "    for (var i = 0; i < js_urls.length; i++) {\n",
       "      var url = js_urls[i];\n",
       "      var element = document.createElement('script');\n",
       "      element.onload = on_load;\n",
       "      element.onerror = on_error;\n",
       "      element.async = false;\n",
       "      element.src = url;\n",
       "      console.debug(\"Bokeh: injecting script tag for BokehJS library: \", url);\n",
       "      document.head.appendChild(element);\n",
       "    }\n",
       "  };var element = document.getElementById(\"1001\");\n",
       "  if (element == null) {\n",
       "    console.error(\"Bokeh: ERROR: autoload.js configured with elementid '1001' but no matching script tag was found. \")\n",
       "    return false;\n",
       "  }\n",
       "\n",
       "  function inject_raw_css(css) {\n",
       "    const element = document.createElement(\"style\");\n",
       "    element.appendChild(document.createTextNode(css));\n",
       "    document.body.appendChild(element);\n",
       "  }\n",
       "\n",
       "  var js_urls = [\"https://cdn.pydata.org/bokeh/release/bokeh-1.2.0.min.js\", \"https://cdn.pydata.org/bokeh/release/bokeh-widgets-1.2.0.min.js\", \"https://cdn.pydata.org/bokeh/release/bokeh-tables-1.2.0.min.js\", \"https://cdn.pydata.org/bokeh/release/bokeh-gl-1.2.0.min.js\"];\n",
       "  var css_urls = [\"https://cdn.pydata.org/bokeh/release/bokeh-1.2.0.min.css\", \"https://cdn.pydata.org/bokeh/release/bokeh-widgets-1.2.0.min.css\", \"https://cdn.pydata.org/bokeh/release/bokeh-tables-1.2.0.min.css\"];\n",
       "\n",
       "  var inline_js = [\n",
       "    function(Bokeh) {\n",
       "      Bokeh.set_log_level(\"info\");\n",
       "    },\n",
       "    \n",
       "    function(Bokeh) {\n",
       "      \n",
       "    },\n",
       "    function(Bokeh) {} // ensure no trailing comma for IE\n",
       "  ];\n",
       "\n",
       "  function run_inline_js() {\n",
       "    \n",
       "    if ((root.Bokeh !== undefined) || (force === true)) {\n",
       "      for (var i = 0; i < inline_js.length; i++) {\n",
       "        inline_js[i].call(root, root.Bokeh);\n",
       "      }if (force === true) {\n",
       "        display_loaded();\n",
       "      }} else if (Date.now() < root._bokeh_timeout) {\n",
       "      setTimeout(run_inline_js, 100);\n",
       "    } else if (!root._bokeh_failed_load) {\n",
       "      console.log(\"Bokeh: BokehJS failed to load within specified timeout.\");\n",
       "      root._bokeh_failed_load = true;\n",
       "    } else if (force !== true) {\n",
       "      var cell = $(document.getElementById(\"1001\")).parents('.cell').data().cell;\n",
       "      cell.output_area.append_execute_result(NB_LOAD_WARNING)\n",
       "    }\n",
       "\n",
       "  }\n",
       "\n",
       "  if (root._bokeh_is_loading === 0) {\n",
       "    console.debug(\"Bokeh: BokehJS loaded, going straight to plotting\");\n",
       "    run_inline_js();\n",
       "  } else {\n",
       "    load_libs(css_urls, js_urls, function() {\n",
       "      console.debug(\"Bokeh: BokehJS plotting callback run at\", now());\n",
       "      run_inline_js();\n",
       "    });\n",
       "  }\n",
       "}(window));"
      ],
      "application/vnd.bokehjs_load.v0+json": "\n(function(root) {\n  function now() {\n    return new Date();\n  }\n\n  var force = true;\n\n  if (typeof root._bokeh_onload_callbacks === \"undefined\" || force === true) {\n    root._bokeh_onload_callbacks = [];\n    root._bokeh_is_loading = undefined;\n  }\n\n  \n\n  \n  if (typeof (root._bokeh_timeout) === \"undefined\" || force === true) {\n    root._bokeh_timeout = Date.now() + 5000;\n    root._bokeh_failed_load = false;\n  }\n\n  var NB_LOAD_WARNING = {'data': {'text/html':\n     \"<div style='background-color: #fdd'>\\n\"+\n     \"<p>\\n\"+\n     \"BokehJS does not appear to have successfully loaded. If loading BokehJS from CDN, this \\n\"+\n     \"may be due to a slow or bad network connection. Possible fixes:\\n\"+\n     \"</p>\\n\"+\n     \"<ul>\\n\"+\n     \"<li>re-rerun `output_notebook()` to attempt to load from CDN again, or</li>\\n\"+\n     \"<li>use INLINE resources instead, as so:</li>\\n\"+\n     \"</ul>\\n\"+\n     \"<code>\\n\"+\n     \"from bokeh.resources import INLINE\\n\"+\n     \"output_notebook(resources=INLINE)\\n\"+\n     \"</code>\\n\"+\n     \"</div>\"}};\n\n  function display_loaded() {\n    var el = document.getElementById(\"1001\");\n    if (el != null) {\n      el.textContent = \"BokehJS is loading...\";\n    }\n    if (root.Bokeh !== undefined) {\n      if (el != null) {\n        el.textContent = \"BokehJS \" + root.Bokeh.version + \" successfully loaded.\";\n      }\n    } else if (Date.now() < root._bokeh_timeout) {\n      setTimeout(display_loaded, 100)\n    }\n  }\n\n\n  function run_callbacks() {\n    try {\n      root._bokeh_onload_callbacks.forEach(function(callback) {\n        if (callback != null)\n          callback();\n      });\n    } finally {\n      delete root._bokeh_onload_callbacks\n    }\n    console.debug(\"Bokeh: all callbacks have finished\");\n  }\n\n  function load_libs(css_urls, js_urls, callback) {\n    if (css_urls == null) css_urls = [];\n    if (js_urls == null) js_urls = [];\n\n    root._bokeh_onload_callbacks.push(callback);\n    if (root._bokeh_is_loading > 0) {\n      console.debug(\"Bokeh: BokehJS is being loaded, scheduling callback at\", now());\n      return null;\n    }\n    if (js_urls == null || js_urls.length === 0) {\n      run_callbacks();\n      return null;\n    }\n    console.debug(\"Bokeh: BokehJS not loaded, scheduling load and callback at\", now());\n    root._bokeh_is_loading = css_urls.length + js_urls.length;\n\n    function on_load() {\n      root._bokeh_is_loading--;\n      if (root._bokeh_is_loading === 0) {\n        console.debug(\"Bokeh: all BokehJS libraries/stylesheets loaded\");\n        run_callbacks()\n      }\n    }\n\n    function on_error() {\n      console.error(\"failed to load \" + url);\n    }\n\n    for (var i = 0; i < css_urls.length; i++) {\n      var url = css_urls[i];\n      const element = document.createElement(\"link\");\n      element.onload = on_load;\n      element.onerror = on_error;\n      element.rel = \"stylesheet\";\n      element.type = \"text/css\";\n      element.href = url;\n      console.debug(\"Bokeh: injecting link tag for BokehJS stylesheet: \", url);\n      document.body.appendChild(element);\n    }\n\n    for (var i = 0; i < js_urls.length; i++) {\n      var url = js_urls[i];\n      var element = document.createElement('script');\n      element.onload = on_load;\n      element.onerror = on_error;\n      element.async = false;\n      element.src = url;\n      console.debug(\"Bokeh: injecting script tag for BokehJS library: \", url);\n      document.head.appendChild(element);\n    }\n  };var element = document.getElementById(\"1001\");\n  if (element == null) {\n    console.error(\"Bokeh: ERROR: autoload.js configured with elementid '1001' but no matching script tag was found. \")\n    return false;\n  }\n\n  function inject_raw_css(css) {\n    const element = document.createElement(\"style\");\n    element.appendChild(document.createTextNode(css));\n    document.body.appendChild(element);\n  }\n\n  var js_urls = [\"https://cdn.pydata.org/bokeh/release/bokeh-1.2.0.min.js\", \"https://cdn.pydata.org/bokeh/release/bokeh-widgets-1.2.0.min.js\", \"https://cdn.pydata.org/bokeh/release/bokeh-tables-1.2.0.min.js\", \"https://cdn.pydata.org/bokeh/release/bokeh-gl-1.2.0.min.js\"];\n  var css_urls = [\"https://cdn.pydata.org/bokeh/release/bokeh-1.2.0.min.css\", \"https://cdn.pydata.org/bokeh/release/bokeh-widgets-1.2.0.min.css\", \"https://cdn.pydata.org/bokeh/release/bokeh-tables-1.2.0.min.css\"];\n\n  var inline_js = [\n    function(Bokeh) {\n      Bokeh.set_log_level(\"info\");\n    },\n    \n    function(Bokeh) {\n      \n    },\n    function(Bokeh) {} // ensure no trailing comma for IE\n  ];\n\n  function run_inline_js() {\n    \n    if ((root.Bokeh !== undefined) || (force === true)) {\n      for (var i = 0; i < inline_js.length; i++) {\n        inline_js[i].call(root, root.Bokeh);\n      }if (force === true) {\n        display_loaded();\n      }} else if (Date.now() < root._bokeh_timeout) {\n      setTimeout(run_inline_js, 100);\n    } else if (!root._bokeh_failed_load) {\n      console.log(\"Bokeh: BokehJS failed to load within specified timeout.\");\n      root._bokeh_failed_load = true;\n    } else if (force !== true) {\n      var cell = $(document.getElementById(\"1001\")).parents('.cell').data().cell;\n      cell.output_area.append_execute_result(NB_LOAD_WARNING)\n    }\n\n  }\n\n  if (root._bokeh_is_loading === 0) {\n    console.debug(\"Bokeh: BokehJS loaded, going straight to plotting\");\n    run_inline_js();\n  } else {\n    load_libs(css_urls, js_urls, function() {\n      console.debug(\"Bokeh: BokehJS plotting callback run at\", now());\n      run_inline_js();\n    });\n  }\n}(window));"
     },
     "metadata": {},
     "output_type": "display_data"
    }
   ],
   "source": [
    "output_notebook()"
   ]
  },
  {
   "cell_type": "code",
   "execution_count": null,
   "metadata": {
    "collapsed": true
   },
   "outputs": [],
   "source": [
    "# scatter plots"
   ]
  },
  {
   "cell_type": "code",
   "execution_count": 4,
   "metadata": {},
   "outputs": [],
   "source": [
    "p = figure(plot_width=450, plot_height=350)"
   ]
  },
  {
   "cell_type": "code",
   "execution_count": 6,
   "metadata": {},
   "outputs": [],
   "source": [
    "#show(p)"
   ]
  },
  {
   "cell_type": "code",
   "execution_count": 5,
   "metadata": {},
   "outputs": [
    {
     "data": {
      "text/html": [
       "\n",
       "\n",
       "\n",
       "\n",
       "\n",
       "\n",
       "  <div class=\"bk-root\" id=\"412a98a6-f651-481d-a136-e3491be41c13\" data-root-id=\"1002\"></div>\n"
      ]
     },
     "metadata": {},
     "output_type": "display_data"
    },
    {
     "data": {
      "application/javascript": [
       "(function(root) {\n",
       "  function embed_document(root) {\n",
       "    \n",
       "  var docs_json = {\"7fc60627-8172-475d-a4f8-24424b4b0642\":{\"roots\":{\"references\":[{\"attributes\":{\"below\":[{\"id\":\"1011\",\"type\":\"LinearAxis\"}],\"center\":[{\"id\":\"1015\",\"type\":\"Grid\"},{\"id\":\"1020\",\"type\":\"Grid\"}],\"left\":[{\"id\":\"1016\",\"type\":\"LinearAxis\"}],\"plot_height\":350,\"plot_width\":450,\"renderers\":[{\"id\":\"1037\",\"type\":\"GlyphRenderer\"}],\"title\":{\"id\":\"1039\",\"type\":\"Title\"},\"toolbar\":{\"id\":\"1027\",\"type\":\"Toolbar\"},\"x_range\":{\"id\":\"1003\",\"type\":\"DataRange1d\"},\"x_scale\":{\"id\":\"1007\",\"type\":\"LinearScale\"},\"y_range\":{\"id\":\"1005\",\"type\":\"DataRange1d\"},\"y_scale\":{\"id\":\"1009\",\"type\":\"LinearScale\"}},\"id\":\"1002\",\"subtype\":\"Figure\",\"type\":\"Plot\"},{\"attributes\":{},\"id\":\"1045\",\"type\":\"UnionRenderers\"},{\"attributes\":{\"fill_color\":{\"value\":\"#1f77b4\"},\"line_color\":{\"value\":\"#1f77b4\"},\"x\":{\"field\":\"x\"},\"y\":{\"field\":\"y\"}},\"id\":\"1035\",\"type\":\"Circle\"},{\"attributes\":{\"source\":{\"id\":\"1034\",\"type\":\"ColumnDataSource\"}},\"id\":\"1038\",\"type\":\"CDSView\"},{\"attributes\":{\"fill_alpha\":{\"value\":0.1},\"fill_color\":{\"value\":\"#1f77b4\"},\"line_alpha\":{\"value\":0.1},\"line_color\":{\"value\":\"#1f77b4\"},\"x\":{\"field\":\"x\"},\"y\":{\"field\":\"y\"}},\"id\":\"1036\",\"type\":\"Circle\"},{\"attributes\":{},\"id\":\"1046\",\"type\":\"Selection\"},{\"attributes\":{\"bottom_units\":\"screen\",\"fill_alpha\":{\"value\":0.5},\"fill_color\":{\"value\":\"lightgrey\"},\"left_units\":\"screen\",\"level\":\"overlay\",\"line_alpha\":{\"value\":1.0},\"line_color\":{\"value\":\"black\"},\"line_dash\":[4,4],\"line_width\":{\"value\":2},\"render_mode\":\"css\",\"right_units\":\"screen\",\"top_units\":\"screen\"},\"id\":\"1047\",\"type\":\"BoxAnnotation\"},{\"attributes\":{\"data_source\":{\"id\":\"1034\",\"type\":\"ColumnDataSource\"},\"glyph\":{\"id\":\"1035\",\"type\":\"Circle\"},\"hover_glyph\":null,\"muted_glyph\":null,\"nonselection_glyph\":{\"id\":\"1036\",\"type\":\"Circle\"},\"selection_glyph\":null,\"view\":{\"id\":\"1038\",\"type\":\"CDSView\"}},\"id\":\"1037\",\"type\":\"GlyphRenderer\"},{\"attributes\":{},\"id\":\"1021\",\"type\":\"PanTool\"},{\"attributes\":{},\"id\":\"1022\",\"type\":\"WheelZoomTool\"},{\"attributes\":{},\"id\":\"1007\",\"type\":\"LinearScale\"},{\"attributes\":{\"text\":\"\"},\"id\":\"1039\",\"type\":\"Title\"},{\"attributes\":{\"overlay\":{\"id\":\"1047\",\"type\":\"BoxAnnotation\"}},\"id\":\"1023\",\"type\":\"BoxZoomTool\"},{\"attributes\":{},\"id\":\"1042\",\"type\":\"BasicTickFormatter\"},{\"attributes\":{},\"id\":\"1024\",\"type\":\"SaveTool\"},{\"attributes\":{},\"id\":\"1025\",\"type\":\"ResetTool\"},{\"attributes\":{\"callback\":null},\"id\":\"1003\",\"type\":\"DataRange1d\"},{\"attributes\":{},\"id\":\"1026\",\"type\":\"HelpTool\"},{\"attributes\":{\"callback\":null},\"id\":\"1005\",\"type\":\"DataRange1d\"},{\"attributes\":{\"active_drag\":\"auto\",\"active_inspect\":\"auto\",\"active_multi\":null,\"active_scroll\":\"auto\",\"active_tap\":\"auto\",\"tools\":[{\"id\":\"1021\",\"type\":\"PanTool\"},{\"id\":\"1022\",\"type\":\"WheelZoomTool\"},{\"id\":\"1023\",\"type\":\"BoxZoomTool\"},{\"id\":\"1024\",\"type\":\"SaveTool\"},{\"id\":\"1025\",\"type\":\"ResetTool\"},{\"id\":\"1026\",\"type\":\"HelpTool\"}]},\"id\":\"1027\",\"type\":\"Toolbar\"},{\"attributes\":{},\"id\":\"1009\",\"type\":\"LinearScale\"},{\"attributes\":{\"formatter\":{\"id\":\"1044\",\"type\":\"BasicTickFormatter\"},\"ticker\":{\"id\":\"1012\",\"type\":\"BasicTicker\"}},\"id\":\"1011\",\"type\":\"LinearAxis\"},{\"attributes\":{},\"id\":\"1012\",\"type\":\"BasicTicker\"},{\"attributes\":{\"ticker\":{\"id\":\"1012\",\"type\":\"BasicTicker\"}},\"id\":\"1015\",\"type\":\"Grid\"},{\"attributes\":{\"formatter\":{\"id\":\"1042\",\"type\":\"BasicTickFormatter\"},\"ticker\":{\"id\":\"1017\",\"type\":\"BasicTicker\"}},\"id\":\"1016\",\"type\":\"LinearAxis\"},{\"attributes\":{\"callback\":null,\"data\":{\"x\":[2,4,6,8],\"y\":[4,3,7,1]},\"selected\":{\"id\":\"1046\",\"type\":\"Selection\"},\"selection_policy\":{\"id\":\"1045\",\"type\":\"UnionRenderers\"}},\"id\":\"1034\",\"type\":\"ColumnDataSource\"},{\"attributes\":{},\"id\":\"1017\",\"type\":\"BasicTicker\"},{\"attributes\":{},\"id\":\"1044\",\"type\":\"BasicTickFormatter\"},{\"attributes\":{\"dimension\":1,\"ticker\":{\"id\":\"1017\",\"type\":\"BasicTicker\"}},\"id\":\"1020\",\"type\":\"Grid\"}],\"root_ids\":[\"1002\"]},\"title\":\"Bokeh Application\",\"version\":\"1.2.0\"}};\n",
       "  var render_items = [{\"docid\":\"7fc60627-8172-475d-a4f8-24424b4b0642\",\"roots\":{\"1002\":\"412a98a6-f651-481d-a136-e3491be41c13\"}}];\n",
       "  root.Bokeh.embed.embed_items_notebook(docs_json, render_items);\n",
       "\n",
       "  }\n",
       "  if (root.Bokeh !== undefined) {\n",
       "    embed_document(root);\n",
       "  } else {\n",
       "    var attempts = 0;\n",
       "    var timer = setInterval(function(root) {\n",
       "      if (root.Bokeh !== undefined) {\n",
       "        embed_document(root);\n",
       "        clearInterval(timer);\n",
       "      }\n",
       "      attempts++;\n",
       "      if (attempts > 100) {\n",
       "        console.log(\"Bokeh: ERROR: Unable to run BokehJS code because BokehJS library is missing\");\n",
       "        clearInterval(timer);\n",
       "      }\n",
       "    }, 10, root)\n",
       "  }\n",
       "})(window);"
      ],
      "application/vnd.bokehjs_exec.v0+json": ""
     },
     "metadata": {
      "application/vnd.bokehjs_exec.v0+json": {
       "id": "1002"
      }
     },
     "output_type": "display_data"
    }
   ],
   "source": [
    "p.circle([2,4,6,8],[4,3,7,1])\n",
    "\n",
    "show(p)"
   ]
  },
  {
   "cell_type": "code",
   "execution_count": 6,
   "metadata": {
    "scrolled": false
   },
   "outputs": [
    {
     "data": {
      "text/html": [
       "\n",
       "\n",
       "\n",
       "\n",
       "\n",
       "\n",
       "  <div class=\"bk-root\" id=\"240788a9-e227-4d96-89de-f550bfee68a0\" data-root-id=\"1002\"></div>\n"
      ]
     },
     "metadata": {},
     "output_type": "display_data"
    },
    {
     "data": {
      "application/javascript": [
       "(function(root) {\n",
       "  function embed_document(root) {\n",
       "    \n",
       "  var docs_json = {\"7c8249a9-4d74-4d72-b135-d681205213c6\":{\"roots\":{\"references\":[{\"attributes\":{\"below\":[{\"id\":\"1011\",\"type\":\"LinearAxis\"}],\"center\":[{\"id\":\"1015\",\"type\":\"Grid\"},{\"id\":\"1020\",\"type\":\"Grid\"}],\"left\":[{\"id\":\"1016\",\"type\":\"LinearAxis\"}],\"plot_height\":350,\"plot_width\":450,\"renderers\":[{\"id\":\"1037\",\"type\":\"GlyphRenderer\"},{\"id\":\"1105\",\"type\":\"GlyphRenderer\"}],\"title\":{\"id\":\"1039\",\"type\":\"Title\"},\"toolbar\":{\"id\":\"1027\",\"type\":\"Toolbar\"},\"x_range\":{\"id\":\"1003\",\"type\":\"DataRange1d\"},\"x_scale\":{\"id\":\"1007\",\"type\":\"LinearScale\"},\"y_range\":{\"id\":\"1005\",\"type\":\"DataRange1d\"},\"y_scale\":{\"id\":\"1009\",\"type\":\"LinearScale\"}},\"id\":\"1002\",\"subtype\":\"Figure\",\"type\":\"Plot\"},{\"attributes\":{},\"id\":\"1045\",\"type\":\"UnionRenderers\"},{\"attributes\":{\"fill_color\":{\"value\":\"#1f77b4\"},\"line_color\":{\"value\":\"#1f77b4\"},\"x\":{\"field\":\"x\"},\"y\":{\"field\":\"y\"}},\"id\":\"1035\",\"type\":\"Circle\"},{\"attributes\":{\"source\":{\"id\":\"1034\",\"type\":\"ColumnDataSource\"}},\"id\":\"1038\",\"type\":\"CDSView\"},{\"attributes\":{\"fill_alpha\":{\"value\":0.1},\"fill_color\":{\"value\":\"#1f77b4\"},\"line_alpha\":{\"value\":0.1},\"line_color\":{\"value\":\"#1f77b4\"},\"x\":{\"field\":\"x\"},\"y\":{\"field\":\"y\"}},\"id\":\"1036\",\"type\":\"Circle\"},{\"attributes\":{},\"id\":\"1046\",\"type\":\"Selection\"},{\"attributes\":{\"bottom_units\":\"screen\",\"fill_alpha\":{\"value\":0.5},\"fill_color\":{\"value\":\"lightgrey\"},\"left_units\":\"screen\",\"level\":\"overlay\",\"line_alpha\":{\"value\":1.0},\"line_color\":{\"value\":\"black\"},\"line_dash\":[4,4],\"line_width\":{\"value\":2},\"render_mode\":\"css\",\"right_units\":\"screen\",\"top_units\":\"screen\"},\"id\":\"1047\",\"type\":\"BoxAnnotation\"},{\"attributes\":{\"data_source\":{\"id\":\"1034\",\"type\":\"ColumnDataSource\"},\"glyph\":{\"id\":\"1035\",\"type\":\"Circle\"},\"hover_glyph\":null,\"muted_glyph\":null,\"nonselection_glyph\":{\"id\":\"1036\",\"type\":\"Circle\"},\"selection_glyph\":null,\"view\":{\"id\":\"1038\",\"type\":\"CDSView\"}},\"id\":\"1037\",\"type\":\"GlyphRenderer\"},{\"attributes\":{},\"id\":\"1021\",\"type\":\"PanTool\"},{\"attributes\":{},\"id\":\"1022\",\"type\":\"WheelZoomTool\"},{\"attributes\":{},\"id\":\"1007\",\"type\":\"LinearScale\"},{\"attributes\":{\"text\":\"\"},\"id\":\"1039\",\"type\":\"Title\"},{\"attributes\":{\"overlay\":{\"id\":\"1047\",\"type\":\"BoxAnnotation\"}},\"id\":\"1023\",\"type\":\"BoxZoomTool\"},{\"attributes\":{\"fill_alpha\":{\"value\":0.1},\"fill_color\":{\"value\":\"#1f77b4\"},\"line_alpha\":{\"value\":0.1},\"line_color\":{\"value\":\"#1f77b4\"},\"size\":{\"units\":\"screen\",\"value\":14},\"x\":{\"field\":\"x\"},\"y\":{\"field\":\"y\"}},\"id\":\"1104\",\"type\":\"Circle\"},{\"attributes\":{},\"id\":\"1042\",\"type\":\"BasicTickFormatter\"},{\"attributes\":{\"fill_color\":{\"value\":\"#1f77b4\"},\"line_color\":{\"value\":\"red\"},\"size\":{\"units\":\"screen\",\"value\":14},\"x\":{\"field\":\"x\"},\"y\":{\"field\":\"y\"}},\"id\":\"1103\",\"type\":\"Circle\"},{\"attributes\":{},\"id\":\"1024\",\"type\":\"SaveTool\"},{\"attributes\":{},\"id\":\"1115\",\"type\":\"UnionRenderers\"},{\"attributes\":{\"callback\":null,\"data\":{\"x\":[2,4,6,8],\"y\":[4,3,7,1]},\"selected\":{\"id\":\"1116\",\"type\":\"Selection\"},\"selection_policy\":{\"id\":\"1115\",\"type\":\"UnionRenderers\"}},\"id\":\"1102\",\"type\":\"ColumnDataSource\"},{\"attributes\":{},\"id\":\"1025\",\"type\":\"ResetTool\"},{\"attributes\":{\"source\":{\"id\":\"1102\",\"type\":\"ColumnDataSource\"}},\"id\":\"1106\",\"type\":\"CDSView\"},{\"attributes\":{\"callback\":null},\"id\":\"1003\",\"type\":\"DataRange1d\"},{\"attributes\":{},\"id\":\"1026\",\"type\":\"HelpTool\"},{\"attributes\":{\"data_source\":{\"id\":\"1102\",\"type\":\"ColumnDataSource\"},\"glyph\":{\"id\":\"1103\",\"type\":\"Circle\"},\"hover_glyph\":null,\"muted_glyph\":null,\"nonselection_glyph\":{\"id\":\"1104\",\"type\":\"Circle\"},\"selection_glyph\":null,\"view\":{\"id\":\"1106\",\"type\":\"CDSView\"}},\"id\":\"1105\",\"type\":\"GlyphRenderer\"},{\"attributes\":{\"callback\":null},\"id\":\"1005\",\"type\":\"DataRange1d\"},{\"attributes\":{\"active_drag\":\"auto\",\"active_inspect\":\"auto\",\"active_multi\":null,\"active_scroll\":\"auto\",\"active_tap\":\"auto\",\"tools\":[{\"id\":\"1021\",\"type\":\"PanTool\"},{\"id\":\"1022\",\"type\":\"WheelZoomTool\"},{\"id\":\"1023\",\"type\":\"BoxZoomTool\"},{\"id\":\"1024\",\"type\":\"SaveTool\"},{\"id\":\"1025\",\"type\":\"ResetTool\"},{\"id\":\"1026\",\"type\":\"HelpTool\"}]},\"id\":\"1027\",\"type\":\"Toolbar\"},{\"attributes\":{},\"id\":\"1009\",\"type\":\"LinearScale\"},{\"attributes\":{\"formatter\":{\"id\":\"1044\",\"type\":\"BasicTickFormatter\"},\"ticker\":{\"id\":\"1012\",\"type\":\"BasicTicker\"}},\"id\":\"1011\",\"type\":\"LinearAxis\"},{\"attributes\":{},\"id\":\"1012\",\"type\":\"BasicTicker\"},{\"attributes\":{\"ticker\":{\"id\":\"1012\",\"type\":\"BasicTicker\"}},\"id\":\"1015\",\"type\":\"Grid\"},{\"attributes\":{\"formatter\":{\"id\":\"1042\",\"type\":\"BasicTickFormatter\"},\"ticker\":{\"id\":\"1017\",\"type\":\"BasicTicker\"}},\"id\":\"1016\",\"type\":\"LinearAxis\"},{\"attributes\":{\"callback\":null,\"data\":{\"x\":[2,4,6,8],\"y\":[4,3,7,1]},\"selected\":{\"id\":\"1046\",\"type\":\"Selection\"},\"selection_policy\":{\"id\":\"1045\",\"type\":\"UnionRenderers\"}},\"id\":\"1034\",\"type\":\"ColumnDataSource\"},{\"attributes\":{},\"id\":\"1017\",\"type\":\"BasicTicker\"},{\"attributes\":{},\"id\":\"1116\",\"type\":\"Selection\"},{\"attributes\":{},\"id\":\"1044\",\"type\":\"BasicTickFormatter\"},{\"attributes\":{\"dimension\":1,\"ticker\":{\"id\":\"1017\",\"type\":\"BasicTicker\"}},\"id\":\"1020\",\"type\":\"Grid\"}],\"root_ids\":[\"1002\"]},\"title\":\"Bokeh Application\",\"version\":\"1.2.0\"}};\n",
       "  var render_items = [{\"docid\":\"7c8249a9-4d74-4d72-b135-d681205213c6\",\"roots\":{\"1002\":\"240788a9-e227-4d96-89de-f550bfee68a0\"}}];\n",
       "  root.Bokeh.embed.embed_items_notebook(docs_json, render_items);\n",
       "\n",
       "  }\n",
       "  if (root.Bokeh !== undefined) {\n",
       "    embed_document(root);\n",
       "  } else {\n",
       "    var attempts = 0;\n",
       "    var timer = setInterval(function(root) {\n",
       "      if (root.Bokeh !== undefined) {\n",
       "        embed_document(root);\n",
       "        clearInterval(timer);\n",
       "      }\n",
       "      attempts++;\n",
       "      if (attempts > 100) {\n",
       "        console.log(\"Bokeh: ERROR: Unable to run BokehJS code because BokehJS library is missing\");\n",
       "        clearInterval(timer);\n",
       "      }\n",
       "    }, 10, root)\n",
       "  }\n",
       "})(window);"
      ],
      "application/vnd.bokehjs_exec.v0+json": ""
     },
     "metadata": {
      "application/vnd.bokehjs_exec.v0+json": {
       "id": "1002"
      }
     },
     "output_type": "display_data"
    }
   ],
   "source": [
    "p.circle([2,4,6,8],[4,3,7,1], size=14, line_color='red')\n",
    "\n",
    "show(p)"
   ]
  },
  {
   "cell_type": "code",
   "execution_count": 7,
   "metadata": {},
   "outputs": [
    {
     "data": {
      "text/html": [
       "\n",
       "\n",
       "\n",
       "\n",
       "\n",
       "\n",
       "  <div class=\"bk-root\" id=\"e73bb842-9ca0-4093-bcf5-2830d78c1758\" data-root-id=\"1002\"></div>\n"
      ]
     },
     "metadata": {},
     "output_type": "display_data"
    },
    {
     "data": {
      "application/javascript": [
       "(function(root) {\n",
       "  function embed_document(root) {\n",
       "    \n",
       "  var docs_json = {\"2a9ae52f-ccf6-4365-b4e7-fa8da3d8c550\":{\"roots\":{\"references\":[{\"attributes\":{\"below\":[{\"id\":\"1011\",\"type\":\"LinearAxis\"}],\"center\":[{\"id\":\"1015\",\"type\":\"Grid\"},{\"id\":\"1020\",\"type\":\"Grid\"}],\"left\":[{\"id\":\"1016\",\"type\":\"LinearAxis\"}],\"plot_height\":350,\"plot_width\":450,\"renderers\":[{\"id\":\"1037\",\"type\":\"GlyphRenderer\"},{\"id\":\"1105\",\"type\":\"GlyphRenderer\"},{\"id\":\"1187\",\"type\":\"GlyphRenderer\"}],\"title\":{\"id\":\"1039\",\"type\":\"Title\"},\"toolbar\":{\"id\":\"1027\",\"type\":\"Toolbar\"},\"x_range\":{\"id\":\"1003\",\"type\":\"DataRange1d\"},\"x_scale\":{\"id\":\"1007\",\"type\":\"LinearScale\"},\"y_range\":{\"id\":\"1005\",\"type\":\"DataRange1d\"},\"y_scale\":{\"id\":\"1009\",\"type\":\"LinearScale\"}},\"id\":\"1002\",\"subtype\":\"Figure\",\"type\":\"Plot\"},{\"attributes\":{},\"id\":\"1045\",\"type\":\"UnionRenderers\"},{\"attributes\":{\"fill_color\":{\"value\":\"#1f77b4\"},\"line_color\":{\"value\":\"#1f77b4\"},\"x\":{\"field\":\"x\"},\"y\":{\"field\":\"y\"}},\"id\":\"1035\",\"type\":\"Circle\"},{\"attributes\":{\"source\":{\"id\":\"1034\",\"type\":\"ColumnDataSource\"}},\"id\":\"1038\",\"type\":\"CDSView\"},{\"attributes\":{\"fill_alpha\":{\"value\":0.1},\"fill_color\":{\"value\":\"#1f77b4\"},\"line_alpha\":{\"value\":0.1},\"line_color\":{\"value\":\"#1f77b4\"},\"x\":{\"field\":\"x\"},\"y\":{\"field\":\"y\"}},\"id\":\"1036\",\"type\":\"Circle\"},{\"attributes\":{},\"id\":\"1046\",\"type\":\"Selection\"},{\"attributes\":{\"bottom_units\":\"screen\",\"fill_alpha\":{\"value\":0.5},\"fill_color\":{\"value\":\"lightgrey\"},\"left_units\":\"screen\",\"level\":\"overlay\",\"line_alpha\":{\"value\":1.0},\"line_color\":{\"value\":\"black\"},\"line_dash\":[4,4],\"line_width\":{\"value\":2},\"render_mode\":\"css\",\"right_units\":\"screen\",\"top_units\":\"screen\"},\"id\":\"1047\",\"type\":\"BoxAnnotation\"},{\"attributes\":{\"data_source\":{\"id\":\"1034\",\"type\":\"ColumnDataSource\"},\"glyph\":{\"id\":\"1035\",\"type\":\"Circle\"},\"hover_glyph\":null,\"muted_glyph\":null,\"nonselection_glyph\":{\"id\":\"1036\",\"type\":\"Circle\"},\"selection_glyph\":null,\"view\":{\"id\":\"1038\",\"type\":\"CDSView\"}},\"id\":\"1037\",\"type\":\"GlyphRenderer\"},{\"attributes\":{},\"id\":\"1021\",\"type\":\"PanTool\"},{\"attributes\":{},\"id\":\"1022\",\"type\":\"WheelZoomTool\"},{\"attributes\":{},\"id\":\"1007\",\"type\":\"LinearScale\"},{\"attributes\":{\"text\":\"\"},\"id\":\"1039\",\"type\":\"Title\"},{\"attributes\":{\"overlay\":{\"id\":\"1047\",\"type\":\"BoxAnnotation\"}},\"id\":\"1023\",\"type\":\"BoxZoomTool\"},{\"attributes\":{\"fill_alpha\":{\"value\":0.1},\"fill_color\":{\"value\":\"#1f77b4\"},\"line_alpha\":{\"value\":0.1},\"line_color\":{\"value\":\"#1f77b4\"},\"size\":{\"units\":\"screen\",\"value\":14},\"x\":{\"field\":\"x\"},\"y\":{\"field\":\"y\"}},\"id\":\"1104\",\"type\":\"Circle\"},{\"attributes\":{},\"id\":\"1042\",\"type\":\"BasicTickFormatter\"},{\"attributes\":{\"fill_color\":{\"value\":\"#1f77b4\"},\"line_color\":{\"value\":\"red\"},\"size\":{\"units\":\"screen\",\"value\":14},\"x\":{\"field\":\"x\"},\"y\":{\"field\":\"y\"}},\"id\":\"1103\",\"type\":\"Circle\"},{\"attributes\":{},\"id\":\"1024\",\"type\":\"SaveTool\"},{\"attributes\":{},\"id\":\"1115\",\"type\":\"UnionRenderers\"},{\"attributes\":{\"callback\":null,\"data\":{\"x\":[2,4,6,8],\"y\":[4,3,7,1]},\"selected\":{\"id\":\"1200\",\"type\":\"Selection\"},\"selection_policy\":{\"id\":\"1199\",\"type\":\"UnionRenderers\"}},\"id\":\"1184\",\"type\":\"ColumnDataSource\"},{\"attributes\":{\"callback\":null,\"data\":{\"x\":[2,4,6,8],\"y\":[4,3,7,1]},\"selected\":{\"id\":\"1116\",\"type\":\"Selection\"},\"selection_policy\":{\"id\":\"1115\",\"type\":\"UnionRenderers\"}},\"id\":\"1102\",\"type\":\"ColumnDataSource\"},{\"attributes\":{\"fill_color\":{\"value\":\"yellow\"},\"line_color\":{\"value\":\"red\"},\"size\":{\"units\":\"screen\",\"value\":18},\"x\":{\"field\":\"x\"},\"y\":{\"field\":\"y\"}},\"id\":\"1185\",\"type\":\"Circle\"},{\"attributes\":{},\"id\":\"1025\",\"type\":\"ResetTool\"},{\"attributes\":{\"source\":{\"id\":\"1102\",\"type\":\"ColumnDataSource\"}},\"id\":\"1106\",\"type\":\"CDSView\"},{\"attributes\":{\"callback\":null},\"id\":\"1003\",\"type\":\"DataRange1d\"},{\"attributes\":{},\"id\":\"1026\",\"type\":\"HelpTool\"},{\"attributes\":{\"data_source\":{\"id\":\"1102\",\"type\":\"ColumnDataSource\"},\"glyph\":{\"id\":\"1103\",\"type\":\"Circle\"},\"hover_glyph\":null,\"muted_glyph\":null,\"nonselection_glyph\":{\"id\":\"1104\",\"type\":\"Circle\"},\"selection_glyph\":null,\"view\":{\"id\":\"1106\",\"type\":\"CDSView\"}},\"id\":\"1105\",\"type\":\"GlyphRenderer\"},{\"attributes\":{\"callback\":null},\"id\":\"1005\",\"type\":\"DataRange1d\"},{\"attributes\":{\"data_source\":{\"id\":\"1184\",\"type\":\"ColumnDataSource\"},\"glyph\":{\"id\":\"1185\",\"type\":\"Circle\"},\"hover_glyph\":null,\"muted_glyph\":null,\"nonselection_glyph\":{\"id\":\"1186\",\"type\":\"Circle\"},\"selection_glyph\":null,\"view\":{\"id\":\"1188\",\"type\":\"CDSView\"}},\"id\":\"1187\",\"type\":\"GlyphRenderer\"},{\"attributes\":{\"active_drag\":\"auto\",\"active_inspect\":\"auto\",\"active_multi\":null,\"active_scroll\":\"auto\",\"active_tap\":\"auto\",\"tools\":[{\"id\":\"1021\",\"type\":\"PanTool\"},{\"id\":\"1022\",\"type\":\"WheelZoomTool\"},{\"id\":\"1023\",\"type\":\"BoxZoomTool\"},{\"id\":\"1024\",\"type\":\"SaveTool\"},{\"id\":\"1025\",\"type\":\"ResetTool\"},{\"id\":\"1026\",\"type\":\"HelpTool\"}]},\"id\":\"1027\",\"type\":\"Toolbar\"},{\"attributes\":{},\"id\":\"1009\",\"type\":\"LinearScale\"},{\"attributes\":{\"fill_alpha\":{\"value\":0.1},\"fill_color\":{\"value\":\"#1f77b4\"},\"line_alpha\":{\"value\":0.1},\"line_color\":{\"value\":\"#1f77b4\"},\"size\":{\"units\":\"screen\",\"value\":18},\"x\":{\"field\":\"x\"},\"y\":{\"field\":\"y\"}},\"id\":\"1186\",\"type\":\"Circle\"},{\"attributes\":{\"formatter\":{\"id\":\"1044\",\"type\":\"BasicTickFormatter\"},\"ticker\":{\"id\":\"1012\",\"type\":\"BasicTicker\"}},\"id\":\"1011\",\"type\":\"LinearAxis\"},{\"attributes\":{},\"id\":\"1200\",\"type\":\"Selection\"},{\"attributes\":{},\"id\":\"1012\",\"type\":\"BasicTicker\"},{\"attributes\":{\"ticker\":{\"id\":\"1012\",\"type\":\"BasicTicker\"}},\"id\":\"1015\",\"type\":\"Grid\"},{\"attributes\":{},\"id\":\"1199\",\"type\":\"UnionRenderers\"},{\"attributes\":{\"source\":{\"id\":\"1184\",\"type\":\"ColumnDataSource\"}},\"id\":\"1188\",\"type\":\"CDSView\"},{\"attributes\":{\"formatter\":{\"id\":\"1042\",\"type\":\"BasicTickFormatter\"},\"ticker\":{\"id\":\"1017\",\"type\":\"BasicTicker\"}},\"id\":\"1016\",\"type\":\"LinearAxis\"},{\"attributes\":{\"callback\":null,\"data\":{\"x\":[2,4,6,8],\"y\":[4,3,7,1]},\"selected\":{\"id\":\"1046\",\"type\":\"Selection\"},\"selection_policy\":{\"id\":\"1045\",\"type\":\"UnionRenderers\"}},\"id\":\"1034\",\"type\":\"ColumnDataSource\"},{\"attributes\":{},\"id\":\"1017\",\"type\":\"BasicTicker\"},{\"attributes\":{},\"id\":\"1116\",\"type\":\"Selection\"},{\"attributes\":{},\"id\":\"1044\",\"type\":\"BasicTickFormatter\"},{\"attributes\":{\"dimension\":1,\"ticker\":{\"id\":\"1017\",\"type\":\"BasicTicker\"}},\"id\":\"1020\",\"type\":\"Grid\"}],\"root_ids\":[\"1002\"]},\"title\":\"Bokeh Application\",\"version\":\"1.2.0\"}};\n",
       "  var render_items = [{\"docid\":\"2a9ae52f-ccf6-4365-b4e7-fa8da3d8c550\",\"roots\":{\"1002\":\"e73bb842-9ca0-4093-bcf5-2830d78c1758\"}}];\n",
       "  root.Bokeh.embed.embed_items_notebook(docs_json, render_items);\n",
       "\n",
       "  }\n",
       "  if (root.Bokeh !== undefined) {\n",
       "    embed_document(root);\n",
       "  } else {\n",
       "    var attempts = 0;\n",
       "    var timer = setInterval(function(root) {\n",
       "      if (root.Bokeh !== undefined) {\n",
       "        embed_document(root);\n",
       "        clearInterval(timer);\n",
       "      }\n",
       "      attempts++;\n",
       "      if (attempts > 100) {\n",
       "        console.log(\"Bokeh: ERROR: Unable to run BokehJS code because BokehJS library is missing\");\n",
       "        clearInterval(timer);\n",
       "      }\n",
       "    }, 10, root)\n",
       "  }\n",
       "})(window);"
      ],
      "application/vnd.bokehjs_exec.v0+json": ""
     },
     "metadata": {
      "application/vnd.bokehjs_exec.v0+json": {
       "id": "1002"
      }
     },
     "output_type": "display_data"
    }
   ],
   "source": [
    "p.circle([2,4,6,8],[4,3,7,1], size=18, line_color='red', fill_color='yellow')\n",
    "\n",
    "show(p)"
   ]
  },
  {
   "cell_type": "code",
   "execution_count": null,
   "metadata": {
    "collapsed": true
   },
   "outputs": [],
   "source": [
    "# square"
   ]
  },
  {
   "cell_type": "code",
   "execution_count": 8,
   "metadata": {},
   "outputs": [],
   "source": [
    "p = figure(plot_width = 450, plot_height = 350)"
   ]
  },
  {
   "cell_type": "code",
   "execution_count": 9,
   "metadata": {},
   "outputs": [
    {
     "data": {
      "text/html": [
       "\n",
       "\n",
       "\n",
       "\n",
       "\n",
       "\n",
       "  <div class=\"bk-root\" id=\"4a04445a-1de4-4dfb-aea4-59ea218eceed\" data-root-id=\"1280\"></div>\n"
      ]
     },
     "metadata": {},
     "output_type": "display_data"
    },
    {
     "data": {
      "application/javascript": [
       "(function(root) {\n",
       "  function embed_document(root) {\n",
       "    \n",
       "  var docs_json = {\"b41351a3-e75f-4119-abb4-4bfab3662020\":{\"roots\":{\"references\":[{\"attributes\":{\"below\":[{\"id\":\"1289\",\"type\":\"LinearAxis\"}],\"center\":[{\"id\":\"1293\",\"type\":\"Grid\"},{\"id\":\"1298\",\"type\":\"Grid\"}],\"left\":[{\"id\":\"1294\",\"type\":\"LinearAxis\"}],\"plot_height\":350,\"plot_width\":450,\"renderers\":[{\"id\":\"1315\",\"type\":\"GlyphRenderer\"}],\"title\":{\"id\":\"1330\",\"type\":\"Title\"},\"toolbar\":{\"id\":\"1305\",\"type\":\"Toolbar\"},\"x_range\":{\"id\":\"1281\",\"type\":\"DataRange1d\"},\"x_scale\":{\"id\":\"1285\",\"type\":\"LinearScale\"},\"y_range\":{\"id\":\"1283\",\"type\":\"DataRange1d\"},\"y_scale\":{\"id\":\"1287\",\"type\":\"LinearScale\"}},\"id\":\"1280\",\"subtype\":\"Figure\",\"type\":\"Plot\"},{\"attributes\":{\"bottom_units\":\"screen\",\"fill_alpha\":{\"value\":0.5},\"fill_color\":{\"value\":\"lightgrey\"},\"left_units\":\"screen\",\"level\":\"overlay\",\"line_alpha\":{\"value\":1.0},\"line_color\":{\"value\":\"black\"},\"line_dash\":[4,4],\"line_width\":{\"value\":2},\"render_mode\":\"css\",\"right_units\":\"screen\",\"top_units\":\"screen\"},\"id\":\"1338\",\"type\":\"BoxAnnotation\"},{\"attributes\":{\"text\":\"\"},\"id\":\"1330\",\"type\":\"Title\"},{\"attributes\":{\"active_drag\":\"auto\",\"active_inspect\":\"auto\",\"active_multi\":null,\"active_scroll\":\"auto\",\"active_tap\":\"auto\",\"tools\":[{\"id\":\"1299\",\"type\":\"PanTool\"},{\"id\":\"1300\",\"type\":\"WheelZoomTool\"},{\"id\":\"1301\",\"type\":\"BoxZoomTool\"},{\"id\":\"1302\",\"type\":\"SaveTool\"},{\"id\":\"1303\",\"type\":\"ResetTool\"},{\"id\":\"1304\",\"type\":\"HelpTool\"}]},\"id\":\"1305\",\"type\":\"Toolbar\"},{\"attributes\":{},\"id\":\"1335\",\"type\":\"BasicTickFormatter\"},{\"attributes\":{\"data_source\":{\"id\":\"1312\",\"type\":\"ColumnDataSource\"},\"glyph\":{\"id\":\"1313\",\"type\":\"Square\"},\"hover_glyph\":null,\"muted_glyph\":null,\"nonselection_glyph\":{\"id\":\"1314\",\"type\":\"Square\"},\"selection_glyph\":null,\"view\":{\"id\":\"1316\",\"type\":\"CDSView\"}},\"id\":\"1315\",\"type\":\"GlyphRenderer\"},{\"attributes\":{},\"id\":\"1303\",\"type\":\"ResetTool\"},{\"attributes\":{},\"id\":\"1285\",\"type\":\"LinearScale\"},{\"attributes\":{},\"id\":\"1302\",\"type\":\"SaveTool\"},{\"attributes\":{\"callback\":null},\"id\":\"1283\",\"type\":\"DataRange1d\"},{\"attributes\":{},\"id\":\"1300\",\"type\":\"WheelZoomTool\"},{\"attributes\":{\"callback\":null,\"data\":{\"x\":[2,4,6,8],\"y\":[4,3,7,1]},\"selected\":{\"id\":\"1337\",\"type\":\"Selection\"},\"selection_policy\":{\"id\":\"1336\",\"type\":\"UnionRenderers\"}},\"id\":\"1312\",\"type\":\"ColumnDataSource\"},{\"attributes\":{\"callback\":null},\"id\":\"1281\",\"type\":\"DataRange1d\"},{\"attributes\":{},\"id\":\"1295\",\"type\":\"BasicTicker\"},{\"attributes\":{\"overlay\":{\"id\":\"1338\",\"type\":\"BoxAnnotation\"}},\"id\":\"1301\",\"type\":\"BoxZoomTool\"},{\"attributes\":{\"fill_alpha\":{\"value\":0.3},\"fill_color\":{\"value\":\"red\"},\"line_alpha\":{\"value\":0.3},\"line_color\":{\"value\":\"red\"},\"size\":{\"units\":\"screen\",\"value\":16},\"x\":{\"field\":\"x\"},\"y\":{\"field\":\"y\"}},\"id\":\"1313\",\"type\":\"Square\"},{\"attributes\":{\"formatter\":{\"id\":\"1335\",\"type\":\"BasicTickFormatter\"},\"ticker\":{\"id\":\"1290\",\"type\":\"BasicTicker\"}},\"id\":\"1289\",\"type\":\"LinearAxis\"},{\"attributes\":{},\"id\":\"1299\",\"type\":\"PanTool\"},{\"attributes\":{},\"id\":\"1337\",\"type\":\"Selection\"},{\"attributes\":{},\"id\":\"1287\",\"type\":\"LinearScale\"},{\"attributes\":{\"dimension\":1,\"ticker\":{\"id\":\"1295\",\"type\":\"BasicTicker\"}},\"id\":\"1298\",\"type\":\"Grid\"},{\"attributes\":{\"fill_alpha\":{\"value\":0.1},\"fill_color\":{\"value\":\"#1f77b4\"},\"line_alpha\":{\"value\":0.1},\"line_color\":{\"value\":\"#1f77b4\"},\"size\":{\"units\":\"screen\",\"value\":16},\"x\":{\"field\":\"x\"},\"y\":{\"field\":\"y\"}},\"id\":\"1314\",\"type\":\"Square\"},{\"attributes\":{},\"id\":\"1336\",\"type\":\"UnionRenderers\"},{\"attributes\":{},\"id\":\"1304\",\"type\":\"HelpTool\"},{\"attributes\":{\"source\":{\"id\":\"1312\",\"type\":\"ColumnDataSource\"}},\"id\":\"1316\",\"type\":\"CDSView\"},{\"attributes\":{\"formatter\":{\"id\":\"1333\",\"type\":\"BasicTickFormatter\"},\"ticker\":{\"id\":\"1295\",\"type\":\"BasicTicker\"}},\"id\":\"1294\",\"type\":\"LinearAxis\"},{\"attributes\":{},\"id\":\"1290\",\"type\":\"BasicTicker\"},{\"attributes\":{\"ticker\":{\"id\":\"1290\",\"type\":\"BasicTicker\"}},\"id\":\"1293\",\"type\":\"Grid\"},{\"attributes\":{},\"id\":\"1333\",\"type\":\"BasicTickFormatter\"}],\"root_ids\":[\"1280\"]},\"title\":\"Bokeh Application\",\"version\":\"1.2.0\"}};\n",
       "  var render_items = [{\"docid\":\"b41351a3-e75f-4119-abb4-4bfab3662020\",\"roots\":{\"1280\":\"4a04445a-1de4-4dfb-aea4-59ea218eceed\"}}];\n",
       "  root.Bokeh.embed.embed_items_notebook(docs_json, render_items);\n",
       "\n",
       "  }\n",
       "  if (root.Bokeh !== undefined) {\n",
       "    embed_document(root);\n",
       "  } else {\n",
       "    var attempts = 0;\n",
       "    var timer = setInterval(function(root) {\n",
       "      if (root.Bokeh !== undefined) {\n",
       "        embed_document(root);\n",
       "        clearInterval(timer);\n",
       "      }\n",
       "      attempts++;\n",
       "      if (attempts > 100) {\n",
       "        console.log(\"Bokeh: ERROR: Unable to run BokehJS code because BokehJS library is missing\");\n",
       "        clearInterval(timer);\n",
       "      }\n",
       "    }, 10, root)\n",
       "  }\n",
       "})(window);"
      ],
      "application/vnd.bokehjs_exec.v0+json": ""
     },
     "metadata": {
      "application/vnd.bokehjs_exec.v0+json": {
       "id": "1280"
      }
     },
     "output_type": "display_data"
    }
   ],
   "source": [
    "p.square([2,4,6,8],[4,3,7,1], size=16, color='red', alpha=0.3)\n",
    "show(p)"
   ]
  },
  {
   "cell_type": "code",
   "execution_count": 10,
   "metadata": {},
   "outputs": [
    {
     "data": {
      "text/html": [
       "\n",
       "\n",
       "\n",
       "\n",
       "\n",
       "\n",
       "  <div class=\"bk-root\" id=\"0923f448-45ea-40f9-822f-73a442a164da\" data-root-id=\"1393\"></div>\n"
      ]
     },
     "metadata": {},
     "output_type": "display_data"
    },
    {
     "data": {
      "application/javascript": [
       "(function(root) {\n",
       "  function embed_document(root) {\n",
       "    \n",
       "  var docs_json = {\"496f29be-229c-491b-9d8b-7e17206fc09a\":{\"roots\":{\"references\":[{\"attributes\":{\"below\":[{\"id\":\"1402\",\"type\":\"LinearAxis\"}],\"center\":[{\"id\":\"1406\",\"type\":\"Grid\"},{\"id\":\"1411\",\"type\":\"Grid\"}],\"left\":[{\"id\":\"1407\",\"type\":\"LinearAxis\"}],\"plot_height\":350,\"plot_width\":450,\"renderers\":[{\"id\":\"1428\",\"type\":\"GlyphRenderer\"}],\"title\":{\"id\":\"1452\",\"type\":\"Title\"},\"toolbar\":{\"id\":\"1418\",\"type\":\"Toolbar\"},\"x_range\":{\"id\":\"1394\",\"type\":\"DataRange1d\"},\"x_scale\":{\"id\":\"1398\",\"type\":\"LinearScale\"},\"y_range\":{\"id\":\"1396\",\"type\":\"DataRange1d\"},\"y_scale\":{\"id\":\"1400\",\"type\":\"LinearScale\"}},\"id\":\"1393\",\"subtype\":\"Figure\",\"type\":\"Plot\"},{\"attributes\":{},\"id\":\"1398\",\"type\":\"LinearScale\"},{\"attributes\":{\"data_source\":{\"id\":\"1425\",\"type\":\"ColumnDataSource\"},\"glyph\":{\"id\":\"1426\",\"type\":\"Square\"},\"hover_glyph\":null,\"muted_glyph\":null,\"nonselection_glyph\":{\"id\":\"1427\",\"type\":\"Square\"},\"selection_glyph\":null,\"view\":{\"id\":\"1429\",\"type\":\"CDSView\"}},\"id\":\"1428\",\"type\":\"GlyphRenderer\"},{\"attributes\":{\"source\":{\"id\":\"1425\",\"type\":\"ColumnDataSource\"}},\"id\":\"1429\",\"type\":\"CDSView\"},{\"attributes\":{},\"id\":\"1400\",\"type\":\"LinearScale\"},{\"attributes\":{\"callback\":null},\"id\":\"1394\",\"type\":\"DataRange1d\"},{\"attributes\":{\"formatter\":{\"id\":\"1457\",\"type\":\"BasicTickFormatter\"},\"ticker\":{\"id\":\"1403\",\"type\":\"BasicTicker\"}},\"id\":\"1402\",\"type\":\"LinearAxis\"},{\"attributes\":{},\"id\":\"1457\",\"type\":\"BasicTickFormatter\"},{\"attributes\":{\"callback\":null,\"data\":{\"size\":[6,10,14,18],\"x\":[2,4,6,8],\"y\":[4,3,7,1]},\"selected\":{\"id\":\"1459\",\"type\":\"Selection\"},\"selection_policy\":{\"id\":\"1458\",\"type\":\"UnionRenderers\"}},\"id\":\"1425\",\"type\":\"ColumnDataSource\"},{\"attributes\":{},\"id\":\"1403\",\"type\":\"BasicTicker\"},{\"attributes\":{},\"id\":\"1458\",\"type\":\"UnionRenderers\"},{\"attributes\":{\"ticker\":{\"id\":\"1403\",\"type\":\"BasicTicker\"}},\"id\":\"1406\",\"type\":\"Grid\"},{\"attributes\":{\"callback\":null},\"id\":\"1396\",\"type\":\"DataRange1d\"},{\"attributes\":{},\"id\":\"1459\",\"type\":\"Selection\"},{\"attributes\":{\"formatter\":{\"id\":\"1455\",\"type\":\"BasicTickFormatter\"},\"ticker\":{\"id\":\"1408\",\"type\":\"BasicTicker\"}},\"id\":\"1407\",\"type\":\"LinearAxis\"},{\"attributes\":{\"bottom_units\":\"screen\",\"fill_alpha\":{\"value\":0.5},\"fill_color\":{\"value\":\"lightgrey\"},\"left_units\":\"screen\",\"level\":\"overlay\",\"line_alpha\":{\"value\":1.0},\"line_color\":{\"value\":\"black\"},\"line_dash\":[4,4],\"line_width\":{\"value\":2},\"render_mode\":\"css\",\"right_units\":\"screen\",\"top_units\":\"screen\"},\"id\":\"1460\",\"type\":\"BoxAnnotation\"},{\"attributes\":{},\"id\":\"1408\",\"type\":\"BasicTicker\"},{\"attributes\":{\"dimension\":1,\"ticker\":{\"id\":\"1408\",\"type\":\"BasicTicker\"}},\"id\":\"1411\",\"type\":\"Grid\"},{\"attributes\":{\"fill_alpha\":{\"value\":0.1},\"fill_color\":{\"value\":\"#1f77b4\"},\"line_alpha\":{\"value\":0.1},\"line_color\":{\"value\":\"#1f77b4\"},\"size\":{\"field\":\"size\",\"units\":\"screen\"},\"x\":{\"field\":\"x\"},\"y\":{\"field\":\"y\"}},\"id\":\"1427\",\"type\":\"Square\"},{\"attributes\":{\"fill_alpha\":{\"value\":0.3},\"fill_color\":{\"value\":\"red\"},\"line_alpha\":{\"value\":0.3},\"line_color\":{\"value\":\"red\"},\"size\":{\"field\":\"size\",\"units\":\"screen\"},\"x\":{\"field\":\"x\"},\"y\":{\"field\":\"y\"}},\"id\":\"1426\",\"type\":\"Square\"},{\"attributes\":{},\"id\":\"1412\",\"type\":\"PanTool\"},{\"attributes\":{\"text\":\"\"},\"id\":\"1452\",\"type\":\"Title\"},{\"attributes\":{},\"id\":\"1413\",\"type\":\"WheelZoomTool\"},{\"attributes\":{\"overlay\":{\"id\":\"1460\",\"type\":\"BoxAnnotation\"}},\"id\":\"1414\",\"type\":\"BoxZoomTool\"},{\"attributes\":{},\"id\":\"1455\",\"type\":\"BasicTickFormatter\"},{\"attributes\":{},\"id\":\"1415\",\"type\":\"SaveTool\"},{\"attributes\":{},\"id\":\"1416\",\"type\":\"ResetTool\"},{\"attributes\":{},\"id\":\"1417\",\"type\":\"HelpTool\"},{\"attributes\":{\"active_drag\":\"auto\",\"active_inspect\":\"auto\",\"active_multi\":null,\"active_scroll\":\"auto\",\"active_tap\":\"auto\",\"tools\":[{\"id\":\"1412\",\"type\":\"PanTool\"},{\"id\":\"1413\",\"type\":\"WheelZoomTool\"},{\"id\":\"1414\",\"type\":\"BoxZoomTool\"},{\"id\":\"1415\",\"type\":\"SaveTool\"},{\"id\":\"1416\",\"type\":\"ResetTool\"},{\"id\":\"1417\",\"type\":\"HelpTool\"}]},\"id\":\"1418\",\"type\":\"Toolbar\"}],\"root_ids\":[\"1393\"]},\"title\":\"Bokeh Application\",\"version\":\"1.2.0\"}};\n",
       "  var render_items = [{\"docid\":\"496f29be-229c-491b-9d8b-7e17206fc09a\",\"roots\":{\"1393\":\"0923f448-45ea-40f9-822f-73a442a164da\"}}];\n",
       "  root.Bokeh.embed.embed_items_notebook(docs_json, render_items);\n",
       "\n",
       "  }\n",
       "  if (root.Bokeh !== undefined) {\n",
       "    embed_document(root);\n",
       "  } else {\n",
       "    var attempts = 0;\n",
       "    var timer = setInterval(function(root) {\n",
       "      if (root.Bokeh !== undefined) {\n",
       "        embed_document(root);\n",
       "        clearInterval(timer);\n",
       "      }\n",
       "      attempts++;\n",
       "      if (attempts > 100) {\n",
       "        console.log(\"Bokeh: ERROR: Unable to run BokehJS code because BokehJS library is missing\");\n",
       "        clearInterval(timer);\n",
       "      }\n",
       "    }, 10, root)\n",
       "  }\n",
       "})(window);"
      ],
      "application/vnd.bokehjs_exec.v0+json": ""
     },
     "metadata": {
      "application/vnd.bokehjs_exec.v0+json": {
       "id": "1393"
      }
     },
     "output_type": "display_data"
    }
   ],
   "source": [
    "x = figure(plot_width=450, plot_height=350)\n",
    "\n",
    "x.square([2,4,6,8],[4,3,7,1], size=[6,10,14,18], color='red', alpha=0.3)\n",
    "show(x)"
   ]
  },
  {
   "cell_type": "code",
   "execution_count": null,
   "metadata": {
    "collapsed": true
   },
   "outputs": [],
   "source": [
    "# circle, sq, diamond, cross"
   ]
  },
  {
   "cell_type": "code",
   "execution_count": null,
   "metadata": {
    "collapsed": true
   },
   "outputs": [],
   "source": [
    "# use the diamond, circle and square"
   ]
  },
  {
   "cell_type": "code",
   "execution_count": 11,
   "metadata": {},
   "outputs": [
    {
     "data": {
      "text/html": [
       "\n",
       "\n",
       "\n",
       "\n",
       "\n",
       "\n",
       "  <div class=\"bk-root\" id=\"0e0ae38b-8b72-4a87-95c8-d3a3db09ac7e\" data-root-id=\"1515\"></div>\n"
      ]
     },
     "metadata": {},
     "output_type": "display_data"
    },
    {
     "data": {
      "application/javascript": [
       "(function(root) {\n",
       "  function embed_document(root) {\n",
       "    \n",
       "  var docs_json = {\"94216978-cdfb-4e8d-93f2-2debb15f3a76\":{\"roots\":{\"references\":[{\"attributes\":{\"below\":[{\"id\":\"1524\",\"type\":\"LinearAxis\"}],\"center\":[{\"id\":\"1528\",\"type\":\"Grid\"},{\"id\":\"1533\",\"type\":\"Grid\"}],\"left\":[{\"id\":\"1529\",\"type\":\"LinearAxis\"}],\"plot_height\":350,\"plot_width\":450,\"renderers\":[{\"id\":\"1550\",\"type\":\"GlyphRenderer\"},{\"id\":\"1555\",\"type\":\"GlyphRenderer\"},{\"id\":\"1560\",\"type\":\"GlyphRenderer\"}],\"title\":{\"id\":\"1593\",\"type\":\"Title\"},\"toolbar\":{\"id\":\"1540\",\"type\":\"Toolbar\"},\"x_range\":{\"id\":\"1516\",\"type\":\"DataRange1d\"},\"x_scale\":{\"id\":\"1520\",\"type\":\"LinearScale\"},\"y_range\":{\"id\":\"1518\",\"type\":\"DataRange1d\"},\"y_scale\":{\"id\":\"1522\",\"type\":\"LinearScale\"}},\"id\":\"1515\",\"subtype\":\"Figure\",\"type\":\"Plot\"},{\"attributes\":{},\"id\":\"1525\",\"type\":\"BasicTicker\"},{\"attributes\":{\"fill_alpha\":{\"value\":0.1},\"fill_color\":{\"value\":\"#1f77b4\"},\"line_alpha\":{\"value\":0.1},\"line_color\":{\"value\":\"#1f77b4\"},\"size\":{\"units\":\"screen\",\"value\":16},\"x\":{\"field\":\"x\"},\"y\":{\"field\":\"y\"}},\"id\":\"1554\",\"type\":\"Circle\"},{\"attributes\":{\"ticker\":{\"id\":\"1525\",\"type\":\"BasicTicker\"}},\"id\":\"1528\",\"type\":\"Grid\"},{\"attributes\":{\"data_source\":{\"id\":\"1552\",\"type\":\"ColumnDataSource\"},\"glyph\":{\"id\":\"1553\",\"type\":\"Circle\"},\"hover_glyph\":null,\"muted_glyph\":null,\"nonselection_glyph\":{\"id\":\"1554\",\"type\":\"Circle\"},\"selection_glyph\":null,\"view\":{\"id\":\"1556\",\"type\":\"CDSView\"}},\"id\":\"1555\",\"type\":\"GlyphRenderer\"},{\"attributes\":{\"fill_alpha\":{\"value\":0.1},\"fill_color\":{\"value\":\"#1f77b4\"},\"line_alpha\":{\"value\":0.1},\"line_color\":{\"value\":\"#1f77b4\"},\"size\":{\"units\":\"screen\",\"value\":12},\"x\":{\"field\":\"x\"},\"y\":{\"field\":\"y\"}},\"id\":\"1559\",\"type\":\"Square\"},{\"attributes\":{\"formatter\":{\"id\":\"1596\",\"type\":\"BasicTickFormatter\"},\"ticker\":{\"id\":\"1530\",\"type\":\"BasicTicker\"}},\"id\":\"1529\",\"type\":\"LinearAxis\"},{\"attributes\":{\"source\":{\"id\":\"1552\",\"type\":\"ColumnDataSource\"}},\"id\":\"1556\",\"type\":\"CDSView\"},{\"attributes\":{},\"id\":\"1530\",\"type\":\"BasicTicker\"},{\"attributes\":{\"source\":{\"id\":\"1557\",\"type\":\"ColumnDataSource\"}},\"id\":\"1561\",\"type\":\"CDSView\"},{\"attributes\":{\"dimension\":1,\"ticker\":{\"id\":\"1530\",\"type\":\"BasicTicker\"}},\"id\":\"1533\",\"type\":\"Grid\"},{\"attributes\":{\"fill_alpha\":{\"value\":0.1},\"fill_color\":{\"value\":\"#1f77b4\"},\"line_alpha\":{\"value\":0.1},\"line_color\":{\"value\":\"#1f77b4\"},\"size\":{\"units\":\"screen\",\"value\":14},\"x\":{\"field\":\"x\"},\"y\":{\"field\":\"y\"}},\"id\":\"1549\",\"type\":\"Diamond\"},{\"attributes\":{\"fill_alpha\":{\"value\":0.3},\"fill_color\":{\"value\":\"green\"},\"line_alpha\":{\"value\":0.3},\"line_color\":{\"value\":\"green\"},\"size\":{\"units\":\"screen\",\"value\":14},\"x\":{\"field\":\"x\"},\"y\":{\"field\":\"y\"}},\"id\":\"1548\",\"type\":\"Diamond\"},{\"attributes\":{\"text\":\"\"},\"id\":\"1593\",\"type\":\"Title\"},{\"attributes\":{\"callback\":null,\"data\":{\"x\":[3,8,5,9],\"y\":[8,4,5,3]},\"selected\":{\"id\":\"1602\",\"type\":\"Selection\"},\"selection_policy\":{\"id\":\"1601\",\"type\":\"UnionRenderers\"}},\"id\":\"1552\",\"type\":\"ColumnDataSource\"},{\"attributes\":{},\"id\":\"1596\",\"type\":\"BasicTickFormatter\"},{\"attributes\":{},\"id\":\"1534\",\"type\":\"PanTool\"},{\"attributes\":{},\"id\":\"1598\",\"type\":\"BasicTickFormatter\"},{\"attributes\":{},\"id\":\"1535\",\"type\":\"WheelZoomTool\"},{\"attributes\":{\"fill_alpha\":{\"value\":0.8},\"fill_color\":{\"value\":\"blue\"},\"line_alpha\":{\"value\":0.8},\"line_color\":{\"value\":\"blue\"},\"size\":{\"units\":\"screen\",\"value\":12},\"x\":{\"field\":\"x\"},\"y\":{\"field\":\"y\"}},\"id\":\"1558\",\"type\":\"Square\"},{\"attributes\":{},\"id\":\"1599\",\"type\":\"UnionRenderers\"},{\"attributes\":{\"overlay\":{\"id\":\"1605\",\"type\":\"BoxAnnotation\"}},\"id\":\"1536\",\"type\":\"BoxZoomTool\"},{\"attributes\":{},\"id\":\"1600\",\"type\":\"Selection\"},{\"attributes\":{},\"id\":\"1537\",\"type\":\"SaveTool\"},{\"attributes\":{\"callback\":null,\"data\":{\"x\":[1,5,7,2],\"y\":[3,1,5,6]},\"selected\":{\"id\":\"1600\",\"type\":\"Selection\"},\"selection_policy\":{\"id\":\"1599\",\"type\":\"UnionRenderers\"}},\"id\":\"1547\",\"type\":\"ColumnDataSource\"},{\"attributes\":{},\"id\":\"1601\",\"type\":\"UnionRenderers\"},{\"attributes\":{},\"id\":\"1538\",\"type\":\"ResetTool\"},{\"attributes\":{},\"id\":\"1602\",\"type\":\"Selection\"},{\"attributes\":{},\"id\":\"1539\",\"type\":\"HelpTool\"},{\"attributes\":{\"callback\":null},\"id\":\"1516\",\"type\":\"DataRange1d\"},{\"attributes\":{},\"id\":\"1603\",\"type\":\"UnionRenderers\"},{\"attributes\":{\"active_drag\":\"auto\",\"active_inspect\":\"auto\",\"active_multi\":null,\"active_scroll\":\"auto\",\"active_tap\":\"auto\",\"tools\":[{\"id\":\"1534\",\"type\":\"PanTool\"},{\"id\":\"1535\",\"type\":\"WheelZoomTool\"},{\"id\":\"1536\",\"type\":\"BoxZoomTool\"},{\"id\":\"1537\",\"type\":\"SaveTool\"},{\"id\":\"1538\",\"type\":\"ResetTool\"},{\"id\":\"1539\",\"type\":\"HelpTool\"}]},\"id\":\"1540\",\"type\":\"Toolbar\"},{\"attributes\":{\"data_source\":{\"id\":\"1547\",\"type\":\"ColumnDataSource\"},\"glyph\":{\"id\":\"1548\",\"type\":\"Diamond\"},\"hover_glyph\":null,\"muted_glyph\":null,\"nonselection_glyph\":{\"id\":\"1549\",\"type\":\"Diamond\"},\"selection_glyph\":null,\"view\":{\"id\":\"1551\",\"type\":\"CDSView\"}},\"id\":\"1550\",\"type\":\"GlyphRenderer\"},{\"attributes\":{\"callback\":null},\"id\":\"1518\",\"type\":\"DataRange1d\"},{\"attributes\":{},\"id\":\"1604\",\"type\":\"Selection\"},{\"attributes\":{},\"id\":\"1520\",\"type\":\"LinearScale\"},{\"attributes\":{\"bottom_units\":\"screen\",\"fill_alpha\":{\"value\":0.5},\"fill_color\":{\"value\":\"lightgrey\"},\"left_units\":\"screen\",\"level\":\"overlay\",\"line_alpha\":{\"value\":1.0},\"line_color\":{\"value\":\"black\"},\"line_dash\":[4,4],\"line_width\":{\"value\":2},\"render_mode\":\"css\",\"right_units\":\"screen\",\"top_units\":\"screen\"},\"id\":\"1605\",\"type\":\"BoxAnnotation\"},{\"attributes\":{\"source\":{\"id\":\"1547\",\"type\":\"ColumnDataSource\"}},\"id\":\"1551\",\"type\":\"CDSView\"},{\"attributes\":{\"data_source\":{\"id\":\"1557\",\"type\":\"ColumnDataSource\"},\"glyph\":{\"id\":\"1558\",\"type\":\"Square\"},\"hover_glyph\":null,\"muted_glyph\":null,\"nonselection_glyph\":{\"id\":\"1559\",\"type\":\"Square\"},\"selection_glyph\":null,\"view\":{\"id\":\"1561\",\"type\":\"CDSView\"}},\"id\":\"1560\",\"type\":\"GlyphRenderer\"},{\"attributes\":{\"callback\":null,\"data\":{\"x\":[2,4,3,6],\"y\":[3,1,5,2]},\"selected\":{\"id\":\"1604\",\"type\":\"Selection\"},\"selection_policy\":{\"id\":\"1603\",\"type\":\"UnionRenderers\"}},\"id\":\"1557\",\"type\":\"ColumnDataSource\"},{\"attributes\":{},\"id\":\"1522\",\"type\":\"LinearScale\"},{\"attributes\":{\"fill_alpha\":{\"value\":0.5},\"fill_color\":{\"value\":\"yellow\"},\"line_alpha\":{\"value\":0.5},\"line_color\":{\"value\":\"red\"},\"size\":{\"units\":\"screen\",\"value\":16},\"x\":{\"field\":\"x\"},\"y\":{\"field\":\"y\"}},\"id\":\"1553\",\"type\":\"Circle\"},{\"attributes\":{\"formatter\":{\"id\":\"1598\",\"type\":\"BasicTickFormatter\"},\"ticker\":{\"id\":\"1525\",\"type\":\"BasicTicker\"}},\"id\":\"1524\",\"type\":\"LinearAxis\"}],\"root_ids\":[\"1515\"]},\"title\":\"Bokeh Application\",\"version\":\"1.2.0\"}};\n",
       "  var render_items = [{\"docid\":\"94216978-cdfb-4e8d-93f2-2debb15f3a76\",\"roots\":{\"1515\":\"0e0ae38b-8b72-4a87-95c8-d3a3db09ac7e\"}}];\n",
       "  root.Bokeh.embed.embed_items_notebook(docs_json, render_items);\n",
       "\n",
       "  }\n",
       "  if (root.Bokeh !== undefined) {\n",
       "    embed_document(root);\n",
       "  } else {\n",
       "    var attempts = 0;\n",
       "    var timer = setInterval(function(root) {\n",
       "      if (root.Bokeh !== undefined) {\n",
       "        embed_document(root);\n",
       "        clearInterval(timer);\n",
       "      }\n",
       "      attempts++;\n",
       "      if (attempts > 100) {\n",
       "        console.log(\"Bokeh: ERROR: Unable to run BokehJS code because BokehJS library is missing\");\n",
       "        clearInterval(timer);\n",
       "      }\n",
       "    }, 10, root)\n",
       "  }\n",
       "})(window);"
      ],
      "application/vnd.bokehjs_exec.v0+json": ""
     },
     "metadata": {
      "application/vnd.bokehjs_exec.v0+json": {
       "id": "1515"
      }
     },
     "output_type": "display_data"
    }
   ],
   "source": [
    "a = figure(plot_width=450, plot_height=350)\n",
    "\n",
    "a.diamond([1,5,7,2],[3,1,5,6], size=14, color='green', alpha=0.3)\n",
    "a.circle([3,8,5,9],[8,4,5,3], size=16, color='red',fill_color='yellow', alpha=0.5)\n",
    "a.square([2,4,3,6],[3,1,5,2], size=12, color='blue', alpha=0.8)\n",
    "\n",
    "show(a)\n"
   ]
  },
  {
   "cell_type": "code",
   "execution_count": null,
   "metadata": {
    "collapsed": true
   },
   "outputs": [],
   "source": []
  },
  {
   "cell_type": "markdown",
   "metadata": {},
   "source": [
    "# Line Plots"
   ]
  },
  {
   "cell_type": "code",
   "execution_count": 12,
   "metadata": {},
   "outputs": [],
   "source": [
    "l = figure(plot_width = 450, plot_height = 350)"
   ]
  },
  {
   "cell_type": "code",
   "execution_count": 13,
   "metadata": {},
   "outputs": [
    {
     "data": {
      "text/html": [
       "\n",
       "\n",
       "\n",
       "\n",
       "\n",
       "\n",
       "  <div class=\"bk-root\" id=\"c5024814-aa4e-4974-9419-e9d1b04d2090\" data-root-id=\"1684\"></div>\n"
      ]
     },
     "metadata": {},
     "output_type": "display_data"
    },
    {
     "data": {
      "application/javascript": [
       "(function(root) {\n",
       "  function embed_document(root) {\n",
       "    \n",
       "  var docs_json = {\"c9cef289-62fa-4ac7-9c58-2c786cadb249\":{\"roots\":{\"references\":[{\"attributes\":{\"below\":[{\"id\":\"1693\",\"type\":\"LinearAxis\"}],\"center\":[{\"id\":\"1697\",\"type\":\"Grid\"},{\"id\":\"1702\",\"type\":\"Grid\"}],\"left\":[{\"id\":\"1698\",\"type\":\"LinearAxis\"}],\"plot_height\":350,\"plot_width\":450,\"renderers\":[{\"id\":\"1719\",\"type\":\"GlyphRenderer\"}],\"title\":{\"id\":\"1765\",\"type\":\"Title\"},\"toolbar\":{\"id\":\"1709\",\"type\":\"Toolbar\"},\"x_range\":{\"id\":\"1685\",\"type\":\"DataRange1d\"},\"x_scale\":{\"id\":\"1689\",\"type\":\"LinearScale\"},\"y_range\":{\"id\":\"1687\",\"type\":\"DataRange1d\"},\"y_scale\":{\"id\":\"1691\",\"type\":\"LinearScale\"}},\"id\":\"1684\",\"subtype\":\"Figure\",\"type\":\"Plot\"},{\"attributes\":{},\"id\":\"1772\",\"type\":\"Selection\"},{\"attributes\":{\"dimension\":1,\"ticker\":{\"id\":\"1699\",\"type\":\"BasicTicker\"}},\"id\":\"1702\",\"type\":\"Grid\"},{\"attributes\":{\"callback\":null},\"id\":\"1687\",\"type\":\"DataRange1d\"},{\"attributes\":{},\"id\":\"1771\",\"type\":\"UnionRenderers\"},{\"attributes\":{},\"id\":\"1703\",\"type\":\"PanTool\"},{\"attributes\":{},\"id\":\"1691\",\"type\":\"LinearScale\"},{\"attributes\":{},\"id\":\"1708\",\"type\":\"HelpTool\"},{\"attributes\":{\"ticker\":{\"id\":\"1694\",\"type\":\"BasicTicker\"}},\"id\":\"1697\",\"type\":\"Grid\"},{\"attributes\":{},\"id\":\"1770\",\"type\":\"BasicTickFormatter\"},{\"attributes\":{\"callback\":null},\"id\":\"1685\",\"type\":\"DataRange1d\"},{\"attributes\":{},\"id\":\"1768\",\"type\":\"BasicTickFormatter\"},{\"attributes\":{\"formatter\":{\"id\":\"1768\",\"type\":\"BasicTickFormatter\"},\"ticker\":{\"id\":\"1699\",\"type\":\"BasicTicker\"}},\"id\":\"1698\",\"type\":\"LinearAxis\"},{\"attributes\":{},\"id\":\"1699\",\"type\":\"BasicTicker\"},{\"attributes\":{\"source\":{\"id\":\"1716\",\"type\":\"ColumnDataSource\"}},\"id\":\"1720\",\"type\":\"CDSView\"},{\"attributes\":{},\"id\":\"1704\",\"type\":\"WheelZoomTool\"},{\"attributes\":{\"line_alpha\":0.1,\"line_color\":\"#1f77b4\",\"x\":{\"field\":\"x\"},\"y\":{\"field\":\"y\"}},\"id\":\"1718\",\"type\":\"Line\"},{\"attributes\":{\"active_drag\":\"auto\",\"active_inspect\":\"auto\",\"active_multi\":null,\"active_scroll\":\"auto\",\"active_tap\":\"auto\",\"tools\":[{\"id\":\"1703\",\"type\":\"PanTool\"},{\"id\":\"1704\",\"type\":\"WheelZoomTool\"},{\"id\":\"1705\",\"type\":\"BoxZoomTool\"},{\"id\":\"1706\",\"type\":\"SaveTool\"},{\"id\":\"1707\",\"type\":\"ResetTool\"},{\"id\":\"1708\",\"type\":\"HelpTool\"}]},\"id\":\"1709\",\"type\":\"Toolbar\"},{\"attributes\":{\"data_source\":{\"id\":\"1716\",\"type\":\"ColumnDataSource\"},\"glyph\":{\"id\":\"1717\",\"type\":\"Line\"},\"hover_glyph\":null,\"muted_glyph\":null,\"nonselection_glyph\":{\"id\":\"1718\",\"type\":\"Line\"},\"selection_glyph\":null,\"view\":{\"id\":\"1720\",\"type\":\"CDSView\"}},\"id\":\"1719\",\"type\":\"GlyphRenderer\"},{\"attributes\":{\"overlay\":{\"id\":\"1773\",\"type\":\"BoxAnnotation\"}},\"id\":\"1705\",\"type\":\"BoxZoomTool\"},{\"attributes\":{},\"id\":\"1706\",\"type\":\"SaveTool\"},{\"attributes\":{\"text\":\"\"},\"id\":\"1765\",\"type\":\"Title\"},{\"attributes\":{\"line_color\":\"#1f77b4\",\"x\":{\"field\":\"x\"},\"y\":{\"field\":\"y\"}},\"id\":\"1717\",\"type\":\"Line\"},{\"attributes\":{\"callback\":null,\"data\":{\"x\":[2,3,4,6],\"y\":[4,2,6,4]},\"selected\":{\"id\":\"1772\",\"type\":\"Selection\"},\"selection_policy\":{\"id\":\"1771\",\"type\":\"UnionRenderers\"}},\"id\":\"1716\",\"type\":\"ColumnDataSource\"},{\"attributes\":{},\"id\":\"1707\",\"type\":\"ResetTool\"},{\"attributes\":{},\"id\":\"1694\",\"type\":\"BasicTicker\"},{\"attributes\":{\"formatter\":{\"id\":\"1770\",\"type\":\"BasicTickFormatter\"},\"ticker\":{\"id\":\"1694\",\"type\":\"BasicTicker\"}},\"id\":\"1693\",\"type\":\"LinearAxis\"},{\"attributes\":{},\"id\":\"1689\",\"type\":\"LinearScale\"},{\"attributes\":{\"bottom_units\":\"screen\",\"fill_alpha\":{\"value\":0.5},\"fill_color\":{\"value\":\"lightgrey\"},\"left_units\":\"screen\",\"level\":\"overlay\",\"line_alpha\":{\"value\":1.0},\"line_color\":{\"value\":\"black\"},\"line_dash\":[4,4],\"line_width\":{\"value\":2},\"render_mode\":\"css\",\"right_units\":\"screen\",\"top_units\":\"screen\"},\"id\":\"1773\",\"type\":\"BoxAnnotation\"}],\"root_ids\":[\"1684\"]},\"title\":\"Bokeh Application\",\"version\":\"1.2.0\"}};\n",
       "  var render_items = [{\"docid\":\"c9cef289-62fa-4ac7-9c58-2c786cadb249\",\"roots\":{\"1684\":\"c5024814-aa4e-4974-9419-e9d1b04d2090\"}}];\n",
       "  root.Bokeh.embed.embed_items_notebook(docs_json, render_items);\n",
       "\n",
       "  }\n",
       "  if (root.Bokeh !== undefined) {\n",
       "    embed_document(root);\n",
       "  } else {\n",
       "    var attempts = 0;\n",
       "    var timer = setInterval(function(root) {\n",
       "      if (root.Bokeh !== undefined) {\n",
       "        embed_document(root);\n",
       "        clearInterval(timer);\n",
       "      }\n",
       "      attempts++;\n",
       "      if (attempts > 100) {\n",
       "        console.log(\"Bokeh: ERROR: Unable to run BokehJS code because BokehJS library is missing\");\n",
       "        clearInterval(timer);\n",
       "      }\n",
       "    }, 10, root)\n",
       "  }\n",
       "})(window);"
      ],
      "application/vnd.bokehjs_exec.v0+json": ""
     },
     "metadata": {
      "application/vnd.bokehjs_exec.v0+json": {
       "id": "1684"
      }
     },
     "output_type": "display_data"
    }
   ],
   "source": [
    "l.line([2,3,4,6],[4,2,6,4])\n",
    "\n",
    "show(l)"
   ]
  },
  {
   "cell_type": "code",
   "execution_count": 14,
   "metadata": {},
   "outputs": [
    {
     "data": {
      "text/html": [
       "\n",
       "\n",
       "\n",
       "\n",
       "\n",
       "\n",
       "  <div class=\"bk-root\" id=\"136f78d3-1b74-4c26-991c-4dc55fb630a5\" data-root-id=\"1684\"></div>\n"
      ]
     },
     "metadata": {},
     "output_type": "display_data"
    },
    {
     "data": {
      "application/javascript": [
       "(function(root) {\n",
       "  function embed_document(root) {\n",
       "    \n",
       "  var docs_json = {\"2c19c799-7ddb-4ea1-a5d2-7410655dde39\":{\"roots\":{\"references\":[{\"attributes\":{\"below\":[{\"id\":\"1693\",\"type\":\"LinearAxis\"}],\"center\":[{\"id\":\"1697\",\"type\":\"Grid\"},{\"id\":\"1702\",\"type\":\"Grid\"}],\"left\":[{\"id\":\"1698\",\"type\":\"LinearAxis\"}],\"plot_height\":350,\"plot_width\":450,\"renderers\":[{\"id\":\"1719\",\"type\":\"GlyphRenderer\"},{\"id\":\"1831\",\"type\":\"GlyphRenderer\"}],\"title\":{\"id\":\"1765\",\"type\":\"Title\"},\"toolbar\":{\"id\":\"1709\",\"type\":\"Toolbar\"},\"x_range\":{\"id\":\"1685\",\"type\":\"DataRange1d\"},\"x_scale\":{\"id\":\"1689\",\"type\":\"LinearScale\"},\"y_range\":{\"id\":\"1687\",\"type\":\"DataRange1d\"},\"y_scale\":{\"id\":\"1691\",\"type\":\"LinearScale\"}},\"id\":\"1684\",\"subtype\":\"Figure\",\"type\":\"Plot\"},{\"attributes\":{},\"id\":\"1772\",\"type\":\"Selection\"},{\"attributes\":{\"dimension\":1,\"ticker\":{\"id\":\"1699\",\"type\":\"BasicTicker\"}},\"id\":\"1702\",\"type\":\"Grid\"},{\"attributes\":{\"data_source\":{\"id\":\"1828\",\"type\":\"ColumnDataSource\"},\"glyph\":{\"id\":\"1829\",\"type\":\"Line\"},\"hover_glyph\":null,\"muted_glyph\":null,\"nonselection_glyph\":{\"id\":\"1830\",\"type\":\"Line\"},\"selection_glyph\":null,\"view\":{\"id\":\"1832\",\"type\":\"CDSView\"}},\"id\":\"1831\",\"type\":\"GlyphRenderer\"},{\"attributes\":{\"callback\":null},\"id\":\"1687\",\"type\":\"DataRange1d\"},{\"attributes\":{\"line_color\":\"red\",\"line_width\":3,\"x\":{\"field\":\"x\"},\"y\":{\"field\":\"y\"}},\"id\":\"1829\",\"type\":\"Line\"},{\"attributes\":{},\"id\":\"1771\",\"type\":\"UnionRenderers\"},{\"attributes\":{},\"id\":\"1703\",\"type\":\"PanTool\"},{\"attributes\":{},\"id\":\"1691\",\"type\":\"LinearScale\"},{\"attributes\":{},\"id\":\"1708\",\"type\":\"HelpTool\"},{\"attributes\":{\"ticker\":{\"id\":\"1694\",\"type\":\"BasicTicker\"}},\"id\":\"1697\",\"type\":\"Grid\"},{\"attributes\":{},\"id\":\"1770\",\"type\":\"BasicTickFormatter\"},{\"attributes\":{\"callback\":null},\"id\":\"1685\",\"type\":\"DataRange1d\"},{\"attributes\":{},\"id\":\"1768\",\"type\":\"BasicTickFormatter\"},{\"attributes\":{\"formatter\":{\"id\":\"1768\",\"type\":\"BasicTickFormatter\"},\"ticker\":{\"id\":\"1699\",\"type\":\"BasicTicker\"}},\"id\":\"1698\",\"type\":\"LinearAxis\"},{\"attributes\":{},\"id\":\"1886\",\"type\":\"Selection\"},{\"attributes\":{},\"id\":\"1699\",\"type\":\"BasicTicker\"},{\"attributes\":{\"source\":{\"id\":\"1716\",\"type\":\"ColumnDataSource\"}},\"id\":\"1720\",\"type\":\"CDSView\"},{\"attributes\":{},\"id\":\"1885\",\"type\":\"UnionRenderers\"},{\"attributes\":{},\"id\":\"1704\",\"type\":\"WheelZoomTool\"},{\"attributes\":{\"line_alpha\":0.1,\"line_color\":\"#1f77b4\",\"x\":{\"field\":\"x\"},\"y\":{\"field\":\"y\"}},\"id\":\"1718\",\"type\":\"Line\"},{\"attributes\":{\"active_drag\":\"auto\",\"active_inspect\":\"auto\",\"active_multi\":null,\"active_scroll\":\"auto\",\"active_tap\":\"auto\",\"tools\":[{\"id\":\"1703\",\"type\":\"PanTool\"},{\"id\":\"1704\",\"type\":\"WheelZoomTool\"},{\"id\":\"1705\",\"type\":\"BoxZoomTool\"},{\"id\":\"1706\",\"type\":\"SaveTool\"},{\"id\":\"1707\",\"type\":\"ResetTool\"},{\"id\":\"1708\",\"type\":\"HelpTool\"}]},\"id\":\"1709\",\"type\":\"Toolbar\"},{\"attributes\":{\"data_source\":{\"id\":\"1716\",\"type\":\"ColumnDataSource\"},\"glyph\":{\"id\":\"1717\",\"type\":\"Line\"},\"hover_glyph\":null,\"muted_glyph\":null,\"nonselection_glyph\":{\"id\":\"1718\",\"type\":\"Line\"},\"selection_glyph\":null,\"view\":{\"id\":\"1720\",\"type\":\"CDSView\"}},\"id\":\"1719\",\"type\":\"GlyphRenderer\"},{\"attributes\":{\"overlay\":{\"id\":\"1773\",\"type\":\"BoxAnnotation\"}},\"id\":\"1705\",\"type\":\"BoxZoomTool\"},{\"attributes\":{},\"id\":\"1706\",\"type\":\"SaveTool\"},{\"attributes\":{\"text\":\"\"},\"id\":\"1765\",\"type\":\"Title\"},{\"attributes\":{\"line_alpha\":0.1,\"line_color\":\"#1f77b4\",\"line_width\":3,\"x\":{\"field\":\"x\"},\"y\":{\"field\":\"y\"}},\"id\":\"1830\",\"type\":\"Line\"},{\"attributes\":{\"line_color\":\"#1f77b4\",\"x\":{\"field\":\"x\"},\"y\":{\"field\":\"y\"}},\"id\":\"1717\",\"type\":\"Line\"},{\"attributes\":{\"callback\":null,\"data\":{\"x\":[2,3,4,6],\"y\":[4,2,6,4]},\"selected\":{\"id\":\"1772\",\"type\":\"Selection\"},\"selection_policy\":{\"id\":\"1771\",\"type\":\"UnionRenderers\"}},\"id\":\"1716\",\"type\":\"ColumnDataSource\"},{\"attributes\":{},\"id\":\"1707\",\"type\":\"ResetTool\"},{\"attributes\":{\"callback\":null,\"data\":{\"x\":[2,3,4,6],\"y\":[4,2,6,4]},\"selected\":{\"id\":\"1886\",\"type\":\"Selection\"},\"selection_policy\":{\"id\":\"1885\",\"type\":\"UnionRenderers\"}},\"id\":\"1828\",\"type\":\"ColumnDataSource\"},{\"attributes\":{},\"id\":\"1694\",\"type\":\"BasicTicker\"},{\"attributes\":{\"formatter\":{\"id\":\"1770\",\"type\":\"BasicTickFormatter\"},\"ticker\":{\"id\":\"1694\",\"type\":\"BasicTicker\"}},\"id\":\"1693\",\"type\":\"LinearAxis\"},{\"attributes\":{},\"id\":\"1689\",\"type\":\"LinearScale\"},{\"attributes\":{\"source\":{\"id\":\"1828\",\"type\":\"ColumnDataSource\"}},\"id\":\"1832\",\"type\":\"CDSView\"},{\"attributes\":{\"bottom_units\":\"screen\",\"fill_alpha\":{\"value\":0.5},\"fill_color\":{\"value\":\"lightgrey\"},\"left_units\":\"screen\",\"level\":\"overlay\",\"line_alpha\":{\"value\":1.0},\"line_color\":{\"value\":\"black\"},\"line_dash\":[4,4],\"line_width\":{\"value\":2},\"render_mode\":\"css\",\"right_units\":\"screen\",\"top_units\":\"screen\"},\"id\":\"1773\",\"type\":\"BoxAnnotation\"}],\"root_ids\":[\"1684\"]},\"title\":\"Bokeh Application\",\"version\":\"1.2.0\"}};\n",
       "  var render_items = [{\"docid\":\"2c19c799-7ddb-4ea1-a5d2-7410655dde39\",\"roots\":{\"1684\":\"136f78d3-1b74-4c26-991c-4dc55fb630a5\"}}];\n",
       "  root.Bokeh.embed.embed_items_notebook(docs_json, render_items);\n",
       "\n",
       "  }\n",
       "  if (root.Bokeh !== undefined) {\n",
       "    embed_document(root);\n",
       "  } else {\n",
       "    var attempts = 0;\n",
       "    var timer = setInterval(function(root) {\n",
       "      if (root.Bokeh !== undefined) {\n",
       "        embed_document(root);\n",
       "        clearInterval(timer);\n",
       "      }\n",
       "      attempts++;\n",
       "      if (attempts > 100) {\n",
       "        console.log(\"Bokeh: ERROR: Unable to run BokehJS code because BokehJS library is missing\");\n",
       "        clearInterval(timer);\n",
       "      }\n",
       "    }, 10, root)\n",
       "  }\n",
       "})(window);"
      ],
      "application/vnd.bokehjs_exec.v0+json": ""
     },
     "metadata": {
      "application/vnd.bokehjs_exec.v0+json": {
       "id": "1684"
      }
     },
     "output_type": "display_data"
    }
   ],
   "source": [
    "l.line([2,3,4,6],[4,2,6,4], line_width = 3, color = 'red')\n",
    "\n",
    "show(l)"
   ]
  },
  {
   "cell_type": "code",
   "execution_count": 15,
   "metadata": {},
   "outputs": [],
   "source": [
    "l = figure(plot_width = 450, plot_height = 350)"
   ]
  },
  {
   "cell_type": "code",
   "execution_count": 16,
   "metadata": {},
   "outputs": [
    {
     "data": {
      "text/html": [
       "\n",
       "\n",
       "\n",
       "\n",
       "\n",
       "\n",
       "  <div class=\"bk-root\" id=\"29a82290-9fd9-4e11-9653-bc185d7c75fa\" data-root-id=\"1954\"></div>\n"
      ]
     },
     "metadata": {},
     "output_type": "display_data"
    },
    {
     "data": {
      "application/javascript": [
       "(function(root) {\n",
       "  function embed_document(root) {\n",
       "    \n",
       "  var docs_json = {\"765d9ab7-0d23-40b7-81e7-774be22d49b2\":{\"roots\":{\"references\":[{\"attributes\":{\"below\":[{\"id\":\"1963\",\"type\":\"LinearAxis\"}],\"center\":[{\"id\":\"1967\",\"type\":\"Grid\"},{\"id\":\"1972\",\"type\":\"Grid\"}],\"left\":[{\"id\":\"1968\",\"type\":\"LinearAxis\"}],\"plot_height\":350,\"plot_width\":450,\"renderers\":[{\"id\":\"1989\",\"type\":\"GlyphRenderer\"}],\"title\":{\"id\":\"2046\",\"type\":\"Title\"},\"toolbar\":{\"id\":\"1979\",\"type\":\"Toolbar\"},\"x_range\":{\"id\":\"1955\",\"type\":\"DataRange1d\"},\"x_scale\":{\"id\":\"1959\",\"type\":\"LinearScale\"},\"y_range\":{\"id\":\"1957\",\"type\":\"DataRange1d\"},\"y_scale\":{\"id\":\"1961\",\"type\":\"LinearScale\"}},\"id\":\"1954\",\"subtype\":\"Figure\",\"type\":\"Plot\"},{\"attributes\":{\"ticker\":{\"id\":\"1964\",\"type\":\"BasicTicker\"}},\"id\":\"1967\",\"type\":\"Grid\"},{\"attributes\":{},\"id\":\"1969\",\"type\":\"BasicTicker\"},{\"attributes\":{\"formatter\":{\"id\":\"2051\",\"type\":\"BasicTickFormatter\"},\"ticker\":{\"id\":\"1964\",\"type\":\"BasicTicker\"}},\"id\":\"1963\",\"type\":\"LinearAxis\"},{\"attributes\":{\"dimension\":1,\"ticker\":{\"id\":\"1969\",\"type\":\"BasicTicker\"}},\"id\":\"1972\",\"type\":\"Grid\"},{\"attributes\":{\"callback\":null,\"data\":{\"x\":[2,3,4,6],\"y\":[4,2,6,4]},\"selected\":{\"id\":\"2053\",\"type\":\"Selection\"},\"selection_policy\":{\"id\":\"2052\",\"type\":\"UnionRenderers\"}},\"id\":\"1986\",\"type\":\"ColumnDataSource\"},{\"attributes\":{\"line_color\":\"red\",\"line_width\":3,\"x\":{\"field\":\"x\"},\"y\":{\"field\":\"y\"}},\"id\":\"1987\",\"type\":\"Line\"},{\"attributes\":{\"text\":\"\"},\"id\":\"2046\",\"type\":\"Title\"},{\"attributes\":{\"line_alpha\":0.1,\"line_color\":\"#1f77b4\",\"line_width\":3,\"x\":{\"field\":\"x\"},\"y\":{\"field\":\"y\"}},\"id\":\"1988\",\"type\":\"Line\"},{\"attributes\":{},\"id\":\"1959\",\"type\":\"LinearScale\"},{\"attributes\":{\"data_source\":{\"id\":\"1986\",\"type\":\"ColumnDataSource\"},\"glyph\":{\"id\":\"1987\",\"type\":\"Line\"},\"hover_glyph\":null,\"muted_glyph\":null,\"nonselection_glyph\":{\"id\":\"1988\",\"type\":\"Line\"},\"selection_glyph\":null,\"view\":{\"id\":\"1990\",\"type\":\"CDSView\"}},\"id\":\"1989\",\"type\":\"GlyphRenderer\"},{\"attributes\":{},\"id\":\"1961\",\"type\":\"LinearScale\"},{\"attributes\":{},\"id\":\"1973\",\"type\":\"PanTool\"},{\"attributes\":{\"callback\":null},\"id\":\"1957\",\"type\":\"DataRange1d\"},{\"attributes\":{\"source\":{\"id\":\"1986\",\"type\":\"ColumnDataSource\"}},\"id\":\"1990\",\"type\":\"CDSView\"},{\"attributes\":{},\"id\":\"1974\",\"type\":\"WheelZoomTool\"},{\"attributes\":{\"overlay\":{\"id\":\"2054\",\"type\":\"BoxAnnotation\"}},\"id\":\"1975\",\"type\":\"BoxZoomTool\"},{\"attributes\":{},\"id\":\"2049\",\"type\":\"BasicTickFormatter\"},{\"attributes\":{},\"id\":\"1976\",\"type\":\"SaveTool\"},{\"attributes\":{},\"id\":\"1977\",\"type\":\"ResetTool\"},{\"attributes\":{},\"id\":\"2051\",\"type\":\"BasicTickFormatter\"},{\"attributes\":{},\"id\":\"1978\",\"type\":\"HelpTool\"},{\"attributes\":{},\"id\":\"2052\",\"type\":\"UnionRenderers\"},{\"attributes\":{\"active_drag\":\"auto\",\"active_inspect\":\"auto\",\"active_multi\":null,\"active_scroll\":\"auto\",\"active_tap\":\"auto\",\"tools\":[{\"id\":\"1973\",\"type\":\"PanTool\"},{\"id\":\"1974\",\"type\":\"WheelZoomTool\"},{\"id\":\"1975\",\"type\":\"BoxZoomTool\"},{\"id\":\"1976\",\"type\":\"SaveTool\"},{\"id\":\"1977\",\"type\":\"ResetTool\"},{\"id\":\"1978\",\"type\":\"HelpTool\"}]},\"id\":\"1979\",\"type\":\"Toolbar\"},{\"attributes\":{},\"id\":\"2053\",\"type\":\"Selection\"},{\"attributes\":{\"bottom_units\":\"screen\",\"fill_alpha\":{\"value\":0.5},\"fill_color\":{\"value\":\"lightgrey\"},\"left_units\":\"screen\",\"level\":\"overlay\",\"line_alpha\":{\"value\":1.0},\"line_color\":{\"value\":\"black\"},\"line_dash\":[4,4],\"line_width\":{\"value\":2},\"render_mode\":\"css\",\"right_units\":\"screen\",\"top_units\":\"screen\"},\"id\":\"2054\",\"type\":\"BoxAnnotation\"},{\"attributes\":{},\"id\":\"1964\",\"type\":\"BasicTicker\"},{\"attributes\":{\"callback\":null},\"id\":\"1955\",\"type\":\"DataRange1d\"},{\"attributes\":{\"formatter\":{\"id\":\"2049\",\"type\":\"BasicTickFormatter\"},\"ticker\":{\"id\":\"1969\",\"type\":\"BasicTicker\"}},\"id\":\"1968\",\"type\":\"LinearAxis\"}],\"root_ids\":[\"1954\"]},\"title\":\"Bokeh Application\",\"version\":\"1.2.0\"}};\n",
       "  var render_items = [{\"docid\":\"765d9ab7-0d23-40b7-81e7-774be22d49b2\",\"roots\":{\"1954\":\"29a82290-9fd9-4e11-9653-bc185d7c75fa\"}}];\n",
       "  root.Bokeh.embed.embed_items_notebook(docs_json, render_items);\n",
       "\n",
       "  }\n",
       "  if (root.Bokeh !== undefined) {\n",
       "    embed_document(root);\n",
       "  } else {\n",
       "    var attempts = 0;\n",
       "    var timer = setInterval(function(root) {\n",
       "      if (root.Bokeh !== undefined) {\n",
       "        embed_document(root);\n",
       "        clearInterval(timer);\n",
       "      }\n",
       "      attempts++;\n",
       "      if (attempts > 100) {\n",
       "        console.log(\"Bokeh: ERROR: Unable to run BokehJS code because BokehJS library is missing\");\n",
       "        clearInterval(timer);\n",
       "      }\n",
       "    }, 10, root)\n",
       "  }\n",
       "})(window);"
      ],
      "application/vnd.bokehjs_exec.v0+json": ""
     },
     "metadata": {
      "application/vnd.bokehjs_exec.v0+json": {
       "id": "1954"
      }
     },
     "output_type": "display_data"
    }
   ],
   "source": [
    "l.line([2,3,4,6],[4,2,6,4], line_width = 3, color = 'red')\n",
    "\n",
    "show(l)"
   ]
  },
  {
   "cell_type": "code",
   "execution_count": 17,
   "metadata": {},
   "outputs": [],
   "source": [
    "l = figure(plot_width = 450, plot_height = 350)"
   ]
  },
  {
   "cell_type": "code",
   "execution_count": 18,
   "metadata": {},
   "outputs": [
    {
     "data": {
      "text/html": [
       "\n",
       "\n",
       "\n",
       "\n",
       "\n",
       "\n",
       "  <div class=\"bk-root\" id=\"b4cb85e2-0f69-4c91-aeb6-2f88d2e26282\" data-root-id=\"2109\"></div>\n"
      ]
     },
     "metadata": {},
     "output_type": "display_data"
    },
    {
     "data": {
      "application/javascript": [
       "(function(root) {\n",
       "  function embed_document(root) {\n",
       "    \n",
       "  var docs_json = {\"66ed332f-7aca-4134-a7d6-f076e89cd204\":{\"roots\":{\"references\":[{\"attributes\":{\"below\":[{\"id\":\"2118\",\"type\":\"LinearAxis\"}],\"center\":[{\"id\":\"2122\",\"type\":\"Grid\"},{\"id\":\"2127\",\"type\":\"Grid\"}],\"left\":[{\"id\":\"2123\",\"type\":\"LinearAxis\"}],\"plot_height\":350,\"plot_width\":450,\"renderers\":[{\"id\":\"2144\",\"type\":\"GlyphRenderer\"},{\"id\":\"2149\",\"type\":\"GlyphRenderer\"}],\"title\":{\"id\":\"2215\",\"type\":\"Title\"},\"toolbar\":{\"id\":\"2134\",\"type\":\"Toolbar\"},\"x_range\":{\"id\":\"2110\",\"type\":\"DataRange1d\"},\"x_scale\":{\"id\":\"2114\",\"type\":\"LinearScale\"},\"y_range\":{\"id\":\"2112\",\"type\":\"DataRange1d\"},\"y_scale\":{\"id\":\"2116\",\"type\":\"LinearScale\"}},\"id\":\"2109\",\"subtype\":\"Figure\",\"type\":\"Plot\"},{\"attributes\":{\"ticker\":{\"id\":\"2119\",\"type\":\"BasicTicker\"}},\"id\":\"2122\",\"type\":\"Grid\"},{\"attributes\":{\"active_drag\":\"auto\",\"active_inspect\":\"auto\",\"active_multi\":null,\"active_scroll\":\"auto\",\"active_tap\":\"auto\",\"tools\":[{\"id\":\"2128\",\"type\":\"PanTool\"},{\"id\":\"2129\",\"type\":\"WheelZoomTool\"},{\"id\":\"2130\",\"type\":\"BoxZoomTool\"},{\"id\":\"2131\",\"type\":\"SaveTool\"},{\"id\":\"2132\",\"type\":\"ResetTool\"},{\"id\":\"2133\",\"type\":\"HelpTool\"}]},\"id\":\"2134\",\"type\":\"Toolbar\"},{\"attributes\":{\"callback\":null,\"data\":{\"x\":[2,3,4,5],\"y\":[2,3,4,5]},\"selected\":{\"id\":\"2224\",\"type\":\"Selection\"},\"selection_policy\":{\"id\":\"2223\",\"type\":\"UnionRenderers\"}},\"id\":\"2146\",\"type\":\"ColumnDataSource\"},{\"attributes\":{\"callback\":null,\"data\":{\"x\":[2,3,4,5],\"y\":[2,3,4,5]},\"selected\":{\"id\":\"2222\",\"type\":\"Selection\"},\"selection_policy\":{\"id\":\"2221\",\"type\":\"UnionRenderers\"}},\"id\":\"2141\",\"type\":\"ColumnDataSource\"},{\"attributes\":{\"dimension\":1,\"ticker\":{\"id\":\"2124\",\"type\":\"BasicTicker\"}},\"id\":\"2127\",\"type\":\"Grid\"},{\"attributes\":{},\"id\":\"2124\",\"type\":\"BasicTicker\"},{\"attributes\":{\"line_color\":\"red\",\"line_width\":3,\"x\":{\"field\":\"x\"},\"y\":{\"field\":\"y\"}},\"id\":\"2142\",\"type\":\"Line\"},{\"attributes\":{\"line_alpha\":0.1,\"line_color\":\"#1f77b4\",\"line_width\":3,\"x\":{\"field\":\"x\"},\"y\":{\"field\":\"y\"}},\"id\":\"2143\",\"type\":\"Line\"},{\"attributes\":{\"data_source\":{\"id\":\"2141\",\"type\":\"ColumnDataSource\"},\"glyph\":{\"id\":\"2142\",\"type\":\"Line\"},\"hover_glyph\":null,\"muted_glyph\":null,\"nonselection_glyph\":{\"id\":\"2143\",\"type\":\"Line\"},\"selection_glyph\":null,\"view\":{\"id\":\"2145\",\"type\":\"CDSView\"}},\"id\":\"2144\",\"type\":\"GlyphRenderer\"},{\"attributes\":{\"source\":{\"id\":\"2141\",\"type\":\"ColumnDataSource\"}},\"id\":\"2145\",\"type\":\"CDSView\"},{\"attributes\":{},\"id\":\"2119\",\"type\":\"BasicTicker\"},{\"attributes\":{},\"id\":\"2129\",\"type\":\"WheelZoomTool\"},{\"attributes\":{\"fill_color\":{\"value\":\"yellow\"},\"line_color\":{\"value\":\"green\"},\"size\":{\"units\":\"screen\",\"value\":14},\"x\":{\"field\":\"x\"},\"y\":{\"field\":\"y\"}},\"id\":\"2147\",\"type\":\"Triangle\"},{\"attributes\":{\"fill_alpha\":{\"value\":0.1},\"fill_color\":{\"value\":\"#1f77b4\"},\"line_alpha\":{\"value\":0.1},\"line_color\":{\"value\":\"#1f77b4\"},\"size\":{\"units\":\"screen\",\"value\":14},\"x\":{\"field\":\"x\"},\"y\":{\"field\":\"y\"}},\"id\":\"2148\",\"type\":\"Triangle\"},{\"attributes\":{\"bottom_units\":\"screen\",\"fill_alpha\":{\"value\":0.5},\"fill_color\":{\"value\":\"lightgrey\"},\"left_units\":\"screen\",\"level\":\"overlay\",\"line_alpha\":{\"value\":1.0},\"line_color\":{\"value\":\"black\"},\"line_dash\":[4,4],\"line_width\":{\"value\":2},\"render_mode\":\"css\",\"right_units\":\"screen\",\"top_units\":\"screen\"},\"id\":\"2225\",\"type\":\"BoxAnnotation\"},{\"attributes\":{\"data_source\":{\"id\":\"2146\",\"type\":\"ColumnDataSource\"},\"glyph\":{\"id\":\"2147\",\"type\":\"Triangle\"},\"hover_glyph\":null,\"muted_glyph\":null,\"nonselection_glyph\":{\"id\":\"2148\",\"type\":\"Triangle\"},\"selection_glyph\":null,\"view\":{\"id\":\"2150\",\"type\":\"CDSView\"}},\"id\":\"2149\",\"type\":\"GlyphRenderer\"},{\"attributes\":{},\"id\":\"2128\",\"type\":\"PanTool\"},{\"attributes\":{\"formatter\":{\"id\":\"2218\",\"type\":\"BasicTickFormatter\"},\"ticker\":{\"id\":\"2124\",\"type\":\"BasicTicker\"}},\"id\":\"2123\",\"type\":\"LinearAxis\"},{\"attributes\":{\"source\":{\"id\":\"2146\",\"type\":\"ColumnDataSource\"}},\"id\":\"2150\",\"type\":\"CDSView\"},{\"attributes\":{},\"id\":\"2218\",\"type\":\"BasicTickFormatter\"},{\"attributes\":{\"overlay\":{\"id\":\"2225\",\"type\":\"BoxAnnotation\"}},\"id\":\"2130\",\"type\":\"BoxZoomTool\"},{\"attributes\":{},\"id\":\"2224\",\"type\":\"Selection\"},{\"attributes\":{\"text\":\"\"},\"id\":\"2215\",\"type\":\"Title\"},{\"attributes\":{},\"id\":\"2133\",\"type\":\"HelpTool\"},{\"attributes\":{\"formatter\":{\"id\":\"2220\",\"type\":\"BasicTickFormatter\"},\"ticker\":{\"id\":\"2119\",\"type\":\"BasicTicker\"}},\"id\":\"2118\",\"type\":\"LinearAxis\"},{\"attributes\":{},\"id\":\"2116\",\"type\":\"LinearScale\"},{\"attributes\":{},\"id\":\"2131\",\"type\":\"SaveTool\"},{\"attributes\":{},\"id\":\"2220\",\"type\":\"BasicTickFormatter\"},{\"attributes\":{},\"id\":\"2223\",\"type\":\"UnionRenderers\"},{\"attributes\":{},\"id\":\"2132\",\"type\":\"ResetTool\"},{\"attributes\":{\"callback\":null},\"id\":\"2112\",\"type\":\"DataRange1d\"},{\"attributes\":{},\"id\":\"2221\",\"type\":\"UnionRenderers\"},{\"attributes\":{},\"id\":\"2222\",\"type\":\"Selection\"},{\"attributes\":{},\"id\":\"2114\",\"type\":\"LinearScale\"},{\"attributes\":{\"callback\":null},\"id\":\"2110\",\"type\":\"DataRange1d\"}],\"root_ids\":[\"2109\"]},\"title\":\"Bokeh Application\",\"version\":\"1.2.0\"}};\n",
       "  var render_items = [{\"docid\":\"66ed332f-7aca-4134-a7d6-f076e89cd204\",\"roots\":{\"2109\":\"b4cb85e2-0f69-4c91-aeb6-2f88d2e26282\"}}];\n",
       "  root.Bokeh.embed.embed_items_notebook(docs_json, render_items);\n",
       "\n",
       "  }\n",
       "  if (root.Bokeh !== undefined) {\n",
       "    embed_document(root);\n",
       "  } else {\n",
       "    var attempts = 0;\n",
       "    var timer = setInterval(function(root) {\n",
       "      if (root.Bokeh !== undefined) {\n",
       "        embed_document(root);\n",
       "        clearInterval(timer);\n",
       "      }\n",
       "      attempts++;\n",
       "      if (attempts > 100) {\n",
       "        console.log(\"Bokeh: ERROR: Unable to run BokehJS code because BokehJS library is missing\");\n",
       "        clearInterval(timer);\n",
       "      }\n",
       "    }, 10, root)\n",
       "  }\n",
       "})(window);"
      ],
      "application/vnd.bokehjs_exec.v0+json": ""
     },
     "metadata": {
      "application/vnd.bokehjs_exec.v0+json": {
       "id": "2109"
      }
     },
     "output_type": "display_data"
    }
   ],
   "source": [
    "l.line([2,3,4,5], [2,3,4,5], line_width = 3, color = 'red')\n",
    "l.triangle([2,3,4,5],[2,3,4,5], size = 14, fill_color = 'yellow', color='green')\n",
    "\n",
    "show(l)"
   ]
  },
  {
   "cell_type": "code",
   "execution_count": null,
   "metadata": {},
   "outputs": [],
   "source": []
  },
  {
   "cell_type": "code",
   "execution_count": 19,
   "metadata": {},
   "outputs": [
    {
     "data": {
      "text/html": [
       "\n",
       "\n",
       "\n",
       "\n",
       "\n",
       "\n",
       "  <div class=\"bk-root\" id=\"52731c05-6e3a-435c-b51f-e72a61223d1f\" data-root-id=\"2109\"></div>\n"
      ]
     },
     "metadata": {},
     "output_type": "display_data"
    },
    {
     "data": {
      "application/javascript": [
       "(function(root) {\n",
       "  function embed_document(root) {\n",
       "    \n",
       "  var docs_json = {\"378cc70e-a231-4ff5-8e44-8ee96113ac2c\":{\"roots\":{\"references\":[{\"attributes\":{\"below\":[{\"id\":\"2118\",\"type\":\"LinearAxis\"}],\"center\":[{\"id\":\"2122\",\"type\":\"Grid\"},{\"id\":\"2127\",\"type\":\"Grid\"}],\"left\":[{\"id\":\"2123\",\"type\":\"LinearAxis\"}],\"plot_height\":350,\"plot_width\":450,\"renderers\":[{\"id\":\"2144\",\"type\":\"GlyphRenderer\"},{\"id\":\"2149\",\"type\":\"GlyphRenderer\"},{\"id\":\"2295\",\"type\":\"GlyphRenderer\"},{\"id\":\"2377\",\"type\":\"GlyphRenderer\"},{\"id\":\"2461\",\"type\":\"GlyphRenderer\"},{\"id\":\"2547\",\"type\":\"GlyphRenderer\"}],\"title\":{\"id\":\"2215\",\"type\":\"Title\"},\"toolbar\":{\"id\":\"2134\",\"type\":\"Toolbar\"},\"x_range\":{\"id\":\"2110\",\"type\":\"DataRange1d\"},\"x_scale\":{\"id\":\"2114\",\"type\":\"LinearScale\"},\"y_range\":{\"id\":\"2112\",\"type\":\"DataRange1d\"},\"y_scale\":{\"id\":\"2116\",\"type\":\"LinearScale\"}},\"id\":\"2109\",\"subtype\":\"Figure\",\"type\":\"Plot\"},{\"attributes\":{\"ticker\":{\"id\":\"2119\",\"type\":\"BasicTicker\"}},\"id\":\"2122\",\"type\":\"Grid\"},{\"attributes\":{},\"id\":\"2542\",\"type\":\"Selection\"},{\"attributes\":{\"active_drag\":\"auto\",\"active_inspect\":\"auto\",\"active_multi\":null,\"active_scroll\":\"auto\",\"active_tap\":\"auto\",\"tools\":[{\"id\":\"2128\",\"type\":\"PanTool\"},{\"id\":\"2129\",\"type\":\"WheelZoomTool\"},{\"id\":\"2130\",\"type\":\"BoxZoomTool\"},{\"id\":\"2131\",\"type\":\"SaveTool\"},{\"id\":\"2132\",\"type\":\"ResetTool\"},{\"id\":\"2133\",\"type\":\"HelpTool\"}]},\"id\":\"2134\",\"type\":\"Toolbar\"},{\"attributes\":{\"fill_color\":{\"value\":\"orange\"},\"size\":{\"units\":\"screen\",\"value\":14},\"x\":{\"field\":\"x\"},\"y\":{\"field\":\"y\"}},\"id\":\"2545\",\"type\":\"Circle\"},{\"attributes\":{\"callback\":null,\"data\":{\"x\":[2,3,4,5],\"y\":[2,3,4,5]},\"selected\":{\"id\":\"2456\",\"type\":\"Selection\"},\"selection_policy\":{\"id\":\"2455\",\"type\":\"UnionRenderers\"}},\"id\":\"2374\",\"type\":\"ColumnDataSource\"},{\"attributes\":{\"callback\":null,\"data\":{\"x\":[2,3,4,5],\"y\":[2,3,4,5]},\"selected\":{\"id\":\"2224\",\"type\":\"Selection\"},\"selection_policy\":{\"id\":\"2223\",\"type\":\"UnionRenderers\"}},\"id\":\"2146\",\"type\":\"ColumnDataSource\"},{\"attributes\":{\"callback\":null,\"data\":{\"x\":[2,3,4,5],\"y\":[2,3,4,5]},\"selected\":{\"id\":\"2372\",\"type\":\"Selection\"},\"selection_policy\":{\"id\":\"2371\",\"type\":\"UnionRenderers\"}},\"id\":\"2292\",\"type\":\"ColumnDataSource\"},{\"attributes\":{\"source\":{\"id\":\"2458\",\"type\":\"ColumnDataSource\"}},\"id\":\"2462\",\"type\":\"CDSView\"},{\"attributes\":{\"fill_alpha\":{\"value\":0.1},\"fill_color\":{\"value\":\"#1f77b4\"},\"line_alpha\":{\"value\":0.1},\"line_color\":{\"value\":\"#1f77b4\"},\"size\":{\"units\":\"screen\",\"value\":14},\"x\":{\"field\":\"x\"},\"y\":{\"field\":\"y\"}},\"id\":\"2546\",\"type\":\"Circle\"},{\"attributes\":{\"callback\":null,\"data\":{\"x\":[2,3,4,5],\"y\":[2,3,4,5]},\"selected\":{\"id\":\"2222\",\"type\":\"Selection\"},\"selection_policy\":{\"id\":\"2221\",\"type\":\"UnionRenderers\"}},\"id\":\"2141\",\"type\":\"ColumnDataSource\"},{\"attributes\":{\"line_color\":\"green\",\"line_width\":3,\"x\":{\"field\":\"x\"},\"y\":{\"field\":\"y\"}},\"id\":\"2459\",\"type\":\"Line\"},{\"attributes\":{\"dimension\":1,\"ticker\":{\"id\":\"2124\",\"type\":\"BasicTicker\"}},\"id\":\"2127\",\"type\":\"Grid\"},{\"attributes\":{\"line_color\":\"red\",\"line_width\":3,\"x\":{\"field\":\"x\"},\"y\":{\"field\":\"y\"}},\"id\":\"2293\",\"type\":\"Line\"},{\"attributes\":{},\"id\":\"2124\",\"type\":\"BasicTicker\"},{\"attributes\":{\"data_source\":{\"id\":\"2544\",\"type\":\"ColumnDataSource\"},\"glyph\":{\"id\":\"2545\",\"type\":\"Circle\"},\"hover_glyph\":null,\"muted_glyph\":null,\"nonselection_glyph\":{\"id\":\"2546\",\"type\":\"Circle\"},\"selection_glyph\":null,\"view\":{\"id\":\"2548\",\"type\":\"CDSView\"}},\"id\":\"2547\",\"type\":\"GlyphRenderer\"},{\"attributes\":{\"line_color\":\"red\",\"line_width\":3,\"x\":{\"field\":\"x\"},\"y\":{\"field\":\"y\"}},\"id\":\"2142\",\"type\":\"Line\"},{\"attributes\":{\"line_alpha\":0.1,\"line_color\":\"#1f77b4\",\"line_width\":3,\"x\":{\"field\":\"x\"},\"y\":{\"field\":\"y\"}},\"id\":\"2294\",\"type\":\"Line\"},{\"attributes\":{\"source\":{\"id\":\"2544\",\"type\":\"ColumnDataSource\"}},\"id\":\"2548\",\"type\":\"CDSView\"},{\"attributes\":{\"line_alpha\":0.1,\"line_color\":\"#1f77b4\",\"line_width\":3,\"x\":{\"field\":\"x\"},\"y\":{\"field\":\"y\"}},\"id\":\"2143\",\"type\":\"Line\"},{\"attributes\":{\"data_source\":{\"id\":\"2292\",\"type\":\"ColumnDataSource\"},\"glyph\":{\"id\":\"2293\",\"type\":\"Line\"},\"hover_glyph\":null,\"muted_glyph\":null,\"nonselection_glyph\":{\"id\":\"2294\",\"type\":\"Line\"},\"selection_glyph\":null,\"view\":{\"id\":\"2296\",\"type\":\"CDSView\"}},\"id\":\"2295\",\"type\":\"GlyphRenderer\"},{\"attributes\":{\"callback\":null,\"data\":{\"x\":[2,3,4,6],\"y\":[4,2,6,4]},\"selected\":{\"id\":\"2542\",\"type\":\"Selection\"},\"selection_policy\":{\"id\":\"2541\",\"type\":\"UnionRenderers\"}},\"id\":\"2458\",\"type\":\"ColumnDataSource\"},{\"attributes\":{\"data_source\":{\"id\":\"2141\",\"type\":\"ColumnDataSource\"},\"glyph\":{\"id\":\"2142\",\"type\":\"Line\"},\"hover_glyph\":null,\"muted_glyph\":null,\"nonselection_glyph\":{\"id\":\"2143\",\"type\":\"Line\"},\"selection_glyph\":null,\"view\":{\"id\":\"2145\",\"type\":\"CDSView\"}},\"id\":\"2144\",\"type\":\"GlyphRenderer\"},{\"attributes\":{},\"id\":\"2629\",\"type\":\"UnionRenderers\"},{\"attributes\":{\"source\":{\"id\":\"2292\",\"type\":\"ColumnDataSource\"}},\"id\":\"2296\",\"type\":\"CDSView\"},{\"attributes\":{\"source\":{\"id\":\"2141\",\"type\":\"ColumnDataSource\"}},\"id\":\"2145\",\"type\":\"CDSView\"},{\"attributes\":{},\"id\":\"2630\",\"type\":\"Selection\"},{\"attributes\":{},\"id\":\"2119\",\"type\":\"BasicTicker\"},{\"attributes\":{\"callback\":null,\"data\":{\"x\":[2,3,4,6],\"y\":[4,2,6,4]},\"selected\":{\"id\":\"2630\",\"type\":\"Selection\"},\"selection_policy\":{\"id\":\"2629\",\"type\":\"UnionRenderers\"}},\"id\":\"2544\",\"type\":\"ColumnDataSource\"},{\"attributes\":{},\"id\":\"2129\",\"type\":\"WheelZoomTool\"},{\"attributes\":{\"fill_color\":{\"value\":\"yellow\"},\"line_color\":{\"value\":\"green\"},\"size\":{\"units\":\"screen\",\"value\":14},\"x\":{\"field\":\"x\"},\"y\":{\"field\":\"y\"}},\"id\":\"2147\",\"type\":\"Triangle\"},{\"attributes\":{},\"id\":\"2372\",\"type\":\"Selection\"},{\"attributes\":{\"data_source\":{\"id\":\"2458\",\"type\":\"ColumnDataSource\"},\"glyph\":{\"id\":\"2459\",\"type\":\"Line\"},\"hover_glyph\":null,\"muted_glyph\":null,\"nonselection_glyph\":{\"id\":\"2460\",\"type\":\"Line\"},\"selection_glyph\":null,\"view\":{\"id\":\"2462\",\"type\":\"CDSView\"}},\"id\":\"2461\",\"type\":\"GlyphRenderer\"},{\"attributes\":{\"fill_alpha\":{\"value\":0.1},\"fill_color\":{\"value\":\"#1f77b4\"},\"line_alpha\":{\"value\":0.1},\"line_color\":{\"value\":\"#1f77b4\"},\"size\":{\"units\":\"screen\",\"value\":14},\"x\":{\"field\":\"x\"},\"y\":{\"field\":\"y\"}},\"id\":\"2148\",\"type\":\"Triangle\"},{\"attributes\":{\"fill_color\":{\"value\":\"yellow\"},\"line_color\":{\"value\":\"green\"},\"size\":{\"units\":\"screen\",\"value\":14},\"x\":{\"field\":\"x\"},\"y\":{\"field\":\"y\"}},\"id\":\"2375\",\"type\":\"Triangle\"},{\"attributes\":{\"bottom_units\":\"screen\",\"fill_alpha\":{\"value\":0.5},\"fill_color\":{\"value\":\"lightgrey\"},\"left_units\":\"screen\",\"level\":\"overlay\",\"line_alpha\":{\"value\":1.0},\"line_color\":{\"value\":\"black\"},\"line_dash\":[4,4],\"line_width\":{\"value\":2},\"render_mode\":\"css\",\"right_units\":\"screen\",\"top_units\":\"screen\"},\"id\":\"2225\",\"type\":\"BoxAnnotation\"},{\"attributes\":{\"data_source\":{\"id\":\"2146\",\"type\":\"ColumnDataSource\"},\"glyph\":{\"id\":\"2147\",\"type\":\"Triangle\"},\"hover_glyph\":null,\"muted_glyph\":null,\"nonselection_glyph\":{\"id\":\"2148\",\"type\":\"Triangle\"},\"selection_glyph\":null,\"view\":{\"id\":\"2150\",\"type\":\"CDSView\"}},\"id\":\"2149\",\"type\":\"GlyphRenderer\"},{\"attributes\":{},\"id\":\"2128\",\"type\":\"PanTool\"},{\"attributes\":{\"formatter\":{\"id\":\"2218\",\"type\":\"BasicTickFormatter\"},\"ticker\":{\"id\":\"2124\",\"type\":\"BasicTicker\"}},\"id\":\"2123\",\"type\":\"LinearAxis\"},{\"attributes\":{\"fill_alpha\":{\"value\":0.1},\"fill_color\":{\"value\":\"#1f77b4\"},\"line_alpha\":{\"value\":0.1},\"line_color\":{\"value\":\"#1f77b4\"},\"size\":{\"units\":\"screen\",\"value\":14},\"x\":{\"field\":\"x\"},\"y\":{\"field\":\"y\"}},\"id\":\"2376\",\"type\":\"Triangle\"},{\"attributes\":{},\"id\":\"2541\",\"type\":\"UnionRenderers\"},{\"attributes\":{\"source\":{\"id\":\"2146\",\"type\":\"ColumnDataSource\"}},\"id\":\"2150\",\"type\":\"CDSView\"},{\"attributes\":{\"data_source\":{\"id\":\"2374\",\"type\":\"ColumnDataSource\"},\"glyph\":{\"id\":\"2375\",\"type\":\"Triangle\"},\"hover_glyph\":null,\"muted_glyph\":null,\"nonselection_glyph\":{\"id\":\"2376\",\"type\":\"Triangle\"},\"selection_glyph\":null,\"view\":{\"id\":\"2378\",\"type\":\"CDSView\"}},\"id\":\"2377\",\"type\":\"GlyphRenderer\"},{\"attributes\":{},\"id\":\"2218\",\"type\":\"BasicTickFormatter\"},{\"attributes\":{\"line_alpha\":0.1,\"line_color\":\"#1f77b4\",\"line_width\":3,\"x\":{\"field\":\"x\"},\"y\":{\"field\":\"y\"}},\"id\":\"2460\",\"type\":\"Line\"},{\"attributes\":{\"source\":{\"id\":\"2374\",\"type\":\"ColumnDataSource\"}},\"id\":\"2378\",\"type\":\"CDSView\"},{\"attributes\":{\"overlay\":{\"id\":\"2225\",\"type\":\"BoxAnnotation\"}},\"id\":\"2130\",\"type\":\"BoxZoomTool\"},{\"attributes\":{},\"id\":\"2224\",\"type\":\"Selection\"},{\"attributes\":{},\"id\":\"2371\",\"type\":\"UnionRenderers\"},{\"attributes\":{\"text\":\"\"},\"id\":\"2215\",\"type\":\"Title\"},{\"attributes\":{},\"id\":\"2133\",\"type\":\"HelpTool\"},{\"attributes\":{\"formatter\":{\"id\":\"2220\",\"type\":\"BasicTickFormatter\"},\"ticker\":{\"id\":\"2119\",\"type\":\"BasicTicker\"}},\"id\":\"2118\",\"type\":\"LinearAxis\"},{\"attributes\":{},\"id\":\"2455\",\"type\":\"UnionRenderers\"},{\"attributes\":{},\"id\":\"2116\",\"type\":\"LinearScale\"},{\"attributes\":{},\"id\":\"2131\",\"type\":\"SaveTool\"},{\"attributes\":{},\"id\":\"2220\",\"type\":\"BasicTickFormatter\"},{\"attributes\":{},\"id\":\"2223\",\"type\":\"UnionRenderers\"},{\"attributes\":{},\"id\":\"2132\",\"type\":\"ResetTool\"},{\"attributes\":{},\"id\":\"2456\",\"type\":\"Selection\"},{\"attributes\":{\"callback\":null},\"id\":\"2112\",\"type\":\"DataRange1d\"},{\"attributes\":{},\"id\":\"2221\",\"type\":\"UnionRenderers\"},{\"attributes\":{},\"id\":\"2222\",\"type\":\"Selection\"},{\"attributes\":{},\"id\":\"2114\",\"type\":\"LinearScale\"},{\"attributes\":{\"callback\":null},\"id\":\"2110\",\"type\":\"DataRange1d\"}],\"root_ids\":[\"2109\"]},\"title\":\"Bokeh Application\",\"version\":\"1.2.0\"}};\n",
       "  var render_items = [{\"docid\":\"378cc70e-a231-4ff5-8e44-8ee96113ac2c\",\"roots\":{\"2109\":\"52731c05-6e3a-435c-b51f-e72a61223d1f\"}}];\n",
       "  root.Bokeh.embed.embed_items_notebook(docs_json, render_items);\n",
       "\n",
       "  }\n",
       "  if (root.Bokeh !== undefined) {\n",
       "    embed_document(root);\n",
       "  } else {\n",
       "    var attempts = 0;\n",
       "    var timer = setInterval(function(root) {\n",
       "      if (root.Bokeh !== undefined) {\n",
       "        embed_document(root);\n",
       "        clearInterval(timer);\n",
       "      }\n",
       "      attempts++;\n",
       "      if (attempts > 100) {\n",
       "        console.log(\"Bokeh: ERROR: Unable to run BokehJS code because BokehJS library is missing\");\n",
       "        clearInterval(timer);\n",
       "      }\n",
       "    }, 10, root)\n",
       "  }\n",
       "})(window);"
      ],
      "application/vnd.bokehjs_exec.v0+json": ""
     },
     "metadata": {
      "application/vnd.bokehjs_exec.v0+json": {
       "id": "2109"
      }
     },
     "output_type": "display_data"
    }
   ],
   "source": [
    "l.line([2,3,4,5], [2,3,4,5], line_width = 3, color = 'red')\n",
    "l.triangle([2,3,4,5],[2,3,4,5], size = 14, fill_color = 'yellow', color='green')\n",
    "\n",
    "l.line([2,3,4,6],[4,2,6,4], line_width = 3, color = 'green')\n",
    "l.circle([2,3,4,6],[4,2,6,4], size = 14, fill_color = 'orange', color='black')\n",
    "\n",
    "show(l)"
   ]
  },
  {
   "cell_type": "code",
   "execution_count": null,
   "metadata": {},
   "outputs": [],
   "source": []
  },
  {
   "cell_type": "markdown",
   "metadata": {},
   "source": [
    "# grid plots"
   ]
  },
  {
   "cell_type": "code",
   "execution_count": 20,
   "metadata": {},
   "outputs": [],
   "source": [
    "from bokeh.io import output_notebook, show\n",
    "from bokeh.plotting import figure\n",
    "from bokeh.layouts import gridplot"
   ]
  },
  {
   "cell_type": "code",
   "execution_count": 21,
   "metadata": {},
   "outputs": [
    {
     "data": {
      "text/html": [
       "\n",
       "    <div class=\"bk-root\">\n",
       "        <a href=\"https://bokeh.pydata.org\" target=\"_blank\" class=\"bk-logo bk-logo-small bk-logo-notebook\"></a>\n",
       "        <span id=\"2746\">Loading BokehJS ...</span>\n",
       "    </div>"
      ]
     },
     "metadata": {},
     "output_type": "display_data"
    },
    {
     "data": {
      "application/javascript": [
       "\n",
       "(function(root) {\n",
       "  function now() {\n",
       "    return new Date();\n",
       "  }\n",
       "\n",
       "  var force = true;\n",
       "\n",
       "  if (typeof root._bokeh_onload_callbacks === \"undefined\" || force === true) {\n",
       "    root._bokeh_onload_callbacks = [];\n",
       "    root._bokeh_is_loading = undefined;\n",
       "  }\n",
       "\n",
       "  var JS_MIME_TYPE = 'application/javascript';\n",
       "  var HTML_MIME_TYPE = 'text/html';\n",
       "  var EXEC_MIME_TYPE = 'application/vnd.bokehjs_exec.v0+json';\n",
       "  var CLASS_NAME = 'output_bokeh rendered_html';\n",
       "\n",
       "  /**\n",
       "   * Render data to the DOM node\n",
       "   */\n",
       "  function render(props, node) {\n",
       "    var script = document.createElement(\"script\");\n",
       "    node.appendChild(script);\n",
       "  }\n",
       "\n",
       "  /**\n",
       "   * Handle when an output is cleared or removed\n",
       "   */\n",
       "  function handleClearOutput(event, handle) {\n",
       "    var cell = handle.cell;\n",
       "\n",
       "    var id = cell.output_area._bokeh_element_id;\n",
       "    var server_id = cell.output_area._bokeh_server_id;\n",
       "    // Clean up Bokeh references\n",
       "    if (id != null && id in Bokeh.index) {\n",
       "      Bokeh.index[id].model.document.clear();\n",
       "      delete Bokeh.index[id];\n",
       "    }\n",
       "\n",
       "    if (server_id !== undefined) {\n",
       "      // Clean up Bokeh references\n",
       "      var cmd = \"from bokeh.io.state import curstate; print(curstate().uuid_to_server['\" + server_id + \"'].get_sessions()[0].document.roots[0]._id)\";\n",
       "      cell.notebook.kernel.execute(cmd, {\n",
       "        iopub: {\n",
       "          output: function(msg) {\n",
       "            var id = msg.content.text.trim();\n",
       "            if (id in Bokeh.index) {\n",
       "              Bokeh.index[id].model.document.clear();\n",
       "              delete Bokeh.index[id];\n",
       "            }\n",
       "          }\n",
       "        }\n",
       "      });\n",
       "      // Destroy server and session\n",
       "      var cmd = \"import bokeh.io.notebook as ion; ion.destroy_server('\" + server_id + \"')\";\n",
       "      cell.notebook.kernel.execute(cmd);\n",
       "    }\n",
       "  }\n",
       "\n",
       "  /**\n",
       "   * Handle when a new output is added\n",
       "   */\n",
       "  function handleAddOutput(event, handle) {\n",
       "    var output_area = handle.output_area;\n",
       "    var output = handle.output;\n",
       "\n",
       "    // limit handleAddOutput to display_data with EXEC_MIME_TYPE content only\n",
       "    if ((output.output_type != \"display_data\") || (!output.data.hasOwnProperty(EXEC_MIME_TYPE))) {\n",
       "      return\n",
       "    }\n",
       "\n",
       "    var toinsert = output_area.element.find(\".\" + CLASS_NAME.split(' ')[0]);\n",
       "\n",
       "    if (output.metadata[EXEC_MIME_TYPE][\"id\"] !== undefined) {\n",
       "      toinsert[toinsert.length - 1].firstChild.textContent = output.data[JS_MIME_TYPE];\n",
       "      // store reference to embed id on output_area\n",
       "      output_area._bokeh_element_id = output.metadata[EXEC_MIME_TYPE][\"id\"];\n",
       "    }\n",
       "    if (output.metadata[EXEC_MIME_TYPE][\"server_id\"] !== undefined) {\n",
       "      var bk_div = document.createElement(\"div\");\n",
       "      bk_div.innerHTML = output.data[HTML_MIME_TYPE];\n",
       "      var script_attrs = bk_div.children[0].attributes;\n",
       "      for (var i = 0; i < script_attrs.length; i++) {\n",
       "        toinsert[toinsert.length - 1].firstChild.setAttribute(script_attrs[i].name, script_attrs[i].value);\n",
       "      }\n",
       "      // store reference to server id on output_area\n",
       "      output_area._bokeh_server_id = output.metadata[EXEC_MIME_TYPE][\"server_id\"];\n",
       "    }\n",
       "  }\n",
       "\n",
       "  function register_renderer(events, OutputArea) {\n",
       "\n",
       "    function append_mime(data, metadata, element) {\n",
       "      // create a DOM node to render to\n",
       "      var toinsert = this.create_output_subarea(\n",
       "        metadata,\n",
       "        CLASS_NAME,\n",
       "        EXEC_MIME_TYPE\n",
       "      );\n",
       "      this.keyboard_manager.register_events(toinsert);\n",
       "      // Render to node\n",
       "      var props = {data: data, metadata: metadata[EXEC_MIME_TYPE]};\n",
       "      render(props, toinsert[toinsert.length - 1]);\n",
       "      element.append(toinsert);\n",
       "      return toinsert\n",
       "    }\n",
       "\n",
       "    /* Handle when an output is cleared or removed */\n",
       "    events.on('clear_output.CodeCell', handleClearOutput);\n",
       "    events.on('delete.Cell', handleClearOutput);\n",
       "\n",
       "    /* Handle when a new output is added */\n",
       "    events.on('output_added.OutputArea', handleAddOutput);\n",
       "\n",
       "    /**\n",
       "     * Register the mime type and append_mime function with output_area\n",
       "     */\n",
       "    OutputArea.prototype.register_mime_type(EXEC_MIME_TYPE, append_mime, {\n",
       "      /* Is output safe? */\n",
       "      safe: true,\n",
       "      /* Index of renderer in `output_area.display_order` */\n",
       "      index: 0\n",
       "    });\n",
       "  }\n",
       "\n",
       "  // register the mime type if in Jupyter Notebook environment and previously unregistered\n",
       "  if (root.Jupyter !== undefined) {\n",
       "    var events = require('base/js/events');\n",
       "    var OutputArea = require('notebook/js/outputarea').OutputArea;\n",
       "\n",
       "    if (OutputArea.prototype.mime_types().indexOf(EXEC_MIME_TYPE) == -1) {\n",
       "      register_renderer(events, OutputArea);\n",
       "    }\n",
       "  }\n",
       "\n",
       "  \n",
       "  if (typeof (root._bokeh_timeout) === \"undefined\" || force === true) {\n",
       "    root._bokeh_timeout = Date.now() + 5000;\n",
       "    root._bokeh_failed_load = false;\n",
       "  }\n",
       "\n",
       "  var NB_LOAD_WARNING = {'data': {'text/html':\n",
       "     \"<div style='background-color: #fdd'>\\n\"+\n",
       "     \"<p>\\n\"+\n",
       "     \"BokehJS does not appear to have successfully loaded. If loading BokehJS from CDN, this \\n\"+\n",
       "     \"may be due to a slow or bad network connection. Possible fixes:\\n\"+\n",
       "     \"</p>\\n\"+\n",
       "     \"<ul>\\n\"+\n",
       "     \"<li>re-rerun `output_notebook()` to attempt to load from CDN again, or</li>\\n\"+\n",
       "     \"<li>use INLINE resources instead, as so:</li>\\n\"+\n",
       "     \"</ul>\\n\"+\n",
       "     \"<code>\\n\"+\n",
       "     \"from bokeh.resources import INLINE\\n\"+\n",
       "     \"output_notebook(resources=INLINE)\\n\"+\n",
       "     \"</code>\\n\"+\n",
       "     \"</div>\"}};\n",
       "\n",
       "  function display_loaded() {\n",
       "    var el = document.getElementById(\"2746\");\n",
       "    if (el != null) {\n",
       "      el.textContent = \"BokehJS is loading...\";\n",
       "    }\n",
       "    if (root.Bokeh !== undefined) {\n",
       "      if (el != null) {\n",
       "        el.textContent = \"BokehJS \" + root.Bokeh.version + \" successfully loaded.\";\n",
       "      }\n",
       "    } else if (Date.now() < root._bokeh_timeout) {\n",
       "      setTimeout(display_loaded, 100)\n",
       "    }\n",
       "  }\n",
       "\n",
       "\n",
       "  function run_callbacks() {\n",
       "    try {\n",
       "      root._bokeh_onload_callbacks.forEach(function(callback) {\n",
       "        if (callback != null)\n",
       "          callback();\n",
       "      });\n",
       "    } finally {\n",
       "      delete root._bokeh_onload_callbacks\n",
       "    }\n",
       "    console.debug(\"Bokeh: all callbacks have finished\");\n",
       "  }\n",
       "\n",
       "  function load_libs(css_urls, js_urls, callback) {\n",
       "    if (css_urls == null) css_urls = [];\n",
       "    if (js_urls == null) js_urls = [];\n",
       "\n",
       "    root._bokeh_onload_callbacks.push(callback);\n",
       "    if (root._bokeh_is_loading > 0) {\n",
       "      console.debug(\"Bokeh: BokehJS is being loaded, scheduling callback at\", now());\n",
       "      return null;\n",
       "    }\n",
       "    if (js_urls == null || js_urls.length === 0) {\n",
       "      run_callbacks();\n",
       "      return null;\n",
       "    }\n",
       "    console.debug(\"Bokeh: BokehJS not loaded, scheduling load and callback at\", now());\n",
       "    root._bokeh_is_loading = css_urls.length + js_urls.length;\n",
       "\n",
       "    function on_load() {\n",
       "      root._bokeh_is_loading--;\n",
       "      if (root._bokeh_is_loading === 0) {\n",
       "        console.debug(\"Bokeh: all BokehJS libraries/stylesheets loaded\");\n",
       "        run_callbacks()\n",
       "      }\n",
       "    }\n",
       "\n",
       "    function on_error() {\n",
       "      console.error(\"failed to load \" + url);\n",
       "    }\n",
       "\n",
       "    for (var i = 0; i < css_urls.length; i++) {\n",
       "      var url = css_urls[i];\n",
       "      const element = document.createElement(\"link\");\n",
       "      element.onload = on_load;\n",
       "      element.onerror = on_error;\n",
       "      element.rel = \"stylesheet\";\n",
       "      element.type = \"text/css\";\n",
       "      element.href = url;\n",
       "      console.debug(\"Bokeh: injecting link tag for BokehJS stylesheet: \", url);\n",
       "      document.body.appendChild(element);\n",
       "    }\n",
       "\n",
       "    for (var i = 0; i < js_urls.length; i++) {\n",
       "      var url = js_urls[i];\n",
       "      var element = document.createElement('script');\n",
       "      element.onload = on_load;\n",
       "      element.onerror = on_error;\n",
       "      element.async = false;\n",
       "      element.src = url;\n",
       "      console.debug(\"Bokeh: injecting script tag for BokehJS library: \", url);\n",
       "      document.head.appendChild(element);\n",
       "    }\n",
       "  };var element = document.getElementById(\"2746\");\n",
       "  if (element == null) {\n",
       "    console.error(\"Bokeh: ERROR: autoload.js configured with elementid '2746' but no matching script tag was found. \")\n",
       "    return false;\n",
       "  }\n",
       "\n",
       "  function inject_raw_css(css) {\n",
       "    const element = document.createElement(\"style\");\n",
       "    element.appendChild(document.createTextNode(css));\n",
       "    document.body.appendChild(element);\n",
       "  }\n",
       "\n",
       "  var js_urls = [\"https://cdn.pydata.org/bokeh/release/bokeh-1.2.0.min.js\", \"https://cdn.pydata.org/bokeh/release/bokeh-widgets-1.2.0.min.js\", \"https://cdn.pydata.org/bokeh/release/bokeh-tables-1.2.0.min.js\", \"https://cdn.pydata.org/bokeh/release/bokeh-gl-1.2.0.min.js\"];\n",
       "  var css_urls = [\"https://cdn.pydata.org/bokeh/release/bokeh-1.2.0.min.css\", \"https://cdn.pydata.org/bokeh/release/bokeh-widgets-1.2.0.min.css\", \"https://cdn.pydata.org/bokeh/release/bokeh-tables-1.2.0.min.css\"];\n",
       "\n",
       "  var inline_js = [\n",
       "    function(Bokeh) {\n",
       "      Bokeh.set_log_level(\"info\");\n",
       "    },\n",
       "    \n",
       "    function(Bokeh) {\n",
       "      \n",
       "    },\n",
       "    function(Bokeh) {} // ensure no trailing comma for IE\n",
       "  ];\n",
       "\n",
       "  function run_inline_js() {\n",
       "    \n",
       "    if ((root.Bokeh !== undefined) || (force === true)) {\n",
       "      for (var i = 0; i < inline_js.length; i++) {\n",
       "        inline_js[i].call(root, root.Bokeh);\n",
       "      }if (force === true) {\n",
       "        display_loaded();\n",
       "      }} else if (Date.now() < root._bokeh_timeout) {\n",
       "      setTimeout(run_inline_js, 100);\n",
       "    } else if (!root._bokeh_failed_load) {\n",
       "      console.log(\"Bokeh: BokehJS failed to load within specified timeout.\");\n",
       "      root._bokeh_failed_load = true;\n",
       "    } else if (force !== true) {\n",
       "      var cell = $(document.getElementById(\"2746\")).parents('.cell').data().cell;\n",
       "      cell.output_area.append_execute_result(NB_LOAD_WARNING)\n",
       "    }\n",
       "\n",
       "  }\n",
       "\n",
       "  if (root._bokeh_is_loading === 0) {\n",
       "    console.debug(\"Bokeh: BokehJS loaded, going straight to plotting\");\n",
       "    run_inline_js();\n",
       "  } else {\n",
       "    load_libs(css_urls, js_urls, function() {\n",
       "      console.debug(\"Bokeh: BokehJS plotting callback run at\", now());\n",
       "      run_inline_js();\n",
       "    });\n",
       "  }\n",
       "}(window));"
      ],
      "application/vnd.bokehjs_load.v0+json": "\n(function(root) {\n  function now() {\n    return new Date();\n  }\n\n  var force = true;\n\n  if (typeof root._bokeh_onload_callbacks === \"undefined\" || force === true) {\n    root._bokeh_onload_callbacks = [];\n    root._bokeh_is_loading = undefined;\n  }\n\n  \n\n  \n  if (typeof (root._bokeh_timeout) === \"undefined\" || force === true) {\n    root._bokeh_timeout = Date.now() + 5000;\n    root._bokeh_failed_load = false;\n  }\n\n  var NB_LOAD_WARNING = {'data': {'text/html':\n     \"<div style='background-color: #fdd'>\\n\"+\n     \"<p>\\n\"+\n     \"BokehJS does not appear to have successfully loaded. If loading BokehJS from CDN, this \\n\"+\n     \"may be due to a slow or bad network connection. Possible fixes:\\n\"+\n     \"</p>\\n\"+\n     \"<ul>\\n\"+\n     \"<li>re-rerun `output_notebook()` to attempt to load from CDN again, or</li>\\n\"+\n     \"<li>use INLINE resources instead, as so:</li>\\n\"+\n     \"</ul>\\n\"+\n     \"<code>\\n\"+\n     \"from bokeh.resources import INLINE\\n\"+\n     \"output_notebook(resources=INLINE)\\n\"+\n     \"</code>\\n\"+\n     \"</div>\"}};\n\n  function display_loaded() {\n    var el = document.getElementById(\"2746\");\n    if (el != null) {\n      el.textContent = \"BokehJS is loading...\";\n    }\n    if (root.Bokeh !== undefined) {\n      if (el != null) {\n        el.textContent = \"BokehJS \" + root.Bokeh.version + \" successfully loaded.\";\n      }\n    } else if (Date.now() < root._bokeh_timeout) {\n      setTimeout(display_loaded, 100)\n    }\n  }\n\n\n  function run_callbacks() {\n    try {\n      root._bokeh_onload_callbacks.forEach(function(callback) {\n        if (callback != null)\n          callback();\n      });\n    } finally {\n      delete root._bokeh_onload_callbacks\n    }\n    console.debug(\"Bokeh: all callbacks have finished\");\n  }\n\n  function load_libs(css_urls, js_urls, callback) {\n    if (css_urls == null) css_urls = [];\n    if (js_urls == null) js_urls = [];\n\n    root._bokeh_onload_callbacks.push(callback);\n    if (root._bokeh_is_loading > 0) {\n      console.debug(\"Bokeh: BokehJS is being loaded, scheduling callback at\", now());\n      return null;\n    }\n    if (js_urls == null || js_urls.length === 0) {\n      run_callbacks();\n      return null;\n    }\n    console.debug(\"Bokeh: BokehJS not loaded, scheduling load and callback at\", now());\n    root._bokeh_is_loading = css_urls.length + js_urls.length;\n\n    function on_load() {\n      root._bokeh_is_loading--;\n      if (root._bokeh_is_loading === 0) {\n        console.debug(\"Bokeh: all BokehJS libraries/stylesheets loaded\");\n        run_callbacks()\n      }\n    }\n\n    function on_error() {\n      console.error(\"failed to load \" + url);\n    }\n\n    for (var i = 0; i < css_urls.length; i++) {\n      var url = css_urls[i];\n      const element = document.createElement(\"link\");\n      element.onload = on_load;\n      element.onerror = on_error;\n      element.rel = \"stylesheet\";\n      element.type = \"text/css\";\n      element.href = url;\n      console.debug(\"Bokeh: injecting link tag for BokehJS stylesheet: \", url);\n      document.body.appendChild(element);\n    }\n\n    for (var i = 0; i < js_urls.length; i++) {\n      var url = js_urls[i];\n      var element = document.createElement('script');\n      element.onload = on_load;\n      element.onerror = on_error;\n      element.async = false;\n      element.src = url;\n      console.debug(\"Bokeh: injecting script tag for BokehJS library: \", url);\n      document.head.appendChild(element);\n    }\n  };var element = document.getElementById(\"2746\");\n  if (element == null) {\n    console.error(\"Bokeh: ERROR: autoload.js configured with elementid '2746' but no matching script tag was found. \")\n    return false;\n  }\n\n  function inject_raw_css(css) {\n    const element = document.createElement(\"style\");\n    element.appendChild(document.createTextNode(css));\n    document.body.appendChild(element);\n  }\n\n  var js_urls = [\"https://cdn.pydata.org/bokeh/release/bokeh-1.2.0.min.js\", \"https://cdn.pydata.org/bokeh/release/bokeh-widgets-1.2.0.min.js\", \"https://cdn.pydata.org/bokeh/release/bokeh-tables-1.2.0.min.js\", \"https://cdn.pydata.org/bokeh/release/bokeh-gl-1.2.0.min.js\"];\n  var css_urls = [\"https://cdn.pydata.org/bokeh/release/bokeh-1.2.0.min.css\", \"https://cdn.pydata.org/bokeh/release/bokeh-widgets-1.2.0.min.css\", \"https://cdn.pydata.org/bokeh/release/bokeh-tables-1.2.0.min.css\"];\n\n  var inline_js = [\n    function(Bokeh) {\n      Bokeh.set_log_level(\"info\");\n    },\n    \n    function(Bokeh) {\n      \n    },\n    function(Bokeh) {} // ensure no trailing comma for IE\n  ];\n\n  function run_inline_js() {\n    \n    if ((root.Bokeh !== undefined) || (force === true)) {\n      for (var i = 0; i < inline_js.length; i++) {\n        inline_js[i].call(root, root.Bokeh);\n      }if (force === true) {\n        display_loaded();\n      }} else if (Date.now() < root._bokeh_timeout) {\n      setTimeout(run_inline_js, 100);\n    } else if (!root._bokeh_failed_load) {\n      console.log(\"Bokeh: BokehJS failed to load within specified timeout.\");\n      root._bokeh_failed_load = true;\n    } else if (force !== true) {\n      var cell = $(document.getElementById(\"2746\")).parents('.cell').data().cell;\n      cell.output_area.append_execute_result(NB_LOAD_WARNING)\n    }\n\n  }\n\n  if (root._bokeh_is_loading === 0) {\n    console.debug(\"Bokeh: BokehJS loaded, going straight to plotting\");\n    run_inline_js();\n  } else {\n    load_libs(css_urls, js_urls, function() {\n      console.debug(\"Bokeh: BokehJS plotting callback run at\", now());\n      run_inline_js();\n    });\n  }\n}(window));"
     },
     "metadata": {},
     "output_type": "display_data"
    }
   ],
   "source": [
    "output_notebook()"
   ]
  },
  {
   "cell_type": "code",
   "execution_count": 22,
   "metadata": {},
   "outputs": [],
   "source": [
    "x = [-3,-4,-2,-6,-9,-8,-11,2,3,1,5,8,3,6,4,11,9]"
   ]
  },
  {
   "cell_type": "code",
   "execution_count": 23,
   "metadata": {},
   "outputs": [
    {
     "ename": "NameError",
     "evalue": "name 'y0' is not defined",
     "output_type": "error",
     "traceback": [
      "\u001b[1;31m---------------------------------------------------------------------------\u001b[0m",
      "\u001b[1;31mNameError\u001b[0m                                 Traceback (most recent call last)",
      "\u001b[1;32m<ipython-input-23-528bfd536ba2>\u001b[0m in \u001b[0;36m<module>\u001b[1;34m\u001b[0m\n\u001b[1;32m----> 1\u001b[1;33m \u001b[1;33m(\u001b[0m\u001b[0mx\u001b[0m\u001b[1;33m,\u001b[0m\u001b[0my0\u001b[0m\u001b[1;33m)\u001b[0m\u001b[1;33m,\u001b[0m\u001b[1;33m(\u001b[0m\u001b[0mx\u001b[0m\u001b[1;33m,\u001b[0m\u001b[0my1\u001b[0m\u001b[1;33m)\u001b[0m\u001b[1;33m,\u001b[0m\u001b[1;33m(\u001b[0m\u001b[0mx\u001b[0m\u001b[1;33m,\u001b[0m\u001b[0my2\u001b[0m\u001b[1;33m)\u001b[0m\u001b[1;33m\u001b[0m\u001b[1;33m\u001b[0m\u001b[0m\n\u001b[0m",
      "\u001b[1;31mNameError\u001b[0m: name 'y0' is not defined"
     ]
    }
   ],
   "source": [
    "(x,y0),(x,y1),(x,y2)"
   ]
  },
  {
   "cell_type": "code",
   "execution_count": 24,
   "metadata": {},
   "outputs": [],
   "source": [
    "y0 = [i*0.5 for i in x]\n",
    "y1 = [i**2 for i in x]\n",
    "y2 = [i**3 for i in x]"
   ]
  },
  {
   "cell_type": "code",
   "execution_count": 25,
   "metadata": {},
   "outputs": [
    {
     "data": {
      "text/html": [
       "\n",
       "\n",
       "\n",
       "\n",
       "\n",
       "\n",
       "  <div class=\"bk-root\" id=\"808a4b39-4513-4805-81b6-c2bf9af21a3c\" data-root-id=\"2891\"></div>\n"
      ]
     },
     "metadata": {},
     "output_type": "display_data"
    },
    {
     "data": {
      "application/javascript": [
       "(function(root) {\n",
       "  function embed_document(root) {\n",
       "    \n",
       "  var docs_json = {\"8c644ac1-6a78-4725-9c9f-5005a83a487d\":{\"roots\":{\"references\":[{\"attributes\":{\"children\":[{\"id\":\"2890\",\"type\":\"ToolbarBox\"},{\"id\":\"2888\",\"type\":\"GridBox\"}]},\"id\":\"2891\",\"type\":\"Column\"},{\"attributes\":{\"formatter\":{\"id\":\"2883\",\"type\":\"BasicTickFormatter\"},\"ticker\":{\"id\":\"2831\",\"type\":\"BasicTicker\"}},\"id\":\"2830\",\"type\":\"LinearAxis\"},{\"attributes\":{},\"id\":\"2831\",\"type\":\"BasicTicker\"},{\"attributes\":{\"ticker\":{\"id\":\"2831\",\"type\":\"BasicTicker\"}},\"id\":\"2834\",\"type\":\"Grid\"},{\"attributes\":{\"below\":[{\"id\":\"2793\",\"type\":\"LinearAxis\"}],\"center\":[{\"id\":\"2797\",\"type\":\"Grid\"},{\"id\":\"2802\",\"type\":\"Grid\"}],\"left\":[{\"id\":\"2798\",\"type\":\"LinearAxis\"}],\"plot_height\":250,\"plot_width\":275,\"renderers\":[{\"id\":\"2819\",\"type\":\"GlyphRenderer\"}],\"title\":{\"id\":\"2868\",\"type\":\"Title\"},\"toolbar\":{\"id\":\"2809\",\"type\":\"Toolbar\"},\"toolbar_location\":null,\"x_range\":{\"id\":\"2785\",\"type\":\"DataRange1d\"},\"x_scale\":{\"id\":\"2789\",\"type\":\"LinearScale\"},\"y_range\":{\"id\":\"2787\",\"type\":\"DataRange1d\"},\"y_scale\":{\"id\":\"2791\",\"type\":\"LinearScale\"}},\"id\":\"2784\",\"subtype\":\"Figure\",\"type\":\"Plot\"},{\"attributes\":{\"formatter\":{\"id\":\"2881\",\"type\":\"BasicTickFormatter\"},\"ticker\":{\"id\":\"2836\",\"type\":\"BasicTicker\"}},\"id\":\"2835\",\"type\":\"LinearAxis\"},{\"attributes\":{},\"id\":\"2836\",\"type\":\"BasicTicker\"},{\"attributes\":{\"dimension\":1,\"ticker\":{\"id\":\"2836\",\"type\":\"BasicTicker\"}},\"id\":\"2839\",\"type\":\"Grid\"},{\"attributes\":{\"fill_alpha\":{\"value\":0.1},\"fill_color\":{\"value\":\"#1f77b4\"},\"line_alpha\":{\"value\":0.1},\"line_color\":{\"value\":\"#1f77b4\"},\"size\":{\"units\":\"screen\",\"value\":13},\"x\":{\"field\":\"x\"},\"y\":{\"field\":\"y\"}},\"id\":\"2855\",\"type\":\"Square\"},{\"attributes\":{\"fill_alpha\":{\"value\":0.9},\"fill_color\":{\"value\":\"blue\"},\"line_alpha\":{\"value\":0.9},\"line_color\":{\"value\":\"blue\"},\"size\":{\"units\":\"screen\",\"value\":13},\"x\":{\"field\":\"x\"},\"y\":{\"field\":\"y\"}},\"id\":\"2854\",\"type\":\"Square\"},{\"attributes\":{\"fill_alpha\":{\"value\":0.4},\"fill_color\":{\"value\":\"green\"},\"line_alpha\":{\"value\":0.4},\"line_color\":{\"value\":\"green\"},\"size\":{\"units\":\"screen\",\"value\":13},\"x\":{\"field\":\"x\"},\"y\":{\"field\":\"y\"}},\"id\":\"2780\",\"type\":\"Circle\"},{\"attributes\":{},\"id\":\"2840\",\"type\":\"PanTool\"},{\"attributes\":{},\"id\":\"2754\",\"type\":\"LinearScale\"},{\"attributes\":{},\"id\":\"2841\",\"type\":\"WheelZoomTool\"},{\"attributes\":{\"overlay\":{\"id\":\"2886\",\"type\":\"BoxAnnotation\"}},\"id\":\"2842\",\"type\":\"BoxZoomTool\"},{\"attributes\":{\"callback\":null},\"id\":\"2748\",\"type\":\"DataRange1d\"},{\"attributes\":{},\"id\":\"2843\",\"type\":\"SaveTool\"},{\"attributes\":{\"callback\":null,\"data\":{\"x\":[-3,-4,-2,-6,-9,-8,-11,2,3,1,5,8,3,6,4,11,9],\"y\":[-1.5,-2.0,-1.0,-3.0,-4.5,-4.0,-5.5,1.0,1.5,0.5,2.5,4.0,1.5,3.0,2.0,5.5,4.5]},\"selected\":{\"id\":\"2865\",\"type\":\"Selection\"},\"selection_policy\":{\"id\":\"2864\",\"type\":\"UnionRenderers\"}},\"id\":\"2779\",\"type\":\"ColumnDataSource\"},{\"attributes\":{},\"id\":\"2844\",\"type\":\"ResetTool\"},{\"attributes\":{},\"id\":\"2845\",\"type\":\"HelpTool\"},{\"attributes\":{\"active_drag\":\"auto\",\"active_inspect\":\"auto\",\"active_multi\":null,\"active_scroll\":\"auto\",\"active_tap\":\"auto\",\"tools\":[{\"id\":\"2840\",\"type\":\"PanTool\"},{\"id\":\"2841\",\"type\":\"WheelZoomTool\"},{\"id\":\"2842\",\"type\":\"BoxZoomTool\"},{\"id\":\"2843\",\"type\":\"SaveTool\"},{\"id\":\"2844\",\"type\":\"ResetTool\"},{\"id\":\"2845\",\"type\":\"HelpTool\"}]},\"id\":\"2846\",\"type\":\"Toolbar\"},{\"attributes\":{\"data_source\":{\"id\":\"2853\",\"type\":\"ColumnDataSource\"},\"glyph\":{\"id\":\"2854\",\"type\":\"Square\"},\"hover_glyph\":null,\"muted_glyph\":null,\"nonselection_glyph\":{\"id\":\"2855\",\"type\":\"Square\"},\"selection_glyph\":null,\"view\":{\"id\":\"2857\",\"type\":\"CDSView\"}},\"id\":\"2856\",\"type\":\"GlyphRenderer\"},{\"attributes\":{\"source\":{\"id\":\"2853\",\"type\":\"ColumnDataSource\"}},\"id\":\"2857\",\"type\":\"CDSView\"},{\"attributes\":{\"text\":\"\"},\"id\":\"2858\",\"type\":\"Title\"},{\"attributes\":{},\"id\":\"2861\",\"type\":\"BasicTickFormatter\"},{\"attributes\":{},\"id\":\"2863\",\"type\":\"BasicTickFormatter\"},{\"attributes\":{},\"id\":\"2864\",\"type\":\"UnionRenderers\"},{\"attributes\":{},\"id\":\"2865\",\"type\":\"Selection\"},{\"attributes\":{\"bottom_units\":\"screen\",\"fill_alpha\":{\"value\":0.5},\"fill_color\":{\"value\":\"lightgrey\"},\"left_units\":\"screen\",\"level\":\"overlay\",\"line_alpha\":{\"value\":1.0},\"line_color\":{\"value\":\"black\"},\"line_dash\":[4,4],\"line_width\":{\"value\":2},\"render_mode\":\"css\",\"right_units\":\"screen\",\"top_units\":\"screen\"},\"id\":\"2866\",\"type\":\"BoxAnnotation\"},{\"attributes\":{},\"id\":\"2873\",\"type\":\"BasicTickFormatter\"},{\"attributes\":{},\"id\":\"2874\",\"type\":\"UnionRenderers\"},{\"attributes\":{},\"id\":\"2875\",\"type\":\"Selection\"},{\"attributes\":{\"bottom_units\":\"screen\",\"fill_alpha\":{\"value\":0.5},\"fill_color\":{\"value\":\"lightgrey\"},\"left_units\":\"screen\",\"level\":\"overlay\",\"line_alpha\":{\"value\":1.0},\"line_color\":{\"value\":\"black\"},\"line_dash\":[4,4],\"line_width\":{\"value\":2},\"render_mode\":\"css\",\"right_units\":\"screen\",\"top_units\":\"screen\"},\"id\":\"2876\",\"type\":\"BoxAnnotation\"},{\"attributes\":{},\"id\":\"2881\",\"type\":\"BasicTickFormatter\"},{\"attributes\":{},\"id\":\"2883\",\"type\":\"BasicTickFormatter\"},{\"attributes\":{},\"id\":\"2884\",\"type\":\"UnionRenderers\"},{\"attributes\":{},\"id\":\"2752\",\"type\":\"LinearScale\"},{\"attributes\":{},\"id\":\"2885\",\"type\":\"Selection\"},{\"attributes\":{\"callback\":null},\"id\":\"2750\",\"type\":\"DataRange1d\"},{\"attributes\":{\"bottom_units\":\"screen\",\"fill_alpha\":{\"value\":0.5},\"fill_color\":{\"value\":\"lightgrey\"},\"left_units\":\"screen\",\"level\":\"overlay\",\"line_alpha\":{\"value\":1.0},\"line_color\":{\"value\":\"black\"},\"line_dash\":[4,4],\"line_width\":{\"value\":2},\"render_mode\":\"css\",\"right_units\":\"screen\",\"top_units\":\"screen\"},\"id\":\"2886\",\"type\":\"BoxAnnotation\"},{\"attributes\":{\"fill_alpha\":{\"value\":0.1},\"fill_color\":{\"value\":\"#1f77b4\"},\"line_alpha\":{\"value\":0.1},\"line_color\":{\"value\":\"#1f77b4\"},\"size\":{\"units\":\"screen\",\"value\":13},\"x\":{\"field\":\"x\"},\"y\":{\"field\":\"y\"}},\"id\":\"2781\",\"type\":\"Circle\"},{\"attributes\":{\"tools\":[{\"id\":\"2766\",\"type\":\"PanTool\"},{\"id\":\"2767\",\"type\":\"WheelZoomTool\"},{\"id\":\"2768\",\"type\":\"BoxZoomTool\"},{\"id\":\"2769\",\"type\":\"SaveTool\"},{\"id\":\"2770\",\"type\":\"ResetTool\"},{\"id\":\"2771\",\"type\":\"HelpTool\"},{\"id\":\"2803\",\"type\":\"PanTool\"},{\"id\":\"2804\",\"type\":\"WheelZoomTool\"},{\"id\":\"2805\",\"type\":\"BoxZoomTool\"},{\"id\":\"2806\",\"type\":\"SaveTool\"},{\"id\":\"2807\",\"type\":\"ResetTool\"},{\"id\":\"2808\",\"type\":\"HelpTool\"},{\"id\":\"2840\",\"type\":\"PanTool\"},{\"id\":\"2841\",\"type\":\"WheelZoomTool\"},{\"id\":\"2842\",\"type\":\"BoxZoomTool\"},{\"id\":\"2843\",\"type\":\"SaveTool\"},{\"id\":\"2844\",\"type\":\"ResetTool\"},{\"id\":\"2845\",\"type\":\"HelpTool\"}]},\"id\":\"2889\",\"type\":\"ProxyToolbar\"},{\"attributes\":{\"below\":[{\"id\":\"2756\",\"type\":\"LinearAxis\"}],\"center\":[{\"id\":\"2760\",\"type\":\"Grid\"},{\"id\":\"2765\",\"type\":\"Grid\"}],\"left\":[{\"id\":\"2761\",\"type\":\"LinearAxis\"}],\"plot_height\":250,\"plot_width\":275,\"renderers\":[{\"id\":\"2782\",\"type\":\"GlyphRenderer\"}],\"title\":{\"id\":\"2858\",\"type\":\"Title\"},\"toolbar\":{\"id\":\"2772\",\"type\":\"Toolbar\"},\"toolbar_location\":null,\"x_range\":{\"id\":\"2748\",\"type\":\"DataRange1d\"},\"x_scale\":{\"id\":\"2752\",\"type\":\"LinearScale\"},\"y_range\":{\"id\":\"2750\",\"type\":\"DataRange1d\"},\"y_scale\":{\"id\":\"2754\",\"type\":\"LinearScale\"}},\"id\":\"2747\",\"subtype\":\"Figure\",\"type\":\"Plot\"},{\"attributes\":{\"toolbar\":{\"id\":\"2889\",\"type\":\"ProxyToolbar\"},\"toolbar_location\":\"above\"},\"id\":\"2890\",\"type\":\"ToolbarBox\"},{\"attributes\":{\"overlay\":{\"id\":\"2866\",\"type\":\"BoxAnnotation\"}},\"id\":\"2768\",\"type\":\"BoxZoomTool\"},{\"attributes\":{},\"id\":\"2769\",\"type\":\"SaveTool\"},{\"attributes\":{},\"id\":\"2770\",\"type\":\"ResetTool\"},{\"attributes\":{},\"id\":\"2771\",\"type\":\"HelpTool\"},{\"attributes\":{\"active_drag\":\"auto\",\"active_inspect\":\"auto\",\"active_multi\":null,\"active_scroll\":\"auto\",\"active_tap\":\"auto\",\"tools\":[{\"id\":\"2766\",\"type\":\"PanTool\"},{\"id\":\"2767\",\"type\":\"WheelZoomTool\"},{\"id\":\"2768\",\"type\":\"BoxZoomTool\"},{\"id\":\"2769\",\"type\":\"SaveTool\"},{\"id\":\"2770\",\"type\":\"ResetTool\"},{\"id\":\"2771\",\"type\":\"HelpTool\"}]},\"id\":\"2772\",\"type\":\"Toolbar\"},{\"attributes\":{\"ticker\":{\"id\":\"2757\",\"type\":\"BasicTicker\"}},\"id\":\"2760\",\"type\":\"Grid\"},{\"attributes\":{\"source\":{\"id\":\"2779\",\"type\":\"ColumnDataSource\"}},\"id\":\"2783\",\"type\":\"CDSView\"},{\"attributes\":{\"callback\":null,\"data\":{\"x\":[-3,-4,-2,-6,-9,-8,-11,2,3,1,5,8,3,6,4,11,9],\"y\":[9,16,4,36,81,64,121,4,9,1,25,64,9,36,16,121,81]},\"selected\":{\"id\":\"2875\",\"type\":\"Selection\"},\"selection_policy\":{\"id\":\"2874\",\"type\":\"UnionRenderers\"}},\"id\":\"2816\",\"type\":\"ColumnDataSource\"},{\"attributes\":{\"text\":\"\"},\"id\":\"2868\",\"type\":\"Title\"},{\"attributes\":{\"callback\":null},\"id\":\"2785\",\"type\":\"DataRange1d\"},{\"attributes\":{\"callback\":null},\"id\":\"2787\",\"type\":\"DataRange1d\"},{\"attributes\":{},\"id\":\"2789\",\"type\":\"LinearScale\"},{\"attributes\":{},\"id\":\"2791\",\"type\":\"LinearScale\"},{\"attributes\":{\"text\":\"\"},\"id\":\"2878\",\"type\":\"Title\"},{\"attributes\":{\"formatter\":{\"id\":\"2873\",\"type\":\"BasicTickFormatter\"},\"ticker\":{\"id\":\"2794\",\"type\":\"BasicTicker\"}},\"id\":\"2793\",\"type\":\"LinearAxis\"},{\"attributes\":{},\"id\":\"2794\",\"type\":\"BasicTicker\"},{\"attributes\":{\"ticker\":{\"id\":\"2794\",\"type\":\"BasicTicker\"}},\"id\":\"2797\",\"type\":\"Grid\"},{\"attributes\":{\"formatter\":{\"id\":\"2871\",\"type\":\"BasicTickFormatter\"},\"ticker\":{\"id\":\"2799\",\"type\":\"BasicTicker\"}},\"id\":\"2798\",\"type\":\"LinearAxis\"},{\"attributes\":{},\"id\":\"2799\",\"type\":\"BasicTicker\"},{\"attributes\":{\"dimension\":1,\"ticker\":{\"id\":\"2799\",\"type\":\"BasicTicker\"}},\"id\":\"2802\",\"type\":\"Grid\"},{\"attributes\":{},\"id\":\"2871\",\"type\":\"BasicTickFormatter\"},{\"attributes\":{\"fill_alpha\":{\"value\":0.1},\"fill_color\":{\"value\":\"#1f77b4\"},\"line_alpha\":{\"value\":0.1},\"line_color\":{\"value\":\"#1f77b4\"},\"size\":{\"units\":\"screen\",\"value\":13},\"x\":{\"field\":\"x\"},\"y\":{\"field\":\"y\"}},\"id\":\"2818\",\"type\":\"Diamond\"},{\"attributes\":{\"fill_alpha\":{\"value\":0.6},\"fill_color\":{\"value\":\"red\"},\"line_alpha\":{\"value\":0.6},\"line_color\":{\"value\":\"red\"},\"size\":{\"units\":\"screen\",\"value\":13},\"x\":{\"field\":\"x\"},\"y\":{\"field\":\"y\"}},\"id\":\"2817\",\"type\":\"Diamond\"},{\"attributes\":{\"below\":[{\"id\":\"2830\",\"type\":\"LinearAxis\"}],\"center\":[{\"id\":\"2834\",\"type\":\"Grid\"},{\"id\":\"2839\",\"type\":\"Grid\"}],\"left\":[{\"id\":\"2835\",\"type\":\"LinearAxis\"}],\"plot_height\":250,\"plot_width\":275,\"renderers\":[{\"id\":\"2856\",\"type\":\"GlyphRenderer\"}],\"title\":{\"id\":\"2878\",\"type\":\"Title\"},\"toolbar\":{\"id\":\"2846\",\"type\":\"Toolbar\"},\"toolbar_location\":null,\"x_range\":{\"id\":\"2822\",\"type\":\"DataRange1d\"},\"x_scale\":{\"id\":\"2826\",\"type\":\"LinearScale\"},\"y_range\":{\"id\":\"2824\",\"type\":\"DataRange1d\"},\"y_scale\":{\"id\":\"2828\",\"type\":\"LinearScale\"}},\"id\":\"2821\",\"subtype\":\"Figure\",\"type\":\"Plot\"},{\"attributes\":{},\"id\":\"2803\",\"type\":\"PanTool\"},{\"attributes\":{},\"id\":\"2804\",\"type\":\"WheelZoomTool\"},{\"attributes\":{\"overlay\":{\"id\":\"2876\",\"type\":\"BoxAnnotation\"}},\"id\":\"2805\",\"type\":\"BoxZoomTool\"},{\"attributes\":{},\"id\":\"2806\",\"type\":\"SaveTool\"},{\"attributes\":{},\"id\":\"2807\",\"type\":\"ResetTool\"},{\"attributes\":{\"dimension\":1,\"ticker\":{\"id\":\"2762\",\"type\":\"BasicTicker\"}},\"id\":\"2765\",\"type\":\"Grid\"},{\"attributes\":{\"formatter\":{\"id\":\"2863\",\"type\":\"BasicTickFormatter\"},\"ticker\":{\"id\":\"2757\",\"type\":\"BasicTicker\"}},\"id\":\"2756\",\"type\":\"LinearAxis\"},{\"attributes\":{},\"id\":\"2808\",\"type\":\"HelpTool\"},{\"attributes\":{},\"id\":\"2766\",\"type\":\"PanTool\"},{\"attributes\":{},\"id\":\"2767\",\"type\":\"WheelZoomTool\"},{\"attributes\":{\"active_drag\":\"auto\",\"active_inspect\":\"auto\",\"active_multi\":null,\"active_scroll\":\"auto\",\"active_tap\":\"auto\",\"tools\":[{\"id\":\"2803\",\"type\":\"PanTool\"},{\"id\":\"2804\",\"type\":\"WheelZoomTool\"},{\"id\":\"2805\",\"type\":\"BoxZoomTool\"},{\"id\":\"2806\",\"type\":\"SaveTool\"},{\"id\":\"2807\",\"type\":\"ResetTool\"},{\"id\":\"2808\",\"type\":\"HelpTool\"}]},\"id\":\"2809\",\"type\":\"Toolbar\"},{\"attributes\":{\"data_source\":{\"id\":\"2816\",\"type\":\"ColumnDataSource\"},\"glyph\":{\"id\":\"2817\",\"type\":\"Diamond\"},\"hover_glyph\":null,\"muted_glyph\":null,\"nonselection_glyph\":{\"id\":\"2818\",\"type\":\"Diamond\"},\"selection_glyph\":null,\"view\":{\"id\":\"2820\",\"type\":\"CDSView\"}},\"id\":\"2819\",\"type\":\"GlyphRenderer\"},{\"attributes\":{},\"id\":\"2828\",\"type\":\"LinearScale\"},{\"attributes\":{\"source\":{\"id\":\"2816\",\"type\":\"ColumnDataSource\"}},\"id\":\"2820\",\"type\":\"CDSView\"},{\"attributes\":{},\"id\":\"2757\",\"type\":\"BasicTicker\"},{\"attributes\":{\"callback\":null,\"data\":{\"x\":[-3,-4,-2,-6,-9,-8,-11,2,3,1,5,8,3,6,4,11,9],\"y\":[-27,-64,-8,-216,-729,-512,-1331,8,27,1,125,512,27,216,64,1331,729]},\"selected\":{\"id\":\"2885\",\"type\":\"Selection\"},\"selection_policy\":{\"id\":\"2884\",\"type\":\"UnionRenderers\"}},\"id\":\"2853\",\"type\":\"ColumnDataSource\"},{\"attributes\":{\"data_source\":{\"id\":\"2779\",\"type\":\"ColumnDataSource\"},\"glyph\":{\"id\":\"2780\",\"type\":\"Circle\"},\"hover_glyph\":null,\"muted_glyph\":null,\"nonselection_glyph\":{\"id\":\"2781\",\"type\":\"Circle\"},\"selection_glyph\":null,\"view\":{\"id\":\"2783\",\"type\":\"CDSView\"}},\"id\":\"2782\",\"type\":\"GlyphRenderer\"},{\"attributes\":{\"children\":[[{\"id\":\"2747\",\"subtype\":\"Figure\",\"type\":\"Plot\"},0,0],[{\"id\":\"2784\",\"subtype\":\"Figure\",\"type\":\"Plot\"},0,1],[{\"id\":\"2821\",\"subtype\":\"Figure\",\"type\":\"Plot\"},0,2]]},\"id\":\"2888\",\"type\":\"GridBox\"},{\"attributes\":{\"formatter\":{\"id\":\"2861\",\"type\":\"BasicTickFormatter\"},\"ticker\":{\"id\":\"2762\",\"type\":\"BasicTicker\"}},\"id\":\"2761\",\"type\":\"LinearAxis\"},{\"attributes\":{\"callback\":null},\"id\":\"2822\",\"type\":\"DataRange1d\"},{\"attributes\":{\"callback\":null},\"id\":\"2824\",\"type\":\"DataRange1d\"},{\"attributes\":{},\"id\":\"2826\",\"type\":\"LinearScale\"},{\"attributes\":{},\"id\":\"2762\",\"type\":\"BasicTicker\"}],\"root_ids\":[\"2891\"]},\"title\":\"Bokeh Application\",\"version\":\"1.2.0\"}};\n",
       "  var render_items = [{\"docid\":\"8c644ac1-6a78-4725-9c9f-5005a83a487d\",\"roots\":{\"2891\":\"808a4b39-4513-4805-81b6-c2bf9af21a3c\"}}];\n",
       "  root.Bokeh.embed.embed_items_notebook(docs_json, render_items);\n",
       "\n",
       "  }\n",
       "  if (root.Bokeh !== undefined) {\n",
       "    embed_document(root);\n",
       "  } else {\n",
       "    var attempts = 0;\n",
       "    var timer = setInterval(function(root) {\n",
       "      if (root.Bokeh !== undefined) {\n",
       "        embed_document(root);\n",
       "        clearInterval(timer);\n",
       "      }\n",
       "      attempts++;\n",
       "      if (attempts > 100) {\n",
       "        console.log(\"Bokeh: ERROR: Unable to run BokehJS code because BokehJS library is missing\");\n",
       "        clearInterval(timer);\n",
       "      }\n",
       "    }, 10, root)\n",
       "  }\n",
       "})(window);"
      ],
      "application/vnd.bokehjs_exec.v0+json": ""
     },
     "metadata": {
      "application/vnd.bokehjs_exec.v0+json": {
       "id": "2891"
      }
     },
     "output_type": "display_data"
    }
   ],
   "source": [
    "p1 = figure(plot_width=275, plot_height=250)\n",
    "p1.circle(x, y0, size=13, color='green', alpha=0.4)\n",
    "\n",
    "p2 = figure(plot_width=275, plot_height=250)\n",
    "p2.diamond(x, y1, size=13, color='red', alpha=0.6)\n",
    "\n",
    "p3 = figure(plot_width=275, plot_height=250)\n",
    "p3.square(x, y2, size=13, color='blue', alpha=0.9)\n",
    "\n",
    "p = gridplot([[p1,p2,p3]])\n",
    "\n",
    "show(p)"
   ]
  },
  {
   "cell_type": "code",
   "execution_count": null,
   "metadata": {
    "collapsed": true
   },
   "outputs": [],
   "source": []
  },
  {
   "cell_type": "code",
   "execution_count": 26,
   "metadata": {},
   "outputs": [
    {
     "data": {
      "text/html": [
       "\n",
       "\n",
       "\n",
       "\n",
       "\n",
       "\n",
       "  <div class=\"bk-root\" id=\"090288ec-59ed-400e-9c9c-e0d2e4fd075a\" data-root-id=\"3305\"></div>\n"
      ]
     },
     "metadata": {},
     "output_type": "display_data"
    },
    {
     "data": {
      "application/javascript": [
       "(function(root) {\n",
       "  function embed_document(root) {\n",
       "    \n",
       "  var docs_json = {\"f7eca8da-099c-47d9-978b-0a930d1aa182\":{\"roots\":{\"references\":[{\"attributes\":{\"children\":[[{\"id\":\"3164\",\"subtype\":\"Figure\",\"type\":\"Plot\"},0,0],[{\"id\":\"3201\",\"subtype\":\"Figure\",\"type\":\"Plot\"},0,1],[{\"id\":\"3238\",\"subtype\":\"Figure\",\"type\":\"Plot\"},0,2]]},\"id\":\"3305\",\"type\":\"GridBox\"},{\"attributes\":{\"callback\":null,\"data\":{\"x\":[-3,-4,-2,-6,-9,-8,-11,2,3,1,5,8,3,6,4,11,9],\"y\":[9,16,4,36,81,64,121,4,9,1,25,64,9,36,16,121,81]},\"selected\":{\"id\":\"3292\",\"type\":\"Selection\"},\"selection_policy\":{\"id\":\"3291\",\"type\":\"UnionRenderers\"}},\"id\":\"3233\",\"type\":\"ColumnDataSource\"},{\"attributes\":{},\"id\":\"3260\",\"type\":\"SaveTool\"},{\"attributes\":{},\"id\":\"3261\",\"type\":\"ResetTool\"},{\"attributes\":{\"callback\":null},\"id\":\"3204\",\"type\":\"DataRange1d\"},{\"attributes\":{},\"id\":\"3262\",\"type\":\"HelpTool\"},{\"attributes\":{\"below\":[{\"id\":\"3173\",\"type\":\"LinearAxis\"}],\"center\":[{\"id\":\"3177\",\"type\":\"Grid\"},{\"id\":\"3182\",\"type\":\"Grid\"}],\"left\":[{\"id\":\"3178\",\"type\":\"LinearAxis\"}],\"plot_height\":250,\"plot_width\":255,\"renderers\":[{\"id\":\"3199\",\"type\":\"GlyphRenderer\"}],\"title\":{\"id\":\"3275\",\"type\":\"Title\"},\"toolbar\":{\"id\":\"3189\",\"type\":\"Toolbar\"},\"toolbar_location\":null,\"x_range\":{\"id\":\"3165\",\"type\":\"DataRange1d\"},\"x_scale\":{\"id\":\"3169\",\"type\":\"LinearScale\"},\"y_range\":{\"id\":\"3167\",\"type\":\"DataRange1d\"},\"y_scale\":{\"id\":\"3171\",\"type\":\"LinearScale\"}},\"id\":\"3164\",\"subtype\":\"Figure\",\"type\":\"Plot\"},{\"attributes\":{},\"id\":\"3206\",\"type\":\"LinearScale\"},{\"attributes\":{\"active_drag\":\"auto\",\"active_inspect\":\"auto\",\"active_multi\":null,\"active_scroll\":\"auto\",\"active_tap\":\"auto\",\"tools\":[{\"id\":\"3257\",\"type\":\"PanTool\"},{\"id\":\"3258\",\"type\":\"WheelZoomTool\"},{\"id\":\"3259\",\"type\":\"BoxZoomTool\"},{\"id\":\"3260\",\"type\":\"SaveTool\"},{\"id\":\"3261\",\"type\":\"ResetTool\"},{\"id\":\"3262\",\"type\":\"HelpTool\"}]},\"id\":\"3263\",\"type\":\"Toolbar\"},{\"attributes\":{\"callback\":null,\"data\":{\"x\":[-3,-4,-2,-6,-9,-8,-11,2,3,1,5,8,3,6,4,11,9],\"y\":[-1.5,-2.0,-1.0,-3.0,-4.5,-4.0,-5.5,1.0,1.5,0.5,2.5,4.0,1.5,3.0,2.0,5.5,4.5]},\"selected\":{\"id\":\"3282\",\"type\":\"Selection\"},\"selection_policy\":{\"id\":\"3281\",\"type\":\"UnionRenderers\"}},\"id\":\"3196\",\"type\":\"ColumnDataSource\"},{\"attributes\":{},\"id\":\"3208\",\"type\":\"LinearScale\"},{\"attributes\":{\"source\":{\"id\":\"3196\",\"type\":\"ColumnDataSource\"}},\"id\":\"3200\",\"type\":\"CDSView\"},{\"attributes\":{\"formatter\":{\"id\":\"3290\",\"type\":\"BasicTickFormatter\"},\"ticker\":{\"id\":\"3211\",\"type\":\"BasicTicker\"}},\"id\":\"3210\",\"type\":\"LinearAxis\"},{\"attributes\":{\"source\":{\"id\":\"3270\",\"type\":\"ColumnDataSource\"}},\"id\":\"3274\",\"type\":\"CDSView\"},{\"attributes\":{},\"id\":\"3211\",\"type\":\"BasicTicker\"},{\"attributes\":{\"text\":\"\"},\"id\":\"3275\",\"type\":\"Title\"},{\"attributes\":{\"ticker\":{\"id\":\"3211\",\"type\":\"BasicTicker\"}},\"id\":\"3214\",\"type\":\"Grid\"},{\"attributes\":{},\"id\":\"3171\",\"type\":\"LinearScale\"},{\"attributes\":{},\"id\":\"3278\",\"type\":\"BasicTickFormatter\"},{\"attributes\":{\"formatter\":{\"id\":\"3288\",\"type\":\"BasicTickFormatter\"},\"ticker\":{\"id\":\"3216\",\"type\":\"BasicTicker\"}},\"id\":\"3215\",\"type\":\"LinearAxis\"},{\"attributes\":{},\"id\":\"3280\",\"type\":\"BasicTickFormatter\"},{\"attributes\":{\"overlay\":{\"id\":\"3283\",\"type\":\"BoxAnnotation\"}},\"id\":\"3185\",\"type\":\"BoxZoomTool\"},{\"attributes\":{},\"id\":\"3216\",\"type\":\"BasicTicker\"},{\"attributes\":{\"data_source\":{\"id\":\"3196\",\"type\":\"ColumnDataSource\"},\"glyph\":{\"id\":\"3197\",\"type\":\"Circle\"},\"hover_glyph\":null,\"muted_glyph\":null,\"nonselection_glyph\":{\"id\":\"3198\",\"type\":\"Circle\"},\"selection_glyph\":null,\"view\":{\"id\":\"3200\",\"type\":\"CDSView\"}},\"id\":\"3199\",\"type\":\"GlyphRenderer\"},{\"attributes\":{},\"id\":\"3281\",\"type\":\"UnionRenderers\"},{\"attributes\":{\"dimension\":1,\"ticker\":{\"id\":\"3216\",\"type\":\"BasicTicker\"}},\"id\":\"3219\",\"type\":\"Grid\"},{\"attributes\":{},\"id\":\"3282\",\"type\":\"Selection\"},{\"attributes\":{\"fill_alpha\":{\"value\":0.1},\"fill_color\":{\"value\":\"#1f77b4\"},\"line_alpha\":{\"value\":0.1},\"line_color\":{\"value\":\"#1f77b4\"},\"size\":{\"units\":\"screen\",\"value\":13},\"x\":{\"field\":\"x\"},\"y\":{\"field\":\"y\"}},\"id\":\"3235\",\"type\":\"Diamond\"},{\"attributes\":{\"bottom_units\":\"screen\",\"fill_alpha\":{\"value\":0.5},\"fill_color\":{\"value\":\"lightgrey\"},\"left_units\":\"screen\",\"level\":\"overlay\",\"line_alpha\":{\"value\":1.0},\"line_color\":{\"value\":\"black\"},\"line_dash\":[4,4],\"line_width\":{\"value\":2},\"render_mode\":\"css\",\"right_units\":\"screen\",\"top_units\":\"screen\"},\"id\":\"3283\",\"type\":\"BoxAnnotation\"},{\"attributes\":{\"fill_alpha\":{\"value\":0.6},\"line_alpha\":{\"value\":0.6},\"line_color\":{\"value\":\"red\"},\"size\":{\"units\":\"screen\",\"value\":13},\"x\":{\"field\":\"x\"},\"y\":{\"field\":\"y\"}},\"id\":\"3234\",\"type\":\"Diamond\"},{\"attributes\":{\"below\":[{\"id\":\"3247\",\"type\":\"LinearAxis\"}],\"center\":[{\"id\":\"3251\",\"type\":\"Grid\"},{\"id\":\"3256\",\"type\":\"Grid\"}],\"left\":[{\"id\":\"3252\",\"type\":\"LinearAxis\"}],\"plot_height\":250,\"plot_width\":255,\"renderers\":[{\"id\":\"3273\",\"type\":\"GlyphRenderer\"}],\"title\":{\"id\":\"3295\",\"type\":\"Title\"},\"toolbar\":{\"id\":\"3263\",\"type\":\"Toolbar\"},\"toolbar_location\":null,\"x_range\":{\"id\":\"3239\",\"type\":\"DataRange1d\"},\"x_scale\":{\"id\":\"3243\",\"type\":\"LinearScale\"},\"y_range\":{\"id\":\"3241\",\"type\":\"DataRange1d\"},\"y_scale\":{\"id\":\"3245\",\"type\":\"LinearScale\"}},\"id\":\"3238\",\"subtype\":\"Figure\",\"type\":\"Plot\"},{\"attributes\":{},\"id\":\"3184\",\"type\":\"WheelZoomTool\"},{\"attributes\":{},\"id\":\"3288\",\"type\":\"BasicTickFormatter\"},{\"attributes\":{},\"id\":\"3187\",\"type\":\"ResetTool\"},{\"attributes\":{},\"id\":\"3220\",\"type\":\"PanTool\"},{\"attributes\":{},\"id\":\"3183\",\"type\":\"PanTool\"},{\"attributes\":{},\"id\":\"3290\",\"type\":\"BasicTickFormatter\"},{\"attributes\":{},\"id\":\"3221\",\"type\":\"WheelZoomTool\"},{\"attributes\":{},\"id\":\"3291\",\"type\":\"UnionRenderers\"},{\"attributes\":{\"overlay\":{\"id\":\"3293\",\"type\":\"BoxAnnotation\"}},\"id\":\"3222\",\"type\":\"BoxZoomTool\"},{\"attributes\":{\"text\":\"\"},\"id\":\"3285\",\"type\":\"Title\"},{\"attributes\":{},\"id\":\"3292\",\"type\":\"Selection\"},{\"attributes\":{},\"id\":\"3223\",\"type\":\"SaveTool\"},{\"attributes\":{\"fill_alpha\":{\"value\":0.4},\"fill_color\":{\"value\":\"white\"},\"line_alpha\":{\"value\":0.4},\"line_color\":{\"value\":\"green\"},\"size\":{\"units\":\"screen\",\"value\":13},\"x\":{\"field\":\"x\"},\"y\":{\"field\":\"y\"}},\"id\":\"3197\",\"type\":\"Circle\"},{\"attributes\":{\"bottom_units\":\"screen\",\"fill_alpha\":{\"value\":0.5},\"fill_color\":{\"value\":\"lightgrey\"},\"left_units\":\"screen\",\"level\":\"overlay\",\"line_alpha\":{\"value\":1.0},\"line_color\":{\"value\":\"black\"},\"line_dash\":[4,4],\"line_width\":{\"value\":2},\"render_mode\":\"css\",\"right_units\":\"screen\",\"top_units\":\"screen\"},\"id\":\"3293\",\"type\":\"BoxAnnotation\"},{\"attributes\":{\"callback\":null},\"id\":\"3202\",\"type\":\"DataRange1d\"},{\"attributes\":{},\"id\":\"3224\",\"type\":\"ResetTool\"},{\"attributes\":{\"dimension\":1,\"ticker\":{\"id\":\"3179\",\"type\":\"BasicTicker\"}},\"id\":\"3182\",\"type\":\"Grid\"},{\"attributes\":{\"text\":\"\"},\"id\":\"3295\",\"type\":\"Title\"},{\"attributes\":{},\"id\":\"3225\",\"type\":\"HelpTool\"},{\"attributes\":{\"fill_alpha\":{\"value\":0.1},\"fill_color\":{\"value\":\"#1f77b4\"},\"line_alpha\":{\"value\":0.1},\"line_color\":{\"value\":\"#1f77b4\"},\"size\":{\"units\":\"screen\",\"value\":13},\"x\":{\"field\":\"x\"},\"y\":{\"field\":\"y\"}},\"id\":\"3198\",\"type\":\"Circle\"},{\"attributes\":{},\"id\":\"3298\",\"type\":\"BasicTickFormatter\"},{\"attributes\":{\"active_drag\":\"auto\",\"active_inspect\":\"auto\",\"active_multi\":null,\"active_scroll\":\"auto\",\"active_tap\":\"auto\",\"tools\":[{\"id\":\"3220\",\"type\":\"PanTool\"},{\"id\":\"3221\",\"type\":\"WheelZoomTool\"},{\"id\":\"3222\",\"type\":\"BoxZoomTool\"},{\"id\":\"3223\",\"type\":\"SaveTool\"},{\"id\":\"3224\",\"type\":\"ResetTool\"},{\"id\":\"3225\",\"type\":\"HelpTool\"}]},\"id\":\"3226\",\"type\":\"Toolbar\"},{\"attributes\":{\"data_source\":{\"id\":\"3233\",\"type\":\"ColumnDataSource\"},\"glyph\":{\"id\":\"3234\",\"type\":\"Diamond\"},\"hover_glyph\":null,\"muted_glyph\":null,\"nonselection_glyph\":{\"id\":\"3235\",\"type\":\"Diamond\"},\"selection_glyph\":null,\"view\":{\"id\":\"3237\",\"type\":\"CDSView\"}},\"id\":\"3236\",\"type\":\"GlyphRenderer\"},{\"attributes\":{},\"id\":\"3186\",\"type\":\"SaveTool\"},{\"attributes\":{},\"id\":\"3300\",\"type\":\"BasicTickFormatter\"},{\"attributes\":{\"below\":[{\"id\":\"3210\",\"type\":\"LinearAxis\"}],\"center\":[{\"id\":\"3214\",\"type\":\"Grid\"},{\"id\":\"3219\",\"type\":\"Grid\"}],\"left\":[{\"id\":\"3215\",\"type\":\"LinearAxis\"}],\"plot_height\":250,\"plot_width\":255,\"renderers\":[{\"id\":\"3236\",\"type\":\"GlyphRenderer\"}],\"title\":{\"id\":\"3285\",\"type\":\"Title\"},\"toolbar\":{\"id\":\"3226\",\"type\":\"Toolbar\"},\"toolbar_location\":null,\"x_range\":{\"id\":\"3202\",\"type\":\"DataRange1d\"},\"x_scale\":{\"id\":\"3206\",\"type\":\"LinearScale\"},\"y_range\":{\"id\":\"3204\",\"type\":\"DataRange1d\"},\"y_scale\":{\"id\":\"3208\",\"type\":\"LinearScale\"}},\"id\":\"3201\",\"subtype\":\"Figure\",\"type\":\"Plot\"},{\"attributes\":{},\"id\":\"3179\",\"type\":\"BasicTicker\"},{\"attributes\":{},\"id\":\"3301\",\"type\":\"UnionRenderers\"},{\"attributes\":{\"source\":{\"id\":\"3233\",\"type\":\"ColumnDataSource\"}},\"id\":\"3237\",\"type\":\"CDSView\"},{\"attributes\":{\"ticker\":{\"id\":\"3174\",\"type\":\"BasicTicker\"}},\"id\":\"3177\",\"type\":\"Grid\"},{\"attributes\":{\"callback\":null,\"data\":{\"x\":[-3,-4,-2,-6,-9,-8,-11,2,3,1,5,8,3,6,4,11,9],\"y\":[-27,-64,-8,-216,-729,-512,-1331,8,27,1,125,512,27,216,64,1331,729]},\"selected\":{\"id\":\"3302\",\"type\":\"Selection\"},\"selection_policy\":{\"id\":\"3301\",\"type\":\"UnionRenderers\"}},\"id\":\"3270\",\"type\":\"ColumnDataSource\"},{\"attributes\":{},\"id\":\"3302\",\"type\":\"Selection\"},{\"attributes\":{},\"id\":\"3174\",\"type\":\"BasicTicker\"},{\"attributes\":{\"bottom_units\":\"screen\",\"fill_alpha\":{\"value\":0.5},\"fill_color\":{\"value\":\"lightgrey\"},\"left_units\":\"screen\",\"level\":\"overlay\",\"line_alpha\":{\"value\":1.0},\"line_color\":{\"value\":\"black\"},\"line_dash\":[4,4],\"line_width\":{\"value\":2},\"render_mode\":\"css\",\"right_units\":\"screen\",\"top_units\":\"screen\"},\"id\":\"3303\",\"type\":\"BoxAnnotation\"},{\"attributes\":{\"callback\":null},\"id\":\"3239\",\"type\":\"DataRange1d\"},{\"attributes\":{\"formatter\":{\"id\":\"3280\",\"type\":\"BasicTickFormatter\"},\"ticker\":{\"id\":\"3174\",\"type\":\"BasicTicker\"}},\"id\":\"3173\",\"type\":\"LinearAxis\"},{\"attributes\":{\"formatter\":{\"id\":\"3278\",\"type\":\"BasicTickFormatter\"},\"ticker\":{\"id\":\"3179\",\"type\":\"BasicTicker\"}},\"id\":\"3178\",\"type\":\"LinearAxis\"},{\"attributes\":{\"callback\":null},\"id\":\"3241\",\"type\":\"DataRange1d\"},{\"attributes\":{\"callback\":null},\"id\":\"3165\",\"type\":\"DataRange1d\"},{\"attributes\":{\"callback\":null},\"id\":\"3167\",\"type\":\"DataRange1d\"},{\"attributes\":{},\"id\":\"3243\",\"type\":\"LinearScale\"},{\"attributes\":{},\"id\":\"3169\",\"type\":\"LinearScale\"},{\"attributes\":{},\"id\":\"3245\",\"type\":\"LinearScale\"},{\"attributes\":{\"formatter\":{\"id\":\"3300\",\"type\":\"BasicTickFormatter\"},\"ticker\":{\"id\":\"3248\",\"type\":\"BasicTicker\"}},\"id\":\"3247\",\"type\":\"LinearAxis\"},{\"attributes\":{},\"id\":\"3188\",\"type\":\"HelpTool\"},{\"attributes\":{},\"id\":\"3248\",\"type\":\"BasicTicker\"},{\"attributes\":{\"active_drag\":\"auto\",\"active_inspect\":\"auto\",\"active_multi\":null,\"active_scroll\":\"auto\",\"active_tap\":\"auto\",\"tools\":[{\"id\":\"3183\",\"type\":\"PanTool\"},{\"id\":\"3184\",\"type\":\"WheelZoomTool\"},{\"id\":\"3185\",\"type\":\"BoxZoomTool\"},{\"id\":\"3186\",\"type\":\"SaveTool\"},{\"id\":\"3187\",\"type\":\"ResetTool\"},{\"id\":\"3188\",\"type\":\"HelpTool\"}]},\"id\":\"3189\",\"type\":\"Toolbar\"},{\"attributes\":{\"fill_alpha\":{\"value\":0.1},\"fill_color\":{\"value\":\"#1f77b4\"},\"line_alpha\":{\"value\":0.1},\"line_color\":{\"value\":\"#1f77b4\"},\"size\":{\"units\":\"screen\",\"value\":13},\"x\":{\"field\":\"x\"},\"y\":{\"field\":\"y\"}},\"id\":\"3272\",\"type\":\"Square\"},{\"attributes\":{\"fill_alpha\":{\"value\":0.9},\"fill_color\":{\"value\":\"yellow\"},\"line_alpha\":{\"value\":0.9},\"line_color\":{\"value\":\"blue\"},\"size\":{\"units\":\"screen\",\"value\":13},\"x\":{\"field\":\"x\"},\"y\":{\"field\":\"y\"}},\"id\":\"3271\",\"type\":\"Square\"},{\"attributes\":{\"data_source\":{\"id\":\"3270\",\"type\":\"ColumnDataSource\"},\"glyph\":{\"id\":\"3271\",\"type\":\"Square\"},\"hover_glyph\":null,\"muted_glyph\":null,\"nonselection_glyph\":{\"id\":\"3272\",\"type\":\"Square\"},\"selection_glyph\":null,\"view\":{\"id\":\"3274\",\"type\":\"CDSView\"}},\"id\":\"3273\",\"type\":\"GlyphRenderer\"},{\"attributes\":{},\"id\":\"3257\",\"type\":\"PanTool\"},{\"attributes\":{},\"id\":\"3258\",\"type\":\"WheelZoomTool\"},{\"attributes\":{\"overlay\":{\"id\":\"3303\",\"type\":\"BoxAnnotation\"}},\"id\":\"3259\",\"type\":\"BoxZoomTool\"},{\"attributes\":{},\"id\":\"3253\",\"type\":\"BasicTicker\"},{\"attributes\":{\"ticker\":{\"id\":\"3248\",\"type\":\"BasicTicker\"}},\"id\":\"3251\",\"type\":\"Grid\"},{\"attributes\":{\"dimension\":1,\"ticker\":{\"id\":\"3253\",\"type\":\"BasicTicker\"}},\"id\":\"3256\",\"type\":\"Grid\"},{\"attributes\":{\"formatter\":{\"id\":\"3298\",\"type\":\"BasicTickFormatter\"},\"ticker\":{\"id\":\"3253\",\"type\":\"BasicTicker\"}},\"id\":\"3252\",\"type\":\"LinearAxis\"}],\"root_ids\":[\"3305\"]},\"title\":\"Bokeh Application\",\"version\":\"1.2.0\"}};\n",
       "  var render_items = [{\"docid\":\"f7eca8da-099c-47d9-978b-0a930d1aa182\",\"roots\":{\"3305\":\"090288ec-59ed-400e-9c9c-e0d2e4fd075a\"}}];\n",
       "  root.Bokeh.embed.embed_items_notebook(docs_json, render_items);\n",
       "\n",
       "  }\n",
       "  if (root.Bokeh !== undefined) {\n",
       "    embed_document(root);\n",
       "  } else {\n",
       "    var attempts = 0;\n",
       "    var timer = setInterval(function(root) {\n",
       "      if (root.Bokeh !== undefined) {\n",
       "        embed_document(root);\n",
       "        clearInterval(timer);\n",
       "      }\n",
       "      attempts++;\n",
       "      if (attempts > 100) {\n",
       "        console.log(\"Bokeh: ERROR: Unable to run BokehJS code because BokehJS library is missing\");\n",
       "        clearInterval(timer);\n",
       "      }\n",
       "    }, 10, root)\n",
       "  }\n",
       "})(window);"
      ],
      "application/vnd.bokehjs_exec.v0+json": ""
     },
     "metadata": {
      "application/vnd.bokehjs_exec.v0+json": {
       "id": "3305"
      }
     },
     "output_type": "display_data"
    }
   ],
   "source": [
    "p1 = figure(plot_width=255, plot_height=250)\n",
    "p1.circle(x, y0, size=13, color='green',fill_color='white', alpha=0.4)\n",
    "\n",
    "p2 = figure(plot_width=255, plot_height=250)\n",
    "p2.diamond(x, y1, size=13, color='red', fill_color='gray', alpha=0.6)\n",
    "\n",
    "p3 = figure(plot_width=255, plot_height=250)\n",
    "p3.square(x, y2, size=13, color='blue', fill_color='yellow', alpha=0.9)\n",
    "\n",
    "p = gridplot([[p1,p2,p3]], toolbar_location=None)\n",
    "\n",
    "show(p)"
   ]
  },
  {
   "cell_type": "code",
   "execution_count": null,
   "metadata": {
    "collapsed": true
   },
   "outputs": [],
   "source": []
  },
  {
   "cell_type": "markdown",
   "metadata": {},
   "source": [
    "# Linking plots - link panning and link brushing"
   ]
  },
  {
   "cell_type": "code",
   "execution_count": 27,
   "metadata": {},
   "outputs": [],
   "source": [
    "from bokeh.io import output_notebook, show\n",
    "from bokeh.plotting import figure\n",
    "from bokeh.layouts import gridplot"
   ]
  },
  {
   "cell_type": "code",
   "execution_count": 28,
   "metadata": {},
   "outputs": [
    {
     "data": {
      "text/html": [
       "\n",
       "    <div class=\"bk-root\">\n",
       "        <a href=\"https://bokeh.pydata.org\" target=\"_blank\" class=\"bk-logo bk-logo-small bk-logo-notebook\"></a>\n",
       "        <span id=\"3605\">Loading BokehJS ...</span>\n",
       "    </div>"
      ]
     },
     "metadata": {},
     "output_type": "display_data"
    },
    {
     "data": {
      "application/javascript": [
       "\n",
       "(function(root) {\n",
       "  function now() {\n",
       "    return new Date();\n",
       "  }\n",
       "\n",
       "  var force = true;\n",
       "\n",
       "  if (typeof root._bokeh_onload_callbacks === \"undefined\" || force === true) {\n",
       "    root._bokeh_onload_callbacks = [];\n",
       "    root._bokeh_is_loading = undefined;\n",
       "  }\n",
       "\n",
       "  var JS_MIME_TYPE = 'application/javascript';\n",
       "  var HTML_MIME_TYPE = 'text/html';\n",
       "  var EXEC_MIME_TYPE = 'application/vnd.bokehjs_exec.v0+json';\n",
       "  var CLASS_NAME = 'output_bokeh rendered_html';\n",
       "\n",
       "  /**\n",
       "   * Render data to the DOM node\n",
       "   */\n",
       "  function render(props, node) {\n",
       "    var script = document.createElement(\"script\");\n",
       "    node.appendChild(script);\n",
       "  }\n",
       "\n",
       "  /**\n",
       "   * Handle when an output is cleared or removed\n",
       "   */\n",
       "  function handleClearOutput(event, handle) {\n",
       "    var cell = handle.cell;\n",
       "\n",
       "    var id = cell.output_area._bokeh_element_id;\n",
       "    var server_id = cell.output_area._bokeh_server_id;\n",
       "    // Clean up Bokeh references\n",
       "    if (id != null && id in Bokeh.index) {\n",
       "      Bokeh.index[id].model.document.clear();\n",
       "      delete Bokeh.index[id];\n",
       "    }\n",
       "\n",
       "    if (server_id !== undefined) {\n",
       "      // Clean up Bokeh references\n",
       "      var cmd = \"from bokeh.io.state import curstate; print(curstate().uuid_to_server['\" + server_id + \"'].get_sessions()[0].document.roots[0]._id)\";\n",
       "      cell.notebook.kernel.execute(cmd, {\n",
       "        iopub: {\n",
       "          output: function(msg) {\n",
       "            var id = msg.content.text.trim();\n",
       "            if (id in Bokeh.index) {\n",
       "              Bokeh.index[id].model.document.clear();\n",
       "              delete Bokeh.index[id];\n",
       "            }\n",
       "          }\n",
       "        }\n",
       "      });\n",
       "      // Destroy server and session\n",
       "      var cmd = \"import bokeh.io.notebook as ion; ion.destroy_server('\" + server_id + \"')\";\n",
       "      cell.notebook.kernel.execute(cmd);\n",
       "    }\n",
       "  }\n",
       "\n",
       "  /**\n",
       "   * Handle when a new output is added\n",
       "   */\n",
       "  function handleAddOutput(event, handle) {\n",
       "    var output_area = handle.output_area;\n",
       "    var output = handle.output;\n",
       "\n",
       "    // limit handleAddOutput to display_data with EXEC_MIME_TYPE content only\n",
       "    if ((output.output_type != \"display_data\") || (!output.data.hasOwnProperty(EXEC_MIME_TYPE))) {\n",
       "      return\n",
       "    }\n",
       "\n",
       "    var toinsert = output_area.element.find(\".\" + CLASS_NAME.split(' ')[0]);\n",
       "\n",
       "    if (output.metadata[EXEC_MIME_TYPE][\"id\"] !== undefined) {\n",
       "      toinsert[toinsert.length - 1].firstChild.textContent = output.data[JS_MIME_TYPE];\n",
       "      // store reference to embed id on output_area\n",
       "      output_area._bokeh_element_id = output.metadata[EXEC_MIME_TYPE][\"id\"];\n",
       "    }\n",
       "    if (output.metadata[EXEC_MIME_TYPE][\"server_id\"] !== undefined) {\n",
       "      var bk_div = document.createElement(\"div\");\n",
       "      bk_div.innerHTML = output.data[HTML_MIME_TYPE];\n",
       "      var script_attrs = bk_div.children[0].attributes;\n",
       "      for (var i = 0; i < script_attrs.length; i++) {\n",
       "        toinsert[toinsert.length - 1].firstChild.setAttribute(script_attrs[i].name, script_attrs[i].value);\n",
       "      }\n",
       "      // store reference to server id on output_area\n",
       "      output_area._bokeh_server_id = output.metadata[EXEC_MIME_TYPE][\"server_id\"];\n",
       "    }\n",
       "  }\n",
       "\n",
       "  function register_renderer(events, OutputArea) {\n",
       "\n",
       "    function append_mime(data, metadata, element) {\n",
       "      // create a DOM node to render to\n",
       "      var toinsert = this.create_output_subarea(\n",
       "        metadata,\n",
       "        CLASS_NAME,\n",
       "        EXEC_MIME_TYPE\n",
       "      );\n",
       "      this.keyboard_manager.register_events(toinsert);\n",
       "      // Render to node\n",
       "      var props = {data: data, metadata: metadata[EXEC_MIME_TYPE]};\n",
       "      render(props, toinsert[toinsert.length - 1]);\n",
       "      element.append(toinsert);\n",
       "      return toinsert\n",
       "    }\n",
       "\n",
       "    /* Handle when an output is cleared or removed */\n",
       "    events.on('clear_output.CodeCell', handleClearOutput);\n",
       "    events.on('delete.Cell', handleClearOutput);\n",
       "\n",
       "    /* Handle when a new output is added */\n",
       "    events.on('output_added.OutputArea', handleAddOutput);\n",
       "\n",
       "    /**\n",
       "     * Register the mime type and append_mime function with output_area\n",
       "     */\n",
       "    OutputArea.prototype.register_mime_type(EXEC_MIME_TYPE, append_mime, {\n",
       "      /* Is output safe? */\n",
       "      safe: true,\n",
       "      /* Index of renderer in `output_area.display_order` */\n",
       "      index: 0\n",
       "    });\n",
       "  }\n",
       "\n",
       "  // register the mime type if in Jupyter Notebook environment and previously unregistered\n",
       "  if (root.Jupyter !== undefined) {\n",
       "    var events = require('base/js/events');\n",
       "    var OutputArea = require('notebook/js/outputarea').OutputArea;\n",
       "\n",
       "    if (OutputArea.prototype.mime_types().indexOf(EXEC_MIME_TYPE) == -1) {\n",
       "      register_renderer(events, OutputArea);\n",
       "    }\n",
       "  }\n",
       "\n",
       "  \n",
       "  if (typeof (root._bokeh_timeout) === \"undefined\" || force === true) {\n",
       "    root._bokeh_timeout = Date.now() + 5000;\n",
       "    root._bokeh_failed_load = false;\n",
       "  }\n",
       "\n",
       "  var NB_LOAD_WARNING = {'data': {'text/html':\n",
       "     \"<div style='background-color: #fdd'>\\n\"+\n",
       "     \"<p>\\n\"+\n",
       "     \"BokehJS does not appear to have successfully loaded. If loading BokehJS from CDN, this \\n\"+\n",
       "     \"may be due to a slow or bad network connection. Possible fixes:\\n\"+\n",
       "     \"</p>\\n\"+\n",
       "     \"<ul>\\n\"+\n",
       "     \"<li>re-rerun `output_notebook()` to attempt to load from CDN again, or</li>\\n\"+\n",
       "     \"<li>use INLINE resources instead, as so:</li>\\n\"+\n",
       "     \"</ul>\\n\"+\n",
       "     \"<code>\\n\"+\n",
       "     \"from bokeh.resources import INLINE\\n\"+\n",
       "     \"output_notebook(resources=INLINE)\\n\"+\n",
       "     \"</code>\\n\"+\n",
       "     \"</div>\"}};\n",
       "\n",
       "  function display_loaded() {\n",
       "    var el = document.getElementById(\"3605\");\n",
       "    if (el != null) {\n",
       "      el.textContent = \"BokehJS is loading...\";\n",
       "    }\n",
       "    if (root.Bokeh !== undefined) {\n",
       "      if (el != null) {\n",
       "        el.textContent = \"BokehJS \" + root.Bokeh.version + \" successfully loaded.\";\n",
       "      }\n",
       "    } else if (Date.now() < root._bokeh_timeout) {\n",
       "      setTimeout(display_loaded, 100)\n",
       "    }\n",
       "  }\n",
       "\n",
       "\n",
       "  function run_callbacks() {\n",
       "    try {\n",
       "      root._bokeh_onload_callbacks.forEach(function(callback) {\n",
       "        if (callback != null)\n",
       "          callback();\n",
       "      });\n",
       "    } finally {\n",
       "      delete root._bokeh_onload_callbacks\n",
       "    }\n",
       "    console.debug(\"Bokeh: all callbacks have finished\");\n",
       "  }\n",
       "\n",
       "  function load_libs(css_urls, js_urls, callback) {\n",
       "    if (css_urls == null) css_urls = [];\n",
       "    if (js_urls == null) js_urls = [];\n",
       "\n",
       "    root._bokeh_onload_callbacks.push(callback);\n",
       "    if (root._bokeh_is_loading > 0) {\n",
       "      console.debug(\"Bokeh: BokehJS is being loaded, scheduling callback at\", now());\n",
       "      return null;\n",
       "    }\n",
       "    if (js_urls == null || js_urls.length === 0) {\n",
       "      run_callbacks();\n",
       "      return null;\n",
       "    }\n",
       "    console.debug(\"Bokeh: BokehJS not loaded, scheduling load and callback at\", now());\n",
       "    root._bokeh_is_loading = css_urls.length + js_urls.length;\n",
       "\n",
       "    function on_load() {\n",
       "      root._bokeh_is_loading--;\n",
       "      if (root._bokeh_is_loading === 0) {\n",
       "        console.debug(\"Bokeh: all BokehJS libraries/stylesheets loaded\");\n",
       "        run_callbacks()\n",
       "      }\n",
       "    }\n",
       "\n",
       "    function on_error() {\n",
       "      console.error(\"failed to load \" + url);\n",
       "    }\n",
       "\n",
       "    for (var i = 0; i < css_urls.length; i++) {\n",
       "      var url = css_urls[i];\n",
       "      const element = document.createElement(\"link\");\n",
       "      element.onload = on_load;\n",
       "      element.onerror = on_error;\n",
       "      element.rel = \"stylesheet\";\n",
       "      element.type = \"text/css\";\n",
       "      element.href = url;\n",
       "      console.debug(\"Bokeh: injecting link tag for BokehJS stylesheet: \", url);\n",
       "      document.body.appendChild(element);\n",
       "    }\n",
       "\n",
       "    for (var i = 0; i < js_urls.length; i++) {\n",
       "      var url = js_urls[i];\n",
       "      var element = document.createElement('script');\n",
       "      element.onload = on_load;\n",
       "      element.onerror = on_error;\n",
       "      element.async = false;\n",
       "      element.src = url;\n",
       "      console.debug(\"Bokeh: injecting script tag for BokehJS library: \", url);\n",
       "      document.head.appendChild(element);\n",
       "    }\n",
       "  };var element = document.getElementById(\"3605\");\n",
       "  if (element == null) {\n",
       "    console.error(\"Bokeh: ERROR: autoload.js configured with elementid '3605' but no matching script tag was found. \")\n",
       "    return false;\n",
       "  }\n",
       "\n",
       "  function inject_raw_css(css) {\n",
       "    const element = document.createElement(\"style\");\n",
       "    element.appendChild(document.createTextNode(css));\n",
       "    document.body.appendChild(element);\n",
       "  }\n",
       "\n",
       "  var js_urls = [\"https://cdn.pydata.org/bokeh/release/bokeh-1.2.0.min.js\", \"https://cdn.pydata.org/bokeh/release/bokeh-widgets-1.2.0.min.js\", \"https://cdn.pydata.org/bokeh/release/bokeh-tables-1.2.0.min.js\", \"https://cdn.pydata.org/bokeh/release/bokeh-gl-1.2.0.min.js\"];\n",
       "  var css_urls = [\"https://cdn.pydata.org/bokeh/release/bokeh-1.2.0.min.css\", \"https://cdn.pydata.org/bokeh/release/bokeh-widgets-1.2.0.min.css\", \"https://cdn.pydata.org/bokeh/release/bokeh-tables-1.2.0.min.css\"];\n",
       "\n",
       "  var inline_js = [\n",
       "    function(Bokeh) {\n",
       "      Bokeh.set_log_level(\"info\");\n",
       "    },\n",
       "    \n",
       "    function(Bokeh) {\n",
       "      \n",
       "    },\n",
       "    function(Bokeh) {} // ensure no trailing comma for IE\n",
       "  ];\n",
       "\n",
       "  function run_inline_js() {\n",
       "    \n",
       "    if ((root.Bokeh !== undefined) || (force === true)) {\n",
       "      for (var i = 0; i < inline_js.length; i++) {\n",
       "        inline_js[i].call(root, root.Bokeh);\n",
       "      }if (force === true) {\n",
       "        display_loaded();\n",
       "      }} else if (Date.now() < root._bokeh_timeout) {\n",
       "      setTimeout(run_inline_js, 100);\n",
       "    } else if (!root._bokeh_failed_load) {\n",
       "      console.log(\"Bokeh: BokehJS failed to load within specified timeout.\");\n",
       "      root._bokeh_failed_load = true;\n",
       "    } else if (force !== true) {\n",
       "      var cell = $(document.getElementById(\"3605\")).parents('.cell').data().cell;\n",
       "      cell.output_area.append_execute_result(NB_LOAD_WARNING)\n",
       "    }\n",
       "\n",
       "  }\n",
       "\n",
       "  if (root._bokeh_is_loading === 0) {\n",
       "    console.debug(\"Bokeh: BokehJS loaded, going straight to plotting\");\n",
       "    run_inline_js();\n",
       "  } else {\n",
       "    load_libs(css_urls, js_urls, function() {\n",
       "      console.debug(\"Bokeh: BokehJS plotting callback run at\", now());\n",
       "      run_inline_js();\n",
       "    });\n",
       "  }\n",
       "}(window));"
      ],
      "application/vnd.bokehjs_load.v0+json": "\n(function(root) {\n  function now() {\n    return new Date();\n  }\n\n  var force = true;\n\n  if (typeof root._bokeh_onload_callbacks === \"undefined\" || force === true) {\n    root._bokeh_onload_callbacks = [];\n    root._bokeh_is_loading = undefined;\n  }\n\n  \n\n  \n  if (typeof (root._bokeh_timeout) === \"undefined\" || force === true) {\n    root._bokeh_timeout = Date.now() + 5000;\n    root._bokeh_failed_load = false;\n  }\n\n  var NB_LOAD_WARNING = {'data': {'text/html':\n     \"<div style='background-color: #fdd'>\\n\"+\n     \"<p>\\n\"+\n     \"BokehJS does not appear to have successfully loaded. If loading BokehJS from CDN, this \\n\"+\n     \"may be due to a slow or bad network connection. Possible fixes:\\n\"+\n     \"</p>\\n\"+\n     \"<ul>\\n\"+\n     \"<li>re-rerun `output_notebook()` to attempt to load from CDN again, or</li>\\n\"+\n     \"<li>use INLINE resources instead, as so:</li>\\n\"+\n     \"</ul>\\n\"+\n     \"<code>\\n\"+\n     \"from bokeh.resources import INLINE\\n\"+\n     \"output_notebook(resources=INLINE)\\n\"+\n     \"</code>\\n\"+\n     \"</div>\"}};\n\n  function display_loaded() {\n    var el = document.getElementById(\"3605\");\n    if (el != null) {\n      el.textContent = \"BokehJS is loading...\";\n    }\n    if (root.Bokeh !== undefined) {\n      if (el != null) {\n        el.textContent = \"BokehJS \" + root.Bokeh.version + \" successfully loaded.\";\n      }\n    } else if (Date.now() < root._bokeh_timeout) {\n      setTimeout(display_loaded, 100)\n    }\n  }\n\n\n  function run_callbacks() {\n    try {\n      root._bokeh_onload_callbacks.forEach(function(callback) {\n        if (callback != null)\n          callback();\n      });\n    } finally {\n      delete root._bokeh_onload_callbacks\n    }\n    console.debug(\"Bokeh: all callbacks have finished\");\n  }\n\n  function load_libs(css_urls, js_urls, callback) {\n    if (css_urls == null) css_urls = [];\n    if (js_urls == null) js_urls = [];\n\n    root._bokeh_onload_callbacks.push(callback);\n    if (root._bokeh_is_loading > 0) {\n      console.debug(\"Bokeh: BokehJS is being loaded, scheduling callback at\", now());\n      return null;\n    }\n    if (js_urls == null || js_urls.length === 0) {\n      run_callbacks();\n      return null;\n    }\n    console.debug(\"Bokeh: BokehJS not loaded, scheduling load and callback at\", now());\n    root._bokeh_is_loading = css_urls.length + js_urls.length;\n\n    function on_load() {\n      root._bokeh_is_loading--;\n      if (root._bokeh_is_loading === 0) {\n        console.debug(\"Bokeh: all BokehJS libraries/stylesheets loaded\");\n        run_callbacks()\n      }\n    }\n\n    function on_error() {\n      console.error(\"failed to load \" + url);\n    }\n\n    for (var i = 0; i < css_urls.length; i++) {\n      var url = css_urls[i];\n      const element = document.createElement(\"link\");\n      element.onload = on_load;\n      element.onerror = on_error;\n      element.rel = \"stylesheet\";\n      element.type = \"text/css\";\n      element.href = url;\n      console.debug(\"Bokeh: injecting link tag for BokehJS stylesheet: \", url);\n      document.body.appendChild(element);\n    }\n\n    for (var i = 0; i < js_urls.length; i++) {\n      var url = js_urls[i];\n      var element = document.createElement('script');\n      element.onload = on_load;\n      element.onerror = on_error;\n      element.async = false;\n      element.src = url;\n      console.debug(\"Bokeh: injecting script tag for BokehJS library: \", url);\n      document.head.appendChild(element);\n    }\n  };var element = document.getElementById(\"3605\");\n  if (element == null) {\n    console.error(\"Bokeh: ERROR: autoload.js configured with elementid '3605' but no matching script tag was found. \")\n    return false;\n  }\n\n  function inject_raw_css(css) {\n    const element = document.createElement(\"style\");\n    element.appendChild(document.createTextNode(css));\n    document.body.appendChild(element);\n  }\n\n  var js_urls = [\"https://cdn.pydata.org/bokeh/release/bokeh-1.2.0.min.js\", \"https://cdn.pydata.org/bokeh/release/bokeh-widgets-1.2.0.min.js\", \"https://cdn.pydata.org/bokeh/release/bokeh-tables-1.2.0.min.js\", \"https://cdn.pydata.org/bokeh/release/bokeh-gl-1.2.0.min.js\"];\n  var css_urls = [\"https://cdn.pydata.org/bokeh/release/bokeh-1.2.0.min.css\", \"https://cdn.pydata.org/bokeh/release/bokeh-widgets-1.2.0.min.css\", \"https://cdn.pydata.org/bokeh/release/bokeh-tables-1.2.0.min.css\"];\n\n  var inline_js = [\n    function(Bokeh) {\n      Bokeh.set_log_level(\"info\");\n    },\n    \n    function(Bokeh) {\n      \n    },\n    function(Bokeh) {} // ensure no trailing comma for IE\n  ];\n\n  function run_inline_js() {\n    \n    if ((root.Bokeh !== undefined) || (force === true)) {\n      for (var i = 0; i < inline_js.length; i++) {\n        inline_js[i].call(root, root.Bokeh);\n      }if (force === true) {\n        display_loaded();\n      }} else if (Date.now() < root._bokeh_timeout) {\n      setTimeout(run_inline_js, 100);\n    } else if (!root._bokeh_failed_load) {\n      console.log(\"Bokeh: BokehJS failed to load within specified timeout.\");\n      root._bokeh_failed_load = true;\n    } else if (force !== true) {\n      var cell = $(document.getElementById(\"3605\")).parents('.cell').data().cell;\n      cell.output_area.append_execute_result(NB_LOAD_WARNING)\n    }\n\n  }\n\n  if (root._bokeh_is_loading === 0) {\n    console.debug(\"Bokeh: BokehJS loaded, going straight to plotting\");\n    run_inline_js();\n  } else {\n    load_libs(css_urls, js_urls, function() {\n      console.debug(\"Bokeh: BokehJS plotting callback run at\", now());\n      run_inline_js();\n    });\n  }\n}(window));"
     },
     "metadata": {},
     "output_type": "display_data"
    }
   ],
   "source": [
    "output_notebook()"
   ]
  },
  {
   "cell_type": "code",
   "execution_count": 29,
   "metadata": {},
   "outputs": [],
   "source": [
    "x = [-3,-4,-2,-6,-9,-8,-11,2,3,1,5,8,3,6,4,11,9]"
   ]
  },
  {
   "cell_type": "code",
   "execution_count": 30,
   "metadata": {},
   "outputs": [],
   "source": [
    "y0 = [i*0.5 for i in x]\n",
    "y1 = [i**2 for i in x]\n",
    "y2 = [i**3 for i in x]"
   ]
  },
  {
   "cell_type": "code",
   "execution_count": 31,
   "metadata": {},
   "outputs": [
    {
     "data": {
      "text/html": [
       "\n",
       "\n",
       "\n",
       "\n",
       "\n",
       "\n",
       "  <div class=\"bk-root\" id=\"59b6e8f6-ae70-4e4b-bfba-8cf4dc0b43b3\" data-root-id=\"3746\"></div>\n"
      ]
     },
     "metadata": {},
     "output_type": "display_data"
    },
    {
     "data": {
      "application/javascript": [
       "(function(root) {\n",
       "  function embed_document(root) {\n",
       "    \n",
       "  var docs_json = {\"64ffa234-71bf-4f34-a4a5-167fc8db35e3\":{\"roots\":{\"references\":[{\"attributes\":{\"children\":[{\"id\":\"3745\",\"type\":\"ToolbarBox\"},{\"id\":\"3743\",\"type\":\"GridBox\"}]},\"id\":\"3746\",\"type\":\"Column\"},{\"attributes\":{},\"id\":\"3683\",\"type\":\"LinearScale\"},{\"attributes\":{\"children\":[[{\"id\":\"3606\",\"subtype\":\"Figure\",\"type\":\"Plot\"},0,0],[{\"id\":\"3643\",\"subtype\":\"Figure\",\"type\":\"Plot\"},0,1],[{\"id\":\"3678\",\"subtype\":\"Figure\",\"type\":\"Plot\"},0,2]]},\"id\":\"3743\",\"type\":\"GridBox\"},{\"attributes\":{\"below\":[{\"id\":\"3685\",\"type\":\"LinearAxis\"}],\"center\":[{\"id\":\"3689\",\"type\":\"Grid\"},{\"id\":\"3694\",\"type\":\"Grid\"}],\"left\":[{\"id\":\"3690\",\"type\":\"LinearAxis\"}],\"plot_height\":250,\"plot_width\":255,\"renderers\":[{\"id\":\"3711\",\"type\":\"GlyphRenderer\"}],\"title\":{\"id\":\"3733\",\"type\":\"Title\"},\"toolbar\":{\"id\":\"3701\",\"type\":\"Toolbar\"},\"toolbar_location\":null,\"x_range\":{\"id\":\"3607\",\"type\":\"DataRange1d\"},\"x_scale\":{\"id\":\"3681\",\"type\":\"LinearScale\"},\"y_range\":{\"id\":\"3609\",\"type\":\"DataRange1d\"},\"y_scale\":{\"id\":\"3683\",\"type\":\"LinearScale\"}},\"id\":\"3678\",\"subtype\":\"Figure\",\"type\":\"Plot\"},{\"attributes\":{\"dimension\":1,\"ticker\":{\"id\":\"3691\",\"type\":\"BasicTicker\"}},\"id\":\"3694\",\"type\":\"Grid\"},{\"attributes\":{\"fill_color\":{\"value\":\"orange\"},\"line_color\":{\"value\":\"red\"},\"size\":{\"units\":\"screen\",\"value\":13},\"x\":{\"field\":\"x\"},\"y\":{\"field\":\"y\"}},\"id\":\"3674\",\"type\":\"Diamond\"},{\"attributes\":{\"callback\":null,\"data\":{\"x\":[-3,-4,-2,-6,-9,-8,-11,2,3,1,5,8,3,6,4,11,9],\"y\":[9,16,4,36,81,64,121,4,9,1,25,64,9,36,16,121,81]},\"selected\":{\"id\":\"3730\",\"type\":\"Selection\"},\"selection_policy\":{\"id\":\"3729\",\"type\":\"UnionRenderers\"}},\"id\":\"3673\",\"type\":\"ColumnDataSource\"},{\"attributes\":{},\"id\":\"3686\",\"type\":\"BasicTicker\"},{\"attributes\":{\"data_source\":{\"id\":\"3673\",\"type\":\"ColumnDataSource\"},\"glyph\":{\"id\":\"3674\",\"type\":\"Diamond\"},\"hover_glyph\":null,\"muted_glyph\":null,\"nonselection_glyph\":{\"id\":\"3675\",\"type\":\"Diamond\"},\"selection_glyph\":null,\"view\":{\"id\":\"3677\",\"type\":\"CDSView\"}},\"id\":\"3676\",\"type\":\"GlyphRenderer\"},{\"attributes\":{\"fill_alpha\":{\"value\":0.1},\"fill_color\":{\"value\":\"#1f77b4\"},\"line_alpha\":{\"value\":0.1},\"line_color\":{\"value\":\"#1f77b4\"},\"size\":{\"units\":\"screen\",\"value\":13},\"x\":{\"field\":\"x\"},\"y\":{\"field\":\"y\"}},\"id\":\"3675\",\"type\":\"Diamond\"},{\"attributes\":{\"formatter\":{\"id\":\"3738\",\"type\":\"BasicTickFormatter\"},\"ticker\":{\"id\":\"3686\",\"type\":\"BasicTicker\"}},\"id\":\"3685\",\"type\":\"LinearAxis\"},{\"attributes\":{\"ticker\":{\"id\":\"3686\",\"type\":\"BasicTicker\"}},\"id\":\"3689\",\"type\":\"Grid\"},{\"attributes\":{\"formatter\":{\"id\":\"3736\",\"type\":\"BasicTickFormatter\"},\"ticker\":{\"id\":\"3691\",\"type\":\"BasicTicker\"}},\"id\":\"3690\",\"type\":\"LinearAxis\"},{\"attributes\":{\"fill_alpha\":{\"value\":0.8},\"fill_color\":{\"value\":\"blue\"},\"line_alpha\":{\"value\":0.8},\"line_color\":{\"value\":\"blue\"},\"size\":{\"units\":\"screen\",\"value\":13},\"x\":{\"field\":\"x\"},\"y\":{\"field\":\"y\"}},\"id\":\"3709\",\"type\":\"Square\"},{\"attributes\":{\"tools\":[{\"id\":\"3625\",\"type\":\"PanTool\"},{\"id\":\"3626\",\"type\":\"WheelZoomTool\"},{\"id\":\"3627\",\"type\":\"BoxZoomTool\"},{\"id\":\"3628\",\"type\":\"SaveTool\"},{\"id\":\"3629\",\"type\":\"ResetTool\"},{\"id\":\"3630\",\"type\":\"HelpTool\"},{\"id\":\"3660\",\"type\":\"PanTool\"},{\"id\":\"3661\",\"type\":\"WheelZoomTool\"},{\"id\":\"3662\",\"type\":\"BoxZoomTool\"},{\"id\":\"3663\",\"type\":\"SaveTool\"},{\"id\":\"3664\",\"type\":\"ResetTool\"},{\"id\":\"3665\",\"type\":\"HelpTool\"},{\"id\":\"3695\",\"type\":\"PanTool\"},{\"id\":\"3696\",\"type\":\"WheelZoomTool\"},{\"id\":\"3697\",\"type\":\"BoxZoomTool\"},{\"id\":\"3698\",\"type\":\"SaveTool\"},{\"id\":\"3699\",\"type\":\"ResetTool\"},{\"id\":\"3700\",\"type\":\"HelpTool\"}]},\"id\":\"3744\",\"type\":\"ProxyToolbar\"},{\"attributes\":{},\"id\":\"3695\",\"type\":\"PanTool\"},{\"attributes\":{},\"id\":\"3691\",\"type\":\"BasicTicker\"},{\"attributes\":{\"fill_alpha\":{\"value\":0.1},\"fill_color\":{\"value\":\"#1f77b4\"},\"line_alpha\":{\"value\":0.1},\"line_color\":{\"value\":\"#1f77b4\"},\"size\":{\"units\":\"screen\",\"value\":13},\"x\":{\"field\":\"x\"},\"y\":{\"field\":\"y\"}},\"id\":\"3710\",\"type\":\"Square\"},{\"attributes\":{\"data_source\":{\"id\":\"3638\",\"type\":\"ColumnDataSource\"},\"glyph\":{\"id\":\"3639\",\"type\":\"Circle\"},\"hover_glyph\":null,\"muted_glyph\":null,\"nonselection_glyph\":{\"id\":\"3640\",\"type\":\"Circle\"},\"selection_glyph\":null,\"view\":{\"id\":\"3642\",\"type\":\"CDSView\"}},\"id\":\"3641\",\"type\":\"GlyphRenderer\"},{\"attributes\":{},\"id\":\"3730\",\"type\":\"Selection\"},{\"attributes\":{\"source\":{\"id\":\"3638\",\"type\":\"ColumnDataSource\"}},\"id\":\"3642\",\"type\":\"CDSView\"},{\"attributes\":{\"bottom_units\":\"screen\",\"fill_alpha\":{\"value\":0.5},\"fill_color\":{\"value\":\"lightgrey\"},\"left_units\":\"screen\",\"level\":\"overlay\",\"line_alpha\":{\"value\":1.0},\"line_color\":{\"value\":\"black\"},\"line_dash\":[4,4],\"line_width\":{\"value\":2},\"render_mode\":\"css\",\"right_units\":\"screen\",\"top_units\":\"screen\"},\"id\":\"3731\",\"type\":\"BoxAnnotation\"},{\"attributes\":{},\"id\":\"3696\",\"type\":\"WheelZoomTool\"},{\"attributes\":{\"text\":\"\"},\"id\":\"3733\",\"type\":\"Title\"},{\"attributes\":{},\"id\":\"3646\",\"type\":\"LinearScale\"},{\"attributes\":{},\"id\":\"3736\",\"type\":\"BasicTickFormatter\"},{\"attributes\":{},\"id\":\"3648\",\"type\":\"LinearScale\"},{\"attributes\":{},\"id\":\"3738\",\"type\":\"BasicTickFormatter\"},{\"attributes\":{\"formatter\":{\"id\":\"3728\",\"type\":\"BasicTickFormatter\"},\"ticker\":{\"id\":\"3651\",\"type\":\"BasicTicker\"}},\"id\":\"3650\",\"type\":\"LinearAxis\"},{\"attributes\":{},\"id\":\"3739\",\"type\":\"UnionRenderers\"},{\"attributes\":{},\"id\":\"3651\",\"type\":\"BasicTicker\"},{\"attributes\":{},\"id\":\"3740\",\"type\":\"Selection\"},{\"attributes\":{\"ticker\":{\"id\":\"3651\",\"type\":\"BasicTicker\"}},\"id\":\"3654\",\"type\":\"Grid\"},{\"attributes\":{\"bottom_units\":\"screen\",\"fill_alpha\":{\"value\":0.5},\"fill_color\":{\"value\":\"lightgrey\"},\"left_units\":\"screen\",\"level\":\"overlay\",\"line_alpha\":{\"value\":1.0},\"line_color\":{\"value\":\"black\"},\"line_dash\":[4,4],\"line_width\":{\"value\":2},\"render_mode\":\"css\",\"right_units\":\"screen\",\"top_units\":\"screen\"},\"id\":\"3741\",\"type\":\"BoxAnnotation\"},{\"attributes\":{\"formatter\":{\"id\":\"3726\",\"type\":\"BasicTickFormatter\"},\"ticker\":{\"id\":\"3656\",\"type\":\"BasicTicker\"}},\"id\":\"3655\",\"type\":\"LinearAxis\"},{\"attributes\":{\"toolbar\":{\"id\":\"3744\",\"type\":\"ProxyToolbar\"},\"toolbar_location\":\"above\"},\"id\":\"3745\",\"type\":\"ToolbarBox\"},{\"attributes\":{},\"id\":\"3656\",\"type\":\"BasicTicker\"},{\"attributes\":{\"dimension\":1,\"ticker\":{\"id\":\"3656\",\"type\":\"BasicTicker\"}},\"id\":\"3659\",\"type\":\"Grid\"},{\"attributes\":{},\"id\":\"3698\",\"type\":\"SaveTool\"},{\"attributes\":{\"text\":\"\"},\"id\":\"3723\",\"type\":\"Title\"},{\"attributes\":{\"overlay\":{\"id\":\"3741\",\"type\":\"BoxAnnotation\"}},\"id\":\"3697\",\"type\":\"BoxZoomTool\"},{\"attributes\":{\"callback\":null,\"data\":{\"x\":[-3,-4,-2,-6,-9,-8,-11,2,3,1,5,8,3,6,4,11,9],\"y\":[-1.5,-2.0,-1.0,-3.0,-4.5,-4.0,-5.5,1.0,1.5,0.5,2.5,4.0,1.5,3.0,2.0,5.5,4.5]},\"selected\":{\"id\":\"3720\",\"type\":\"Selection\"},\"selection_policy\":{\"id\":\"3719\",\"type\":\"UnionRenderers\"}},\"id\":\"3638\",\"type\":\"ColumnDataSource\"},{\"attributes\":{\"source\":{\"id\":\"3673\",\"type\":\"ColumnDataSource\"}},\"id\":\"3677\",\"type\":\"CDSView\"},{\"attributes\":{\"below\":[{\"id\":\"3615\",\"type\":\"LinearAxis\"}],\"center\":[{\"id\":\"3619\",\"type\":\"Grid\"},{\"id\":\"3624\",\"type\":\"Grid\"}],\"left\":[{\"id\":\"3620\",\"type\":\"LinearAxis\"}],\"plot_height\":250,\"plot_width\":255,\"renderers\":[{\"id\":\"3641\",\"type\":\"GlyphRenderer\"}],\"title\":{\"id\":\"3713\",\"type\":\"Title\"},\"toolbar\":{\"id\":\"3631\",\"type\":\"Toolbar\"},\"toolbar_location\":null,\"x_range\":{\"id\":\"3607\",\"type\":\"DataRange1d\"},\"x_scale\":{\"id\":\"3611\",\"type\":\"LinearScale\"},\"y_range\":{\"id\":\"3609\",\"type\":\"DataRange1d\"},\"y_scale\":{\"id\":\"3613\",\"type\":\"LinearScale\"}},\"id\":\"3606\",\"subtype\":\"Figure\",\"type\":\"Plot\"},{\"attributes\":{},\"id\":\"3660\",\"type\":\"PanTool\"},{\"attributes\":{},\"id\":\"3681\",\"type\":\"LinearScale\"},{\"attributes\":{},\"id\":\"3661\",\"type\":\"WheelZoomTool\"},{\"attributes\":{\"overlay\":{\"id\":\"3731\",\"type\":\"BoxAnnotation\"}},\"id\":\"3662\",\"type\":\"BoxZoomTool\"},{\"attributes\":{\"callback\":null},\"id\":\"3607\",\"type\":\"DataRange1d\"},{\"attributes\":{\"callback\":null},\"id\":\"3609\",\"type\":\"DataRange1d\"},{\"attributes\":{},\"id\":\"3663\",\"type\":\"SaveTool\"},{\"attributes\":{\"callback\":null,\"data\":{\"x\":[-3,-4,-2,-6,-9,-8,-11,2,3,1,5,8,3,6,4,11,9],\"y\":[-27,-64,-8,-216,-729,-512,-1331,8,27,1,125,512,27,216,64,1331,729]},\"selected\":{\"id\":\"3740\",\"type\":\"Selection\"},\"selection_policy\":{\"id\":\"3739\",\"type\":\"UnionRenderers\"}},\"id\":\"3708\",\"type\":\"ColumnDataSource\"},{\"attributes\":{},\"id\":\"3664\",\"type\":\"ResetTool\"},{\"attributes\":{},\"id\":\"3611\",\"type\":\"LinearScale\"},{\"attributes\":{},\"id\":\"3665\",\"type\":\"HelpTool\"},{\"attributes\":{},\"id\":\"3613\",\"type\":\"LinearScale\"},{\"attributes\":{\"formatter\":{\"id\":\"3718\",\"type\":\"BasicTickFormatter\"},\"ticker\":{\"id\":\"3616\",\"type\":\"BasicTicker\"}},\"id\":\"3615\",\"type\":\"LinearAxis\"},{\"attributes\":{\"active_drag\":\"auto\",\"active_inspect\":\"auto\",\"active_multi\":null,\"active_scroll\":\"auto\",\"active_tap\":\"auto\",\"tools\":[{\"id\":\"3660\",\"type\":\"PanTool\"},{\"id\":\"3661\",\"type\":\"WheelZoomTool\"},{\"id\":\"3662\",\"type\":\"BoxZoomTool\"},{\"id\":\"3663\",\"type\":\"SaveTool\"},{\"id\":\"3664\",\"type\":\"ResetTool\"},{\"id\":\"3665\",\"type\":\"HelpTool\"}]},\"id\":\"3666\",\"type\":\"Toolbar\"},{\"attributes\":{},\"id\":\"3699\",\"type\":\"ResetTool\"},{\"attributes\":{},\"id\":\"3616\",\"type\":\"BasicTicker\"},{\"attributes\":{},\"id\":\"3700\",\"type\":\"HelpTool\"},{\"attributes\":{\"ticker\":{\"id\":\"3616\",\"type\":\"BasicTicker\"}},\"id\":\"3619\",\"type\":\"Grid\"},{\"attributes\":{\"active_drag\":\"auto\",\"active_inspect\":\"auto\",\"active_multi\":null,\"active_scroll\":\"auto\",\"active_tap\":\"auto\",\"tools\":[{\"id\":\"3695\",\"type\":\"PanTool\"},{\"id\":\"3696\",\"type\":\"WheelZoomTool\"},{\"id\":\"3697\",\"type\":\"BoxZoomTool\"},{\"id\":\"3698\",\"type\":\"SaveTool\"},{\"id\":\"3699\",\"type\":\"ResetTool\"},{\"id\":\"3700\",\"type\":\"HelpTool\"}]},\"id\":\"3701\",\"type\":\"Toolbar\"},{\"attributes\":{\"formatter\":{\"id\":\"3716\",\"type\":\"BasicTickFormatter\"},\"ticker\":{\"id\":\"3621\",\"type\":\"BasicTicker\"}},\"id\":\"3620\",\"type\":\"LinearAxis\"},{\"attributes\":{\"data_source\":{\"id\":\"3708\",\"type\":\"ColumnDataSource\"},\"glyph\":{\"id\":\"3709\",\"type\":\"Square\"},\"hover_glyph\":null,\"muted_glyph\":null,\"nonselection_glyph\":{\"id\":\"3710\",\"type\":\"Square\"},\"selection_glyph\":null,\"view\":{\"id\":\"3712\",\"type\":\"CDSView\"}},\"id\":\"3711\",\"type\":\"GlyphRenderer\"},{\"attributes\":{},\"id\":\"3621\",\"type\":\"BasicTicker\"},{\"attributes\":{\"source\":{\"id\":\"3708\",\"type\":\"ColumnDataSource\"}},\"id\":\"3712\",\"type\":\"CDSView\"},{\"attributes\":{\"dimension\":1,\"ticker\":{\"id\":\"3621\",\"type\":\"BasicTicker\"}},\"id\":\"3624\",\"type\":\"Grid\"},{\"attributes\":{\"text\":\"\"},\"id\":\"3713\",\"type\":\"Title\"},{\"attributes\":{\"fill_alpha\":{\"value\":0.5},\"fill_color\":{\"value\":\"yellow\"},\"line_alpha\":{\"value\":0.5},\"line_color\":{\"value\":\"green\"},\"size\":{\"units\":\"screen\",\"value\":13},\"x\":{\"field\":\"x\"},\"y\":{\"field\":\"y\"}},\"id\":\"3639\",\"type\":\"Circle\"},{\"attributes\":{\"below\":[{\"id\":\"3650\",\"type\":\"LinearAxis\"}],\"center\":[{\"id\":\"3654\",\"type\":\"Grid\"},{\"id\":\"3659\",\"type\":\"Grid\"}],\"left\":[{\"id\":\"3655\",\"type\":\"LinearAxis\"}],\"plot_height\":250,\"plot_width\":255,\"renderers\":[{\"id\":\"3676\",\"type\":\"GlyphRenderer\"}],\"title\":{\"id\":\"3723\",\"type\":\"Title\"},\"toolbar\":{\"id\":\"3666\",\"type\":\"Toolbar\"},\"toolbar_location\":null,\"x_range\":{\"id\":\"3607\",\"type\":\"DataRange1d\"},\"x_scale\":{\"id\":\"3646\",\"type\":\"LinearScale\"},\"y_range\":{\"id\":\"3609\",\"type\":\"DataRange1d\"},\"y_scale\":{\"id\":\"3648\",\"type\":\"LinearScale\"}},\"id\":\"3643\",\"subtype\":\"Figure\",\"type\":\"Plot\"},{\"attributes\":{},\"id\":\"3716\",\"type\":\"BasicTickFormatter\"},{\"attributes\":{},\"id\":\"3625\",\"type\":\"PanTool\"},{\"attributes\":{},\"id\":\"3718\",\"type\":\"BasicTickFormatter\"},{\"attributes\":{},\"id\":\"3626\",\"type\":\"WheelZoomTool\"},{\"attributes\":{},\"id\":\"3719\",\"type\":\"UnionRenderers\"},{\"attributes\":{\"overlay\":{\"id\":\"3721\",\"type\":\"BoxAnnotation\"}},\"id\":\"3627\",\"type\":\"BoxZoomTool\"},{\"attributes\":{},\"id\":\"3720\",\"type\":\"Selection\"},{\"attributes\":{},\"id\":\"3628\",\"type\":\"SaveTool\"},{\"attributes\":{\"bottom_units\":\"screen\",\"fill_alpha\":{\"value\":0.5},\"fill_color\":{\"value\":\"lightgrey\"},\"left_units\":\"screen\",\"level\":\"overlay\",\"line_alpha\":{\"value\":1.0},\"line_color\":{\"value\":\"black\"},\"line_dash\":[4,4],\"line_width\":{\"value\":2},\"render_mode\":\"css\",\"right_units\":\"screen\",\"top_units\":\"screen\"},\"id\":\"3721\",\"type\":\"BoxAnnotation\"},{\"attributes\":{},\"id\":\"3629\",\"type\":\"ResetTool\"},{\"attributes\":{},\"id\":\"3630\",\"type\":\"HelpTool\"},{\"attributes\":{},\"id\":\"3726\",\"type\":\"BasicTickFormatter\"},{\"attributes\":{\"active_drag\":\"auto\",\"active_inspect\":\"auto\",\"active_multi\":null,\"active_scroll\":\"auto\",\"active_tap\":\"auto\",\"tools\":[{\"id\":\"3625\",\"type\":\"PanTool\"},{\"id\":\"3626\",\"type\":\"WheelZoomTool\"},{\"id\":\"3627\",\"type\":\"BoxZoomTool\"},{\"id\":\"3628\",\"type\":\"SaveTool\"},{\"id\":\"3629\",\"type\":\"ResetTool\"},{\"id\":\"3630\",\"type\":\"HelpTool\"}]},\"id\":\"3631\",\"type\":\"Toolbar\"},{\"attributes\":{},\"id\":\"3728\",\"type\":\"BasicTickFormatter\"},{\"attributes\":{\"fill_alpha\":{\"value\":0.1},\"fill_color\":{\"value\":\"#1f77b4\"},\"line_alpha\":{\"value\":0.1},\"line_color\":{\"value\":\"#1f77b4\"},\"size\":{\"units\":\"screen\",\"value\":13},\"x\":{\"field\":\"x\"},\"y\":{\"field\":\"y\"}},\"id\":\"3640\",\"type\":\"Circle\"},{\"attributes\":{},\"id\":\"3729\",\"type\":\"UnionRenderers\"}],\"root_ids\":[\"3746\"]},\"title\":\"Bokeh Application\",\"version\":\"1.2.0\"}};\n",
       "  var render_items = [{\"docid\":\"64ffa234-71bf-4f34-a4a5-167fc8db35e3\",\"roots\":{\"3746\":\"59b6e8f6-ae70-4e4b-bfba-8cf4dc0b43b3\"}}];\n",
       "  root.Bokeh.embed.embed_items_notebook(docs_json, render_items);\n",
       "\n",
       "  }\n",
       "  if (root.Bokeh !== undefined) {\n",
       "    embed_document(root);\n",
       "  } else {\n",
       "    var attempts = 0;\n",
       "    var timer = setInterval(function(root) {\n",
       "      if (root.Bokeh !== undefined) {\n",
       "        embed_document(root);\n",
       "        clearInterval(timer);\n",
       "      }\n",
       "      attempts++;\n",
       "      if (attempts > 100) {\n",
       "        console.log(\"Bokeh: ERROR: Unable to run BokehJS code because BokehJS library is missing\");\n",
       "        clearInterval(timer);\n",
       "      }\n",
       "    }, 10, root)\n",
       "  }\n",
       "})(window);"
      ],
      "application/vnd.bokehjs_exec.v0+json": ""
     },
     "metadata": {
      "application/vnd.bokehjs_exec.v0+json": {
       "id": "3746"
      }
     },
     "output_type": "display_data"
    }
   ],
   "source": [
    "p1 = figure(plot_width=255, plot_height=250)\n",
    "p1.circle(x, y0, size=13, color='green', fill_color='yellow', alpha=0.5)\n",
    "\n",
    "p2 = figure(x_range=p1.x_range, y_range=p1.y_range, plot_width=255, plot_height=250)\n",
    "p2.diamond(x, y1, size=13, color='red', fill_color='orange')\n",
    "\n",
    "p3 = figure(x_range=p1.x_range, y_range=p1.y_range, plot_width=255, plot_height=250)\n",
    "p3.square(x, y2, size=13, color='blue', alpha=0.8)\n",
    "\n",
    "p = gridplot([[p1,p2,p3]])\n",
    "\n",
    "show(p)\n"
   ]
  },
  {
   "cell_type": "code",
   "execution_count": 32,
   "metadata": {},
   "outputs": [
    {
     "data": {
      "text/html": [
       "\n",
       "\n",
       "\n",
       "\n",
       "\n",
       "\n",
       "  <div class=\"bk-root\" id=\"e99d59af-2a39-4d14-a718-fe4c3452aacf\" data-root-id=\"4187\"></div>\n"
      ]
     },
     "metadata": {},
     "output_type": "display_data"
    },
    {
     "data": {
      "application/javascript": [
       "(function(root) {\n",
       "  function embed_document(root) {\n",
       "    \n",
       "  var docs_json = {\"ba5e6d66-9402-4efb-9d66-6f2a9e50c12d\":{\"roots\":{\"references\":[{\"attributes\":{\"children\":[{\"id\":\"4186\",\"type\":\"ToolbarBox\"},{\"id\":\"4184\",\"type\":\"GridBox\"}]},\"id\":\"4187\",\"type\":\"Column\"},{\"attributes\":{\"source\":{\"id\":\"4097\",\"type\":\"ColumnDataSource\"}},\"id\":\"4101\",\"type\":\"CDSView\"},{\"attributes\":{},\"id\":\"4163\",\"type\":\"UnionRenderers\"},{\"attributes\":{\"data_source\":{\"id\":\"4152\",\"type\":\"ColumnDataSource\"},\"glyph\":{\"id\":\"4153\",\"type\":\"Square\"},\"hover_glyph\":null,\"muted_glyph\":null,\"nonselection_glyph\":{\"id\":\"4154\",\"type\":\"Square\"},\"selection_glyph\":null,\"view\":{\"id\":\"4156\",\"type\":\"CDSView\"}},\"id\":\"4155\",\"type\":\"GlyphRenderer\"},{\"attributes\":{\"source\":{\"id\":\"4152\",\"type\":\"ColumnDataSource\"}},\"id\":\"4156\",\"type\":\"CDSView\"},{\"attributes\":{\"callback\":null,\"data\":{\"x\":[-3,-4,-2,-6,-9,-8,-11,2,3,1,5,8,3,6,4,11,9],\"y\":[9,16,4,36,81,64,121,4,9,1,25,64,9,36,16,121,81]},\"selected\":{\"id\":\"4173\",\"type\":\"Selection\"},\"selection_policy\":{\"id\":\"4172\",\"type\":\"UnionRenderers\"}},\"id\":\"4124\",\"type\":\"ColumnDataSource\"},{\"attributes\":{},\"id\":\"4164\",\"type\":\"Selection\"},{\"attributes\":{\"callback\":null},\"id\":\"4131\",\"type\":\"DataRange1d\"},{\"attributes\":{\"text\":\"\"},\"id\":\"4166\",\"type\":\"Title\"},{\"attributes\":{\"fill_color\":{\"value\":\"orange\"},\"line_color\":{\"value\":\"red\"},\"size\":{\"units\":\"screen\",\"value\":13},\"x\":{\"field\":\"x\"},\"y\":{\"field\":\"y\"}},\"id\":\"4125\",\"type\":\"Diamond\"},{\"attributes\":{\"fill_alpha\":{\"value\":0.8},\"fill_color\":{\"value\":\"blue\"},\"line_alpha\":{\"value\":0.8},\"line_color\":{\"value\":\"blue\"},\"size\":{\"units\":\"screen\",\"value\":13},\"x\":{\"field\":\"x\"},\"y\":{\"field\":\"y\"}},\"id\":\"4153\",\"type\":\"Square\"},{\"attributes\":{},\"id\":\"4105\",\"type\":\"LinearScale\"},{\"attributes\":{},\"id\":\"4133\",\"type\":\"LinearScale\"},{\"attributes\":{},\"id\":\"4169\",\"type\":\"BasicTickFormatter\"},{\"attributes\":{},\"id\":\"4107\",\"type\":\"LinearScale\"},{\"attributes\":{},\"id\":\"4135\",\"type\":\"LinearScale\"},{\"attributes\":{},\"id\":\"4171\",\"type\":\"BasicTickFormatter\"},{\"attributes\":{\"formatter\":{\"id\":\"4171\",\"type\":\"BasicTickFormatter\"},\"ticker\":{\"id\":\"4110\",\"type\":\"BasicTicker\"}},\"id\":\"4109\",\"type\":\"LinearAxis\"},{\"attributes\":{\"formatter\":{\"id\":\"4180\",\"type\":\"BasicTickFormatter\"},\"ticker\":{\"id\":\"4138\",\"type\":\"BasicTicker\"}},\"id\":\"4137\",\"type\":\"LinearAxis\"},{\"attributes\":{},\"id\":\"4172\",\"type\":\"UnionRenderers\"},{\"attributes\":{\"children\":[[{\"id\":\"4073\",\"subtype\":\"Figure\",\"type\":\"Plot\"},0,0],[{\"id\":\"4102\",\"subtype\":\"Figure\",\"type\":\"Plot\"},0,1],[{\"id\":\"4129\",\"subtype\":\"Figure\",\"type\":\"Plot\"},0,2]]},\"id\":\"4184\",\"type\":\"GridBox\"},{\"attributes\":{},\"id\":\"4110\",\"type\":\"BasicTicker\"},{\"attributes\":{},\"id\":\"4138\",\"type\":\"BasicTicker\"},{\"attributes\":{\"fill_alpha\":{\"value\":0.1},\"fill_color\":{\"value\":\"#1f77b4\"},\"line_alpha\":{\"value\":0.1},\"line_color\":{\"value\":\"#1f77b4\"},\"size\":{\"units\":\"screen\",\"value\":13},\"x\":{\"field\":\"x\"},\"y\":{\"field\":\"y\"}},\"id\":\"4154\",\"type\":\"Square\"},{\"attributes\":{\"callback\":null,\"data\":{\"x\":[-3,-4,-2,-6,-9,-8,-11,2,3,1,5,8,3,6,4,11,9],\"y\":[-27,-64,-8,-216,-729,-512,-1331,8,27,1,125,512,27,216,64,1331,729]},\"selected\":{\"id\":\"4182\",\"type\":\"Selection\"},\"selection_policy\":{\"id\":\"4181\",\"type\":\"UnionRenderers\"}},\"id\":\"4152\",\"type\":\"ColumnDataSource\"},{\"attributes\":{},\"id\":\"4173\",\"type\":\"Selection\"},{\"attributes\":{\"ticker\":{\"id\":\"4110\",\"type\":\"BasicTicker\"}},\"id\":\"4113\",\"type\":\"Grid\"},{\"attributes\":{\"ticker\":{\"id\":\"4138\",\"type\":\"BasicTicker\"}},\"id\":\"4141\",\"type\":\"Grid\"},{\"attributes\":{\"text\":\"\"},\"id\":\"4175\",\"type\":\"Title\"},{\"attributes\":{\"fill_alpha\":{\"value\":0.1},\"fill_color\":{\"value\":\"#1f77b4\"},\"line_alpha\":{\"value\":0.1},\"line_color\":{\"value\":\"#1f77b4\"},\"size\":{\"units\":\"screen\",\"value\":13},\"x\":{\"field\":\"x\"},\"y\":{\"field\":\"y\"}},\"id\":\"4099\",\"type\":\"Circle\"},{\"attributes\":{\"callback\":null},\"id\":\"4074\",\"type\":\"DataRange1d\"},{\"attributes\":{\"formatter\":{\"id\":\"4162\",\"type\":\"BasicTickFormatter\"},\"ticker\":{\"id\":\"4083\",\"type\":\"BasicTicker\"}},\"id\":\"4082\",\"type\":\"LinearAxis\"},{\"attributes\":{\"formatter\":{\"id\":\"4169\",\"type\":\"BasicTickFormatter\"},\"ticker\":{\"id\":\"4115\",\"type\":\"BasicTicker\"}},\"id\":\"4114\",\"type\":\"LinearAxis\"},{\"attributes\":{\"formatter\":{\"id\":\"4178\",\"type\":\"BasicTickFormatter\"},\"ticker\":{\"id\":\"4143\",\"type\":\"BasicTicker\"}},\"id\":\"4142\",\"type\":\"LinearAxis\"},{\"attributes\":{\"callback\":null,\"data\":{\"x\":[-3,-4,-2,-6,-9,-8,-11,2,3,1,5,8,3,6,4,11,9],\"y\":[-1.5,-2.0,-1.0,-3.0,-4.5,-4.0,-5.5,1.0,1.5,0.5,2.5,4.0,1.5,3.0,2.0,5.5,4.5]},\"selected\":{\"id\":\"4164\",\"type\":\"Selection\"},\"selection_policy\":{\"id\":\"4163\",\"type\":\"UnionRenderers\"}},\"id\":\"4097\",\"type\":\"ColumnDataSource\"},{\"attributes\":{},\"id\":\"4178\",\"type\":\"BasicTickFormatter\"},{\"attributes\":{\"below\":[{\"id\":\"4082\",\"type\":\"LinearAxis\"}],\"center\":[{\"id\":\"4086\",\"type\":\"Grid\"},{\"id\":\"4091\",\"type\":\"Grid\"}],\"left\":[{\"id\":\"4087\",\"type\":\"LinearAxis\"}],\"plot_height\":250,\"plot_width\":255,\"renderers\":[{\"id\":\"4100\",\"type\":\"GlyphRenderer\"}],\"title\":{\"id\":\"4157\",\"type\":\"Title\"},\"toolbar\":{\"id\":\"4094\",\"type\":\"Toolbar\"},\"toolbar_location\":null,\"x_range\":{\"id\":\"4074\",\"type\":\"DataRange1d\"},\"x_scale\":{\"id\":\"4078\",\"type\":\"LinearScale\"},\"y_range\":{\"id\":\"4076\",\"type\":\"DataRange1d\"},\"y_scale\":{\"id\":\"4080\",\"type\":\"LinearScale\"}},\"id\":\"4073\",\"subtype\":\"Figure\",\"type\":\"Plot\"},{\"attributes\":{},\"id\":\"4088\",\"type\":\"BasicTicker\"},{\"attributes\":{},\"id\":\"4115\",\"type\":\"BasicTicker\"},{\"attributes\":{},\"id\":\"4143\",\"type\":\"BasicTicker\"},{\"attributes\":{},\"id\":\"4180\",\"type\":\"BasicTickFormatter\"},{\"attributes\":{},\"id\":\"4092\",\"type\":\"ResetTool\"},{\"attributes\":{\"dimension\":1,\"ticker\":{\"id\":\"4115\",\"type\":\"BasicTicker\"}},\"id\":\"4118\",\"type\":\"Grid\"},{\"attributes\":{\"dimension\":1,\"ticker\":{\"id\":\"4143\",\"type\":\"BasicTicker\"}},\"id\":\"4146\",\"type\":\"Grid\"},{\"attributes\":{\"below\":[{\"id\":\"4109\",\"type\":\"LinearAxis\"}],\"center\":[{\"id\":\"4113\",\"type\":\"Grid\"},{\"id\":\"4118\",\"type\":\"Grid\"}],\"left\":[{\"id\":\"4114\",\"type\":\"LinearAxis\"}],\"plot_height\":250,\"plot_width\":255,\"renderers\":[{\"id\":\"4127\",\"type\":\"GlyphRenderer\"}],\"title\":{\"id\":\"4166\",\"type\":\"Title\"},\"toolbar\":{\"id\":\"4121\",\"type\":\"Toolbar\"},\"toolbar_location\":null,\"x_range\":{\"id\":\"4074\",\"type\":\"DataRange1d\"},\"x_scale\":{\"id\":\"4105\",\"type\":\"LinearScale\"},\"y_range\":{\"id\":\"4076\",\"type\":\"DataRange1d\"},\"y_scale\":{\"id\":\"4107\",\"type\":\"LinearScale\"}},\"id\":\"4102\",\"subtype\":\"Figure\",\"type\":\"Plot\"},{\"attributes\":{},\"id\":\"4181\",\"type\":\"UnionRenderers\"},{\"attributes\":{},\"id\":\"4093\",\"type\":\"PanTool\"},{\"attributes\":{\"callback\":null},\"id\":\"4076\",\"type\":\"DataRange1d\"},{\"attributes\":{\"ticker\":{\"id\":\"4083\",\"type\":\"BasicTicker\"}},\"id\":\"4086\",\"type\":\"Grid\"},{\"attributes\":{\"below\":[{\"id\":\"4137\",\"type\":\"LinearAxis\"}],\"center\":[{\"id\":\"4141\",\"type\":\"Grid\"},{\"id\":\"4146\",\"type\":\"Grid\"}],\"left\":[{\"id\":\"4142\",\"type\":\"LinearAxis\"}],\"plot_height\":250,\"plot_width\":255,\"renderers\":[{\"id\":\"4155\",\"type\":\"GlyphRenderer\"}],\"title\":{\"id\":\"4175\",\"type\":\"Title\"},\"toolbar\":{\"id\":\"4149\",\"type\":\"Toolbar\"},\"toolbar_location\":null,\"x_range\":{\"id\":\"4074\",\"type\":\"DataRange1d\"},\"x_scale\":{\"id\":\"4133\",\"type\":\"LinearScale\"},\"y_range\":{\"id\":\"4131\",\"type\":\"DataRange1d\"},\"y_scale\":{\"id\":\"4135\",\"type\":\"LinearScale\"}},\"id\":\"4129\",\"subtype\":\"Figure\",\"type\":\"Plot\"},{\"attributes\":{},\"id\":\"4182\",\"type\":\"Selection\"},{\"attributes\":{\"active_drag\":\"auto\",\"active_inspect\":\"auto\",\"active_multi\":null,\"active_scroll\":\"auto\",\"active_tap\":\"auto\",\"tools\":[{\"id\":\"4119\",\"type\":\"ResetTool\"},{\"id\":\"4120\",\"type\":\"PanTool\"}]},\"id\":\"4121\",\"type\":\"Toolbar\"},{\"attributes\":{\"active_drag\":\"auto\",\"active_inspect\":\"auto\",\"active_multi\":null,\"active_scroll\":\"auto\",\"active_tap\":\"auto\",\"tools\":[{\"id\":\"4147\",\"type\":\"ResetTool\"},{\"id\":\"4148\",\"type\":\"PanTool\"}]},\"id\":\"4149\",\"type\":\"Toolbar\"},{\"attributes\":{},\"id\":\"4083\",\"type\":\"BasicTicker\"},{\"attributes\":{},\"id\":\"4119\",\"type\":\"ResetTool\"},{\"attributes\":{\"tools\":[{\"id\":\"4092\",\"type\":\"ResetTool\"},{\"id\":\"4093\",\"type\":\"PanTool\"},{\"id\":\"4119\",\"type\":\"ResetTool\"},{\"id\":\"4120\",\"type\":\"PanTool\"},{\"id\":\"4147\",\"type\":\"ResetTool\"},{\"id\":\"4148\",\"type\":\"PanTool\"}]},\"id\":\"4185\",\"type\":\"ProxyToolbar\"},{\"attributes\":{\"dimension\":1,\"ticker\":{\"id\":\"4088\",\"type\":\"BasicTicker\"}},\"id\":\"4091\",\"type\":\"Grid\"},{\"attributes\":{},\"id\":\"4147\",\"type\":\"ResetTool\"},{\"attributes\":{},\"id\":\"4080\",\"type\":\"LinearScale\"},{\"attributes\":{},\"id\":\"4078\",\"type\":\"LinearScale\"},{\"attributes\":{},\"id\":\"4120\",\"type\":\"PanTool\"},{\"attributes\":{\"toolbar\":{\"id\":\"4185\",\"type\":\"ProxyToolbar\"},\"toolbar_location\":\"above\"},\"id\":\"4186\",\"type\":\"ToolbarBox\"},{\"attributes\":{},\"id\":\"4148\",\"type\":\"PanTool\"},{\"attributes\":{\"text\":\"\"},\"id\":\"4157\",\"type\":\"Title\"},{\"attributes\":{\"data_source\":{\"id\":\"4097\",\"type\":\"ColumnDataSource\"},\"glyph\":{\"id\":\"4098\",\"type\":\"Circle\"},\"hover_glyph\":null,\"muted_glyph\":null,\"nonselection_glyph\":{\"id\":\"4099\",\"type\":\"Circle\"},\"selection_glyph\":null,\"view\":{\"id\":\"4101\",\"type\":\"CDSView\"}},\"id\":\"4100\",\"type\":\"GlyphRenderer\"},{\"attributes\":{\"fill_alpha\":{\"value\":0.1},\"fill_color\":{\"value\":\"#1f77b4\"},\"line_alpha\":{\"value\":0.1},\"line_color\":{\"value\":\"#1f77b4\"},\"size\":{\"units\":\"screen\",\"value\":13},\"x\":{\"field\":\"x\"},\"y\":{\"field\":\"y\"}},\"id\":\"4126\",\"type\":\"Diamond\"},{\"attributes\":{\"active_drag\":\"auto\",\"active_inspect\":\"auto\",\"active_multi\":null,\"active_scroll\":\"auto\",\"active_tap\":\"auto\",\"tools\":[{\"id\":\"4092\",\"type\":\"ResetTool\"},{\"id\":\"4093\",\"type\":\"PanTool\"}]},\"id\":\"4094\",\"type\":\"Toolbar\"},{\"attributes\":{},\"id\":\"4160\",\"type\":\"BasicTickFormatter\"},{\"attributes\":{\"fill_alpha\":{\"value\":0.5},\"fill_color\":{\"value\":\"yellow\"},\"line_alpha\":{\"value\":0.5},\"line_color\":{\"value\":\"green\"},\"size\":{\"units\":\"screen\",\"value\":13},\"x\":{\"field\":\"x\"},\"y\":{\"field\":\"y\"}},\"id\":\"4098\",\"type\":\"Circle\"},{\"attributes\":{\"data_source\":{\"id\":\"4124\",\"type\":\"ColumnDataSource\"},\"glyph\":{\"id\":\"4125\",\"type\":\"Diamond\"},\"hover_glyph\":null,\"muted_glyph\":null,\"nonselection_glyph\":{\"id\":\"4126\",\"type\":\"Diamond\"},\"selection_glyph\":null,\"view\":{\"id\":\"4128\",\"type\":\"CDSView\"}},\"id\":\"4127\",\"type\":\"GlyphRenderer\"},{\"attributes\":{\"formatter\":{\"id\":\"4160\",\"type\":\"BasicTickFormatter\"},\"ticker\":{\"id\":\"4088\",\"type\":\"BasicTicker\"}},\"id\":\"4087\",\"type\":\"LinearAxis\"},{\"attributes\":{},\"id\":\"4162\",\"type\":\"BasicTickFormatter\"},{\"attributes\":{\"source\":{\"id\":\"4124\",\"type\":\"ColumnDataSource\"}},\"id\":\"4128\",\"type\":\"CDSView\"}],\"root_ids\":[\"4187\"]},\"title\":\"Bokeh Application\",\"version\":\"1.2.0\"}};\n",
       "  var render_items = [{\"docid\":\"ba5e6d66-9402-4efb-9d66-6f2a9e50c12d\",\"roots\":{\"4187\":\"e99d59af-2a39-4d14-a718-fe4c3452aacf\"}}];\n",
       "  root.Bokeh.embed.embed_items_notebook(docs_json, render_items);\n",
       "\n",
       "  }\n",
       "  if (root.Bokeh !== undefined) {\n",
       "    embed_document(root);\n",
       "  } else {\n",
       "    var attempts = 0;\n",
       "    var timer = setInterval(function(root) {\n",
       "      if (root.Bokeh !== undefined) {\n",
       "        embed_document(root);\n",
       "        clearInterval(timer);\n",
       "      }\n",
       "      attempts++;\n",
       "      if (attempts > 100) {\n",
       "        console.log(\"Bokeh: ERROR: Unable to run BokehJS code because BokehJS library is missing\");\n",
       "        clearInterval(timer);\n",
       "      }\n",
       "    }, 10, root)\n",
       "  }\n",
       "})(window);"
      ],
      "application/vnd.bokehjs_exec.v0+json": ""
     },
     "metadata": {
      "application/vnd.bokehjs_exec.v0+json": {
       "id": "4187"
      }
     },
     "output_type": "display_data"
    }
   ],
   "source": [
    "p1 = figure(plot_width=255, plot_height=250, tools='reset,pan')\n",
    "p1.circle(x, y0, size=13, color='green', fill_color='yellow', alpha=0.5)\n",
    "\n",
    "p2 = figure(x_range=p1.x_range, y_range=p1.y_range, plot_width=255, plot_height=250,tools='reset,pan')\n",
    "p2.diamond(x, y1, size=13, color='red', fill_color='orange')\n",
    "\n",
    "p3 = figure(x_range=p1.x_range, plot_width=255, plot_height=250,tools='reset,pan')\n",
    "p3.square(x, y2, size=13, color='blue', alpha=0.8)\n",
    "\n",
    "p = gridplot([[p1,p2,p3]])\n",
    "\n",
    "show(p)"
   ]
  },
  {
   "cell_type": "code",
   "execution_count": 33,
   "metadata": {},
   "outputs": [],
   "source": [
    "# Linked Brushing"
   ]
  },
  {
   "cell_type": "code",
   "execution_count": 34,
   "metadata": {},
   "outputs": [],
   "source": [
    "from bokeh.io import output_notebook, show\n",
    "from bokeh.plotting import figure\n",
    "from bokeh.layouts import gridplot\n",
    "\n",
    "from bokeh.models import ColumnDataSource"
   ]
  },
  {
   "cell_type": "code",
   "execution_count": 35,
   "metadata": {},
   "outputs": [
    {
     "data": {
      "text/plain": [
       "[-3, -4, -2, -6, -9, -8, -11, 2, 3, 1, 5, 8, 3, 6, 4, 11, 9]"
      ]
     },
     "execution_count": 35,
     "metadata": {},
     "output_type": "execute_result"
    }
   ],
   "source": [
    "x"
   ]
  },
  {
   "cell_type": "code",
   "execution_count": 36,
   "metadata": {},
   "outputs": [],
   "source": [
    "#y0"
   ]
  },
  {
   "cell_type": "code",
   "execution_count": 37,
   "metadata": {},
   "outputs": [],
   "source": [
    "source = ColumnDataSource(data=dict(x=x,y0=y0,y1=y1))"
   ]
  },
  {
   "cell_type": "code",
   "execution_count": 38,
   "metadata": {},
   "outputs": [
    {
     "data": {
      "text/html": [
       "\n",
       "\n",
       "\n",
       "\n",
       "\n",
       "\n",
       "  <div class=\"bk-root\" id=\"fb3c41ff-6058-454d-bca3-d44615be4e0e\" data-root-id=\"4600\"></div>\n"
      ]
     },
     "metadata": {},
     "output_type": "display_data"
    },
    {
     "data": {
      "application/javascript": [
       "(function(root) {\n",
       "  function embed_document(root) {\n",
       "    \n",
       "  var docs_json = {\"174b152d-da42-494d-830b-466cb0acc3f1\":{\"roots\":{\"references\":[{\"attributes\":{\"children\":[{\"id\":\"4599\",\"type\":\"ToolbarBox\"},{\"id\":\"4597\",\"type\":\"GridBox\"}]},\"id\":\"4600\",\"type\":\"Column\"},{\"attributes\":{\"dimension\":1,\"ticker\":{\"id\":\"4565\",\"type\":\"BasicTicker\"}},\"id\":\"4568\",\"type\":\"Grid\"},{\"attributes\":{},\"id\":\"4585\",\"type\":\"UnionRenderers\"},{\"attributes\":{\"formatter\":{\"id\":\"4593\",\"type\":\"BasicTickFormatter\"},\"ticker\":{\"id\":\"4560\",\"type\":\"BasicTicker\"}},\"id\":\"4559\",\"type\":\"LinearAxis\"},{\"attributes\":{\"callback\":null},\"id\":\"4553\",\"type\":\"DataRange1d\"},{\"attributes\":{},\"id\":\"4528\",\"type\":\"LinearScale\"},{\"attributes\":{\"text\":\"\"},\"id\":\"4588\",\"type\":\"Title\"},{\"attributes\":{\"fill_alpha\":{\"value\":0.1},\"fill_color\":{\"value\":\"#1f77b4\"},\"line_alpha\":{\"value\":0.1},\"line_color\":{\"value\":\"#1f77b4\"},\"size\":{\"units\":\"screen\",\"value\":13},\"x\":{\"field\":\"x\"},\"y\":{\"field\":\"y1\"}},\"id\":\"4576\",\"type\":\"Circle\"},{\"attributes\":{},\"id\":\"4555\",\"type\":\"LinearScale\"},{\"attributes\":{\"formatter\":{\"id\":\"4584\",\"type\":\"BasicTickFormatter\"},\"ticker\":{\"id\":\"4531\",\"type\":\"BasicTicker\"}},\"id\":\"4530\",\"type\":\"LinearAxis\"},{\"attributes\":{\"fill_color\":{\"value\":\"blue\"},\"line_color\":{\"value\":\"blue\"},\"size\":{\"units\":\"screen\",\"value\":13},\"x\":{\"field\":\"x\"},\"y\":{\"field\":\"y1\"}},\"id\":\"4575\",\"type\":\"Circle\"},{\"attributes\":{},\"id\":\"4593\",\"type\":\"BasicTickFormatter\"},{\"attributes\":{},\"id\":\"4531\",\"type\":\"BasicTicker\"},{\"attributes\":{},\"id\":\"4582\",\"type\":\"BasicTickFormatter\"},{\"attributes\":{\"ticker\":{\"id\":\"4531\",\"type\":\"BasicTicker\"}},\"id\":\"4534\",\"type\":\"Grid\"},{\"attributes\":{\"active_drag\":\"auto\",\"active_inspect\":\"auto\",\"active_multi\":null,\"active_scroll\":\"auto\",\"active_tap\":\"auto\",\"tools\":[{\"id\":\"4569\",\"type\":\"ResetTool\"},{\"id\":\"4570\",\"type\":\"PanTool\"}]},\"id\":\"4571\",\"type\":\"Toolbar\"},{\"attributes\":{},\"id\":\"4586\",\"type\":\"Selection\"},{\"attributes\":{\"tools\":[{\"id\":\"4540\",\"type\":\"ResetTool\"},{\"id\":\"4541\",\"type\":\"PanTool\"},{\"id\":\"4569\",\"type\":\"ResetTool\"},{\"id\":\"4570\",\"type\":\"PanTool\"}]},\"id\":\"4598\",\"type\":\"ProxyToolbar\"},{\"attributes\":{},\"id\":\"4557\",\"type\":\"LinearScale\"},{\"attributes\":{\"toolbar\":{\"id\":\"4598\",\"type\":\"ProxyToolbar\"},\"toolbar_location\":\"above\"},\"id\":\"4599\",\"type\":\"ToolbarBox\"},{\"attributes\":{\"formatter\":{\"id\":\"4582\",\"type\":\"BasicTickFormatter\"},\"ticker\":{\"id\":\"4536\",\"type\":\"BasicTicker\"}},\"id\":\"4535\",\"type\":\"LinearAxis\"},{\"attributes\":{},\"id\":\"4560\",\"type\":\"BasicTicker\"},{\"attributes\":{},\"id\":\"4536\",\"type\":\"BasicTicker\"},{\"attributes\":{},\"id\":\"4526\",\"type\":\"LinearScale\"},{\"attributes\":{\"dimension\":1,\"ticker\":{\"id\":\"4536\",\"type\":\"BasicTicker\"}},\"id\":\"4539\",\"type\":\"Grid\"},{\"attributes\":{},\"id\":\"4565\",\"type\":\"BasicTicker\"},{\"attributes\":{\"fill_color\":{\"value\":\"red\"},\"line_color\":{\"value\":\"red\"},\"size\":{\"units\":\"screen\",\"value\":13},\"x\":{\"field\":\"x\"},\"y\":{\"field\":\"y0\"}},\"id\":\"4546\",\"type\":\"Circle\"},{\"attributes\":{\"active_drag\":\"auto\",\"active_inspect\":\"auto\",\"active_multi\":null,\"active_scroll\":\"auto\",\"active_tap\":\"auto\",\"tools\":[{\"id\":\"4540\",\"type\":\"ResetTool\"},{\"id\":\"4541\",\"type\":\"PanTool\"}]},\"id\":\"4542\",\"type\":\"Toolbar\"},{\"attributes\":{\"below\":[{\"id\":\"4530\",\"type\":\"LinearAxis\"}],\"center\":[{\"id\":\"4534\",\"type\":\"Grid\"},{\"id\":\"4539\",\"type\":\"Grid\"}],\"left\":[{\"id\":\"4535\",\"type\":\"LinearAxis\"}],\"plot_height\":250,\"plot_width\":255,\"renderers\":[{\"id\":\"4548\",\"type\":\"GlyphRenderer\"}],\"title\":{\"id\":\"4579\",\"type\":\"Title\"},\"toolbar\":{\"id\":\"4542\",\"type\":\"Toolbar\"},\"toolbar_location\":null,\"x_range\":{\"id\":\"4522\",\"type\":\"DataRange1d\"},\"x_scale\":{\"id\":\"4526\",\"type\":\"LinearScale\"},\"y_range\":{\"id\":\"4524\",\"type\":\"DataRange1d\"},\"y_scale\":{\"id\":\"4528\",\"type\":\"LinearScale\"}},\"id\":\"4521\",\"subtype\":\"Figure\",\"type\":\"Plot\"},{\"attributes\":{},\"id\":\"4540\",\"type\":\"ResetTool\"},{\"attributes\":{},\"id\":\"4541\",\"type\":\"PanTool\"},{\"attributes\":{\"fill_alpha\":{\"value\":0.1},\"fill_color\":{\"value\":\"#1f77b4\"},\"line_alpha\":{\"value\":0.1},\"line_color\":{\"value\":\"#1f77b4\"},\"size\":{\"units\":\"screen\",\"value\":13},\"x\":{\"field\":\"x\"},\"y\":{\"field\":\"y0\"}},\"id\":\"4547\",\"type\":\"Circle\"},{\"attributes\":{\"callback\":null},\"id\":\"4524\",\"type\":\"DataRange1d\"},{\"attributes\":{\"formatter\":{\"id\":\"4591\",\"type\":\"BasicTickFormatter\"},\"ticker\":{\"id\":\"4565\",\"type\":\"BasicTicker\"}},\"id\":\"4564\",\"type\":\"LinearAxis\"},{\"attributes\":{\"data_source\":{\"id\":\"4520\",\"type\":\"ColumnDataSource\"},\"glyph\":{\"id\":\"4546\",\"type\":\"Circle\"},\"hover_glyph\":null,\"muted_glyph\":null,\"nonselection_glyph\":{\"id\":\"4547\",\"type\":\"Circle\"},\"selection_glyph\":null,\"view\":{\"id\":\"4549\",\"type\":\"CDSView\"}},\"id\":\"4548\",\"type\":\"GlyphRenderer\"},{\"attributes\":{\"children\":[[{\"id\":\"4521\",\"subtype\":\"Figure\",\"type\":\"Plot\"},0,0],[{\"id\":\"4550\",\"subtype\":\"Figure\",\"type\":\"Plot\"},0,1]]},\"id\":\"4597\",\"type\":\"GridBox\"},{\"attributes\":{\"callback\":null},\"id\":\"4522\",\"type\":\"DataRange1d\"},{\"attributes\":{\"below\":[{\"id\":\"4559\",\"type\":\"LinearAxis\"}],\"center\":[{\"id\":\"4563\",\"type\":\"Grid\"},{\"id\":\"4568\",\"type\":\"Grid\"}],\"left\":[{\"id\":\"4564\",\"type\":\"LinearAxis\"}],\"plot_height\":250,\"plot_width\":255,\"renderers\":[{\"id\":\"4577\",\"type\":\"GlyphRenderer\"}],\"title\":{\"id\":\"4588\",\"type\":\"Title\"},\"toolbar\":{\"id\":\"4571\",\"type\":\"Toolbar\"},\"toolbar_location\":null,\"x_range\":{\"id\":\"4551\",\"type\":\"DataRange1d\"},\"x_scale\":{\"id\":\"4555\",\"type\":\"LinearScale\"},\"y_range\":{\"id\":\"4553\",\"type\":\"DataRange1d\"},\"y_scale\":{\"id\":\"4557\",\"type\":\"LinearScale\"}},\"id\":\"4550\",\"subtype\":\"Figure\",\"type\":\"Plot\"},{\"attributes\":{\"data_source\":{\"id\":\"4520\",\"type\":\"ColumnDataSource\"},\"glyph\":{\"id\":\"4575\",\"type\":\"Circle\"},\"hover_glyph\":null,\"muted_glyph\":null,\"nonselection_glyph\":{\"id\":\"4576\",\"type\":\"Circle\"},\"selection_glyph\":null,\"view\":{\"id\":\"4578\",\"type\":\"CDSView\"}},\"id\":\"4577\",\"type\":\"GlyphRenderer\"},{\"attributes\":{\"source\":{\"id\":\"4520\",\"type\":\"ColumnDataSource\"}},\"id\":\"4549\",\"type\":\"CDSView\"},{\"attributes\":{},\"id\":\"4584\",\"type\":\"BasicTickFormatter\"},{\"attributes\":{},\"id\":\"4569\",\"type\":\"ResetTool\"},{\"attributes\":{},\"id\":\"4591\",\"type\":\"BasicTickFormatter\"},{\"attributes\":{},\"id\":\"4570\",\"type\":\"PanTool\"},{\"attributes\":{\"source\":{\"id\":\"4520\",\"type\":\"ColumnDataSource\"}},\"id\":\"4578\",\"type\":\"CDSView\"},{\"attributes\":{\"ticker\":{\"id\":\"4560\",\"type\":\"BasicTicker\"}},\"id\":\"4563\",\"type\":\"Grid\"},{\"attributes\":{\"text\":\"\"},\"id\":\"4579\",\"type\":\"Title\"},{\"attributes\":{\"callback\":null,\"data\":{\"x\":[-3,-4,-2,-6,-9,-8,-11,2,3,1,5,8,3,6,4,11,9],\"y0\":[-1.5,-2.0,-1.0,-3.0,-4.5,-4.0,-5.5,1.0,1.5,0.5,2.5,4.0,1.5,3.0,2.0,5.5,4.5],\"y1\":[9,16,4,36,81,64,121,4,9,1,25,64,9,36,16,121,81]},\"selected\":{\"id\":\"4586\",\"type\":\"Selection\"},\"selection_policy\":{\"id\":\"4585\",\"type\":\"UnionRenderers\"}},\"id\":\"4520\",\"type\":\"ColumnDataSource\"},{\"attributes\":{\"callback\":null},\"id\":\"4551\",\"type\":\"DataRange1d\"}],\"root_ids\":[\"4600\"]},\"title\":\"Bokeh Application\",\"version\":\"1.2.0\"}};\n",
       "  var render_items = [{\"docid\":\"174b152d-da42-494d-830b-466cb0acc3f1\",\"roots\":{\"4600\":\"fb3c41ff-6058-454d-bca3-d44615be4e0e\"}}];\n",
       "  root.Bokeh.embed.embed_items_notebook(docs_json, render_items);\n",
       "\n",
       "  }\n",
       "  if (root.Bokeh !== undefined) {\n",
       "    embed_document(root);\n",
       "  } else {\n",
       "    var attempts = 0;\n",
       "    var timer = setInterval(function(root) {\n",
       "      if (root.Bokeh !== undefined) {\n",
       "        embed_document(root);\n",
       "        clearInterval(timer);\n",
       "      }\n",
       "      attempts++;\n",
       "      if (attempts > 100) {\n",
       "        console.log(\"Bokeh: ERROR: Unable to run BokehJS code because BokehJS library is missing\");\n",
       "        clearInterval(timer);\n",
       "      }\n",
       "    }, 10, root)\n",
       "  }\n",
       "})(window);"
      ],
      "application/vnd.bokehjs_exec.v0+json": ""
     },
     "metadata": {
      "application/vnd.bokehjs_exec.v0+json": {
       "id": "4600"
      }
     },
     "output_type": "display_data"
    }
   ],
   "source": [
    "first = figure(tools='reset,pan',plot_width=255, plot_height=250)\n",
    "first.circle('x','y0', size=13, color='red', source=source)\n",
    "\n",
    "second = figure(tools='reset,pan',plot_width=255, plot_height=250)\n",
    "second.circle('x','y1', size=13, color='blue', source=source)\n",
    "\n",
    "final = gridplot([[first, second]])\n",
    "\n",
    "show(final)"
   ]
  },
  {
   "cell_type": "code",
   "execution_count": 39,
   "metadata": {},
   "outputs": [
    {
     "data": {
      "text/html": [
       "\n",
       "\n",
       "\n",
       "\n",
       "\n",
       "\n",
       "  <div class=\"bk-root\" id=\"205e0086-e0ae-4195-ad90-b252c7858764\" data-root-id=\"4971\"></div>\n"
      ]
     },
     "metadata": {},
     "output_type": "display_data"
    },
    {
     "data": {
      "application/javascript": [
       "(function(root) {\n",
       "  function embed_document(root) {\n",
       "    \n",
       "  var docs_json = {\"cb448695-1547-4c6f-8a11-43cff5c8a340\":{\"roots\":{\"references\":[{\"attributes\":{\"children\":[{\"id\":\"4970\",\"type\":\"ToolbarBox\"},{\"id\":\"4968\",\"type\":\"GridBox\"}]},\"id\":\"4971\",\"type\":\"Column\"},{\"attributes\":{\"formatter\":{\"id\":\"4964\",\"type\":\"BasicTickFormatter\"},\"ticker\":{\"id\":\"4930\",\"type\":\"BasicTicker\"}},\"id\":\"4929\",\"type\":\"LinearAxis\"},{\"attributes\":{},\"id\":\"4585\",\"type\":\"UnionRenderers\"},{\"attributes\":{\"ticker\":{\"id\":\"4899\",\"type\":\"BasicTicker\"}},\"id\":\"4902\",\"type\":\"Grid\"},{\"attributes\":{\"fill_alpha\":{\"value\":0.5},\"fill_color\":{\"value\":\"lightgrey\"},\"level\":\"overlay\",\"line_alpha\":{\"value\":1.0},\"line_color\":{\"value\":\"black\"},\"line_dash\":[4,4],\"line_width\":{\"value\":2},\"xs_units\":\"screen\",\"ys_units\":\"screen\"},\"id\":\"4957\",\"type\":\"PolyAnnotation\"},{\"attributes\":{},\"id\":\"4930\",\"type\":\"BasicTicker\"},{\"attributes\":{\"formatter\":{\"id\":\"4952\",\"type\":\"BasicTickFormatter\"},\"ticker\":{\"id\":\"4904\",\"type\":\"BasicTicker\"}},\"id\":\"4903\",\"type\":\"LinearAxis\"},{\"attributes\":{\"toolbar\":{\"id\":\"4969\",\"type\":\"ProxyToolbar\"},\"toolbar_location\":\"above\"},\"id\":\"4970\",\"type\":\"ToolbarBox\"},{\"attributes\":{\"ticker\":{\"id\":\"4930\",\"type\":\"BasicTicker\"}},\"id\":\"4933\",\"type\":\"Grid\"},{\"attributes\":{},\"id\":\"4904\",\"type\":\"BasicTicker\"},{\"attributes\":{\"dimension\":1,\"ticker\":{\"id\":\"4904\",\"type\":\"BasicTicker\"}},\"id\":\"4907\",\"type\":\"Grid\"},{\"attributes\":{\"formatter\":{\"id\":\"4962\",\"type\":\"BasicTickFormatter\"},\"ticker\":{\"id\":\"4935\",\"type\":\"BasicTicker\"}},\"id\":\"4934\",\"type\":\"LinearAxis\"},{\"attributes\":{},\"id\":\"4899\",\"type\":\"BasicTicker\"},{\"attributes\":{},\"id\":\"4586\",\"type\":\"Selection\"},{\"attributes\":{},\"id\":\"4964\",\"type\":\"BasicTickFormatter\"},{\"attributes\":{\"fill_color\":{\"value\":\"red\"},\"line_color\":{\"value\":\"red\"},\"size\":{\"units\":\"screen\",\"value\":13},\"x\":{\"field\":\"x\"},\"y\":{\"field\":\"y0\"}},\"id\":\"4916\",\"type\":\"Circle\"},{\"attributes\":{},\"id\":\"4935\",\"type\":\"BasicTicker\"},{\"attributes\":{\"active_drag\":\"auto\",\"active_inspect\":\"auto\",\"active_multi\":null,\"active_scroll\":\"auto\",\"active_tap\":\"auto\",\"tools\":[{\"id\":\"4908\",\"type\":\"ResetTool\"},{\"id\":\"4909\",\"type\":\"PanTool\"},{\"id\":\"4910\",\"type\":\"LassoSelectTool\"}]},\"id\":\"4911\",\"type\":\"Toolbar\"},{\"attributes\":{},\"id\":\"4908\",\"type\":\"ResetTool\"},{\"attributes\":{\"dimension\":1,\"ticker\":{\"id\":\"4935\",\"type\":\"BasicTicker\"}},\"id\":\"4938\",\"type\":\"Grid\"},{\"attributes\":{},\"id\":\"4909\",\"type\":\"PanTool\"},{\"attributes\":{\"fill_color\":{\"value\":\"blue\"},\"line_color\":{\"value\":\"blue\"},\"size\":{\"units\":\"screen\",\"value\":13},\"x\":{\"field\":\"x\"},\"y\":{\"field\":\"y1\"}},\"id\":\"4945\",\"type\":\"Circle\"},{\"attributes\":{\"children\":[[{\"id\":\"4889\",\"subtype\":\"Figure\",\"type\":\"Plot\"},0,0],[{\"id\":\"4920\",\"subtype\":\"Figure\",\"type\":\"Plot\"},0,1]]},\"id\":\"4968\",\"type\":\"GridBox\"},{\"attributes\":{\"callback\":null,\"overlay\":{\"id\":\"4957\",\"type\":\"PolyAnnotation\"}},\"id\":\"4910\",\"type\":\"LassoSelectTool\"},{\"attributes\":{\"active_drag\":\"auto\",\"active_inspect\":\"auto\",\"active_multi\":null,\"active_scroll\":\"auto\",\"active_tap\":\"auto\",\"tools\":[{\"id\":\"4939\",\"type\":\"ResetTool\"},{\"id\":\"4940\",\"type\":\"PanTool\"}]},\"id\":\"4941\",\"type\":\"Toolbar\"},{\"attributes\":{},\"id\":\"4896\",\"type\":\"LinearScale\"},{\"attributes\":{},\"id\":\"4939\",\"type\":\"ResetTool\"},{\"attributes\":{\"fill_alpha\":{\"value\":0.1},\"fill_color\":{\"value\":\"#1f77b4\"},\"line_alpha\":{\"value\":0.1},\"line_color\":{\"value\":\"#1f77b4\"},\"size\":{\"units\":\"screen\",\"value\":13},\"x\":{\"field\":\"x\"},\"y\":{\"field\":\"y0\"}},\"id\":\"4917\",\"type\":\"Circle\"},{\"attributes\":{\"below\":[{\"id\":\"4929\",\"type\":\"LinearAxis\"}],\"center\":[{\"id\":\"4933\",\"type\":\"Grid\"},{\"id\":\"4938\",\"type\":\"Grid\"}],\"left\":[{\"id\":\"4934\",\"type\":\"LinearAxis\"}],\"plot_height\":250,\"plot_width\":255,\"renderers\":[{\"id\":\"4947\",\"type\":\"GlyphRenderer\"}],\"title\":{\"id\":\"4959\",\"type\":\"Title\"},\"toolbar\":{\"id\":\"4941\",\"type\":\"Toolbar\"},\"toolbar_location\":null,\"x_range\":{\"id\":\"4921\",\"type\":\"DataRange1d\"},\"x_scale\":{\"id\":\"4925\",\"type\":\"LinearScale\"},\"y_range\":{\"id\":\"4923\",\"type\":\"DataRange1d\"},\"y_scale\":{\"id\":\"4927\",\"type\":\"LinearScale\"}},\"id\":\"4920\",\"subtype\":\"Figure\",\"type\":\"Plot\"},{\"attributes\":{},\"id\":\"4954\",\"type\":\"BasicTickFormatter\"},{\"attributes\":{},\"id\":\"4940\",\"type\":\"PanTool\"},{\"attributes\":{\"data_source\":{\"id\":\"4520\",\"type\":\"ColumnDataSource\"},\"glyph\":{\"id\":\"4916\",\"type\":\"Circle\"},\"hover_glyph\":null,\"muted_glyph\":null,\"nonselection_glyph\":{\"id\":\"4917\",\"type\":\"Circle\"},\"selection_glyph\":null,\"view\":{\"id\":\"4919\",\"type\":\"CDSView\"}},\"id\":\"4918\",\"type\":\"GlyphRenderer\"},{\"attributes\":{},\"id\":\"4962\",\"type\":\"BasicTickFormatter\"},{\"attributes\":{\"fill_alpha\":{\"value\":0.1},\"fill_color\":{\"value\":\"#1f77b4\"},\"line_alpha\":{\"value\":0.1},\"line_color\":{\"value\":\"#1f77b4\"},\"size\":{\"units\":\"screen\",\"value\":13},\"x\":{\"field\":\"x\"},\"y\":{\"field\":\"y1\"}},\"id\":\"4946\",\"type\":\"Circle\"},{\"attributes\":{\"source\":{\"id\":\"4520\",\"type\":\"ColumnDataSource\"}},\"id\":\"4919\",\"type\":\"CDSView\"},{\"attributes\":{\"data_source\":{\"id\":\"4520\",\"type\":\"ColumnDataSource\"},\"glyph\":{\"id\":\"4945\",\"type\":\"Circle\"},\"hover_glyph\":null,\"muted_glyph\":null,\"nonselection_glyph\":{\"id\":\"4946\",\"type\":\"Circle\"},\"selection_glyph\":null,\"view\":{\"id\":\"4948\",\"type\":\"CDSView\"}},\"id\":\"4947\",\"type\":\"GlyphRenderer\"},{\"attributes\":{\"text\":\"\"},\"id\":\"4959\",\"type\":\"Title\"},{\"attributes\":{\"callback\":null},\"id\":\"4892\",\"type\":\"DataRange1d\"},{\"attributes\":{\"source\":{\"id\":\"4520\",\"type\":\"ColumnDataSource\"}},\"id\":\"4948\",\"type\":\"CDSView\"},{\"attributes\":{\"callback\":null},\"id\":\"4921\",\"type\":\"DataRange1d\"},{\"attributes\":{\"below\":[{\"id\":\"4898\",\"type\":\"LinearAxis\"}],\"center\":[{\"id\":\"4902\",\"type\":\"Grid\"},{\"id\":\"4907\",\"type\":\"Grid\"}],\"left\":[{\"id\":\"4903\",\"type\":\"LinearAxis\"}],\"plot_height\":250,\"plot_width\":255,\"renderers\":[{\"id\":\"4918\",\"type\":\"GlyphRenderer\"}],\"title\":{\"id\":\"4949\",\"type\":\"Title\"},\"toolbar\":{\"id\":\"4911\",\"type\":\"Toolbar\"},\"toolbar_location\":null,\"x_range\":{\"id\":\"4890\",\"type\":\"DataRange1d\"},\"x_scale\":{\"id\":\"4894\",\"type\":\"LinearScale\"},\"y_range\":{\"id\":\"4892\",\"type\":\"DataRange1d\"},\"y_scale\":{\"id\":\"4896\",\"type\":\"LinearScale\"}},\"id\":\"4889\",\"subtype\":\"Figure\",\"type\":\"Plot\"},{\"attributes\":{\"callback\":null},\"id\":\"4890\",\"type\":\"DataRange1d\"},{\"attributes\":{\"callback\":null},\"id\":\"4923\",\"type\":\"DataRange1d\"},{\"attributes\":{\"text\":\"\"},\"id\":\"4949\",\"type\":\"Title\"},{\"attributes\":{\"tools\":[{\"id\":\"4908\",\"type\":\"ResetTool\"},{\"id\":\"4909\",\"type\":\"PanTool\"},{\"id\":\"4910\",\"type\":\"LassoSelectTool\"},{\"id\":\"4939\",\"type\":\"ResetTool\"},{\"id\":\"4940\",\"type\":\"PanTool\"}]},\"id\":\"4969\",\"type\":\"ProxyToolbar\"},{\"attributes\":{},\"id\":\"4894\",\"type\":\"LinearScale\"},{\"attributes\":{},\"id\":\"4925\",\"type\":\"LinearScale\"},{\"attributes\":{},\"id\":\"4952\",\"type\":\"BasicTickFormatter\"},{\"attributes\":{\"formatter\":{\"id\":\"4954\",\"type\":\"BasicTickFormatter\"},\"ticker\":{\"id\":\"4899\",\"type\":\"BasicTicker\"}},\"id\":\"4898\",\"type\":\"LinearAxis\"},{\"attributes\":{},\"id\":\"4927\",\"type\":\"LinearScale\"},{\"attributes\":{\"callback\":null,\"data\":{\"x\":[-3,-4,-2,-6,-9,-8,-11,2,3,1,5,8,3,6,4,11,9],\"y0\":[-1.5,-2.0,-1.0,-3.0,-4.5,-4.0,-5.5,1.0,1.5,0.5,2.5,4.0,1.5,3.0,2.0,5.5,4.5],\"y1\":[9,16,4,36,81,64,121,4,9,1,25,64,9,36,16,121,81]},\"selected\":{\"id\":\"4586\",\"type\":\"Selection\"},\"selection_policy\":{\"id\":\"4585\",\"type\":\"UnionRenderers\"}},\"id\":\"4520\",\"type\":\"ColumnDataSource\"}],\"root_ids\":[\"4971\"]},\"title\":\"Bokeh Application\",\"version\":\"1.2.0\"}};\n",
       "  var render_items = [{\"docid\":\"cb448695-1547-4c6f-8a11-43cff5c8a340\",\"roots\":{\"4971\":\"205e0086-e0ae-4195-ad90-b252c7858764\"}}];\n",
       "  root.Bokeh.embed.embed_items_notebook(docs_json, render_items);\n",
       "\n",
       "  }\n",
       "  if (root.Bokeh !== undefined) {\n",
       "    embed_document(root);\n",
       "  } else {\n",
       "    var attempts = 0;\n",
       "    var timer = setInterval(function(root) {\n",
       "      if (root.Bokeh !== undefined) {\n",
       "        embed_document(root);\n",
       "        clearInterval(timer);\n",
       "      }\n",
       "      attempts++;\n",
       "      if (attempts > 100) {\n",
       "        console.log(\"Bokeh: ERROR: Unable to run BokehJS code because BokehJS library is missing\");\n",
       "        clearInterval(timer);\n",
       "      }\n",
       "    }, 10, root)\n",
       "  }\n",
       "})(window);"
      ],
      "application/vnd.bokehjs_exec.v0+json": ""
     },
     "metadata": {
      "application/vnd.bokehjs_exec.v0+json": {
       "id": "4971"
      }
     },
     "output_type": "display_data"
    }
   ],
   "source": [
    "first = figure(tools='reset,pan,lasso_select',plot_width=255, plot_height=250)\n",
    "first.circle('x','y0', size=13, color='red', source=source)\n",
    "\n",
    "second = figure(tools='reset,pan',plot_width=255, plot_height=250)\n",
    "second.circle('x','y1', size=13, color='blue', source=source)\n",
    "\n",
    "final = gridplot([[first, second]])\n",
    "\n",
    "show(final)"
   ]
  },
  {
   "cell_type": "code",
   "execution_count": null,
   "metadata": {},
   "outputs": [],
   "source": []
  },
  {
   "cell_type": "code",
   "execution_count": null,
   "metadata": {
    "collapsed": true
   },
   "outputs": [],
   "source": []
  },
  {
   "cell_type": "code",
   "execution_count": null,
   "metadata": {
    "collapsed": true
   },
   "outputs": [],
   "source": []
  },
  {
   "cell_type": "code",
   "execution_count": null,
   "metadata": {
    "collapsed": true
   },
   "outputs": [],
   "source": []
  },
  {
   "cell_type": "code",
   "execution_count": null,
   "metadata": {
    "collapsed": true
   },
   "outputs": [],
   "source": []
  },
  {
   "cell_type": "code",
   "execution_count": null,
   "metadata": {
    "collapsed": true
   },
   "outputs": [],
   "source": []
  }
 ],
 "metadata": {
  "kernelspec": {
   "display_name": "Python 3",
   "language": "python",
   "name": "python3"
  },
  "language_info": {
   "codemirror_mode": {
    "name": "ipython",
    "version": 3
   },
   "file_extension": ".py",
   "mimetype": "text/x-python",
   "name": "python",
   "nbconvert_exporter": "python",
   "pygments_lexer": "ipython3",
   "version": "3.7.3"
  }
 },
 "nbformat": 4,
 "nbformat_minor": 1
}
