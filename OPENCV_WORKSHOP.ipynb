{
 "cells": [
  {
   "cell_type": "markdown",
   "metadata": {},
   "source": [
    "# HOW TO READ AN IMAGE ?"
   ]
  },
  {
   "cell_type": "code",
   "execution_count": 1,
   "metadata": {},
   "outputs": [],
   "source": [
    "import cv2\n",
    "\n",
    "img = cv2.imread(\"players.jfif\")\n",
    "\n",
    "cv2.imshow(\"Hello World\",img)\n",
    "\n",
    "cv2.waitKey(0)\n",
    "cv2.destroyAllWindows()"
   ]
  },
  {
   "cell_type": "markdown",
   "metadata": {},
   "source": [
    "# HOW TO WRITE AN IMAGE ?"
   ]
  },
  {
   "cell_type": "code",
   "execution_count": 2,
   "metadata": {},
   "outputs": [],
   "source": [
    "import cv2\n",
    "\n",
    "img = cv2.imread(\"players.jfif\")\n",
    "\n",
    "cv2.imshow(\"Hello World\",img)\n",
    "cv2.imwrite(\"output.png\",img)\n",
    "\n",
    "cv2.waitKey(0)\n",
    "cv2.destroyAllWindows()"
   ]
  },
  {
   "cell_type": "markdown",
   "metadata": {},
   "source": [
    "# HOW TO GET IMAGE INFORMATION ?"
   ]
  },
  {
   "cell_type": "code",
   "execution_count": 3,
   "metadata": {},
   "outputs": [
    {
     "name": "stdout",
     "output_type": "stream",
     "text": [
      "(1280, 960, 3)\n",
      "Height of the image:  1280 pixels\n",
      "Width of the image:  960 pixels\n"
     ]
    }
   ],
   "source": [
    "import cv2\n",
    "\n",
    "img = cv2.imread(\"players.jfif\")\n",
    "\n",
    "cv2.imshow(\"Hello World\",img)\n",
    "\n",
    "cv2.waitKey(0)\n",
    "\n",
    "print(img.shape)\n",
    "\n",
    "print(\"Height of the image: \", int(img.shape[0]), \"pixels\")\n",
    "print(\"Width of the image: \", int(img.shape[1]), \"pixels\")\n",
    "\n",
    "\n",
    "cv2.destroyAllWindows()"
   ]
  },
  {
   "cell_type": "code",
   "execution_count": 19,
   "metadata": {},
   "outputs": [
    {
     "name": "stdout",
     "output_type": "stream",
     "text": [
      "(1280, 960, 3)\n",
      "Height of the image:  1280 pixels\n",
      "Width of the image:  960 pixels\n"
     ]
    }
   ],
   "source": [
    "import cv2\n",
    "\n",
    "img = cv2.imread(\"players.jfif\")\n",
    "\n",
    "cv2.imshow(\"Hello World\",img)\n",
    "\n",
    "cv2.waitKey(0)\n",
    "\n",
    "print(img.shape)\n",
    "\n",
    "print(\"Height of the image: \", int(img.shape[0]), \"pixels\")\n",
    "print(\"Width of the image: \", int(img.shape[1]), \"pixels\")\n",
    "\n",
    "cv2.imwrite(\"Output.jpg\",img)\n",
    "cv2.imwrite(\"Output.png\",img)\n",
    "\n",
    "cv2.destroyAllWindows()\n"
   ]
  },
  {
   "cell_type": "markdown",
   "metadata": {},
   "source": [
    "# How to convert RGB to Gray Scale Image ?"
   ]
  },
  {
   "cell_type": "code",
   "execution_count": 6,
   "metadata": {},
   "outputs": [
    {
     "name": "stdout",
     "output_type": "stream",
     "text": [
      "(1280, 960)\n"
     ]
    }
   ],
   "source": [
    "import cv2\n",
    "\n",
    "img = cv2.imread('players.jfif')\n",
    "cv2.imshow('Orignal', img)\n",
    "cv2.waitKey(0)\n",
    "\n",
    "gray_img = cv2.cvtColor(img, cv2.COLOR_BGR2GRAY)\n",
    "print(gray_img.shape)\n",
    "cv2.imshow('Grayscale', gray_img)\n",
    "cv2.waitKey(0)\n",
    "cv2.destroyAllWindows()"
   ]
  },
  {
   "cell_type": "markdown",
   "metadata": {},
   "source": [
    "# How to convert RGB to Binary Image ?"
   ]
  },
  {
   "cell_type": "code",
   "execution_count": 10,
   "metadata": {},
   "outputs": [],
   "source": [
    "import cv2\n",
    "#import numpy as np\n",
    "\n",
    "img = cv2.imread(\"players.jfif\",0)\n",
    "\n",
    "ret, th = cv2.threshold(img, 125, 255, cv2.THRESH_BINARY)\n",
    "ret, th1 = cv2.threshold(img, 125, 255, cv2.THRESH_BINARY_INV)\n",
    "\n",
    "cv2.imshow(\"Hello World1\",img)\n",
    "cv2.waitKey(0)\n",
    "cv2.imshow(\"Hello World2\",th)\n",
    "\n",
    "cv2.waitKey(0)\n",
    "cv2.imshow(\"Hello World3\",th1)\n",
    "\n",
    "cv2.waitKey(0)\n",
    "\n",
    "cv2.destroyAllWindows()"
   ]
  },
  {
   "cell_type": "markdown",
   "metadata": {},
   "source": [
    "# How to convert RGB to HSV Color Space ?"
   ]
  },
  {
   "cell_type": "code",
   "execution_count": 11,
   "metadata": {},
   "outputs": [
    {
     "name": "stdout",
     "output_type": "stream",
     "text": [
      "(1280, 960, 3)\n"
     ]
    }
   ],
   "source": [
    "#Color Filter, Color Space\n",
    "# Hue : 0 - 180, Saturation : 0 - 255, Value : 0 - 255\n",
    "import cv2\n",
    "\n",
    "img = cv2.imread('players.jfif')\n",
    "\n",
    "img_HSV = cv2.cvtColor(img, cv2.COLOR_BGR2HSV)\n",
    "print(img_HSV.shape)\n",
    "cv2.imshow('HSV Image', img_HSV)\n",
    "\n",
    "cv2.imshow('Hue Channel ', img_HSV[:, :, 0])\n",
    "cv2.waitKey(0)\n",
    "cv2.imshow('Saturation  ', img_HSV[:, :, 1])\n",
    "cv2.waitKey(0)\n",
    "cv2.imshow('Value Channel ', img_HSV[:, :, 2])\n",
    "\n",
    "cv2.waitKey(0)\n",
    "\n",
    "cv2.destroyAllWindows()"
   ]
  },
  {
   "cell_type": "markdown",
   "metadata": {},
   "source": [
    "# # How to Extract RGB Color Space ?"
   ]
  },
  {
   "cell_type": "code",
   "execution_count": 12,
   "metadata": {},
   "outputs": [],
   "source": [
    "import cv2\n",
    "import numpy as np\n",
    "\n",
    "img = cv2.imread('players.jfif')\n",
    "\n",
    "B,G,R = cv2.split(img)\n",
    "\n",
    "zeros = np.zeros(img.shape[:2], dtype=\"uint8\")\n",
    "\n",
    "cv2.imshow(\"Red\", cv2.merge([zeros,zeros,R]))\n",
    "cv2.imshow(\"Green\", cv2.merge([zeros,G,zeros]))\n",
    "cv2.imshow(\"Blue\", cv2.merge([B,zeros,zeros]))\n",
    "\n",
    "cv2.waitKey(0)\n",
    "\n",
    "cv2.destroyAllWindows()"
   ]
  },
  {
   "cell_type": "markdown",
   "metadata": {},
   "source": [
    "# How To Rotate Image ?"
   ]
  },
  {
   "cell_type": "code",
   "execution_count": 13,
   "metadata": {},
   "outputs": [],
   "source": [
    "import cv2\n",
    "import numpy as np\n",
    "\n",
    "img = cv2.imread(\"players.jfif\")\n",
    "\n",
    "height, width = img.shape[:2]\n",
    "\n",
    "rotation_matrix = cv2.getRotationMatrix2D((width/2,height/2), 70, .5)\n",
    "\n",
    "rotated_image = cv2.warpAffine(img, rotation_matrix, (width,height))\n",
    "\n",
    "cv2.imshow('Rotated Image', rotated_image)\n",
    "cv2.imshow('Original Image', img)\n",
    "\n",
    "cv2.waitKey(0)\n",
    "cv2.destroyAllWindows()"
   ]
  },
  {
   "cell_type": "code",
   "execution_count": 14,
   "metadata": {},
   "outputs": [],
   "source": [
    "##COMPLETE ROTATE\n",
    "import cv2\n",
    "import numpy as np\n",
    "\n",
    "img = cv2.imread(\"players.jfif\")\n",
    "\n",
    "rotated_img = cv2.transpose(img)\n",
    "\n",
    "cv2.imshow('Rotated Image', rotated_img)\n",
    "cv2.imshow('Original Image', img)\n",
    "\n",
    "cv2.waitKey(0)\n",
    "cv2.destroyAllWindows()"
   ]
  },
  {
   "cell_type": "code",
   "execution_count": null,
   "metadata": {},
   "outputs": [],
   "source": []
  }
 ],
 "metadata": {
  "kernelspec": {
   "display_name": "Python 3",
   "language": "python",
   "name": "python3"
  },
  "language_info": {
   "codemirror_mode": {
    "name": "ipython",
    "version": 3
   },
   "file_extension": ".py",
   "mimetype": "text/x-python",
   "name": "python",
   "nbconvert_exporter": "python",
   "pygments_lexer": "ipython3",
   "version": "3.7.0"
  }
 },
 "nbformat": 4,
 "nbformat_minor": 2
}
