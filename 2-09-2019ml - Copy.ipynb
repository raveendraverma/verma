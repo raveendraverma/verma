{
 "cells": [
  {
   "cell_type": "code",
   "execution_count": 1,
   "metadata": {},
   "outputs": [
    {
     "name": "stderr",
     "output_type": "stream",
     "text": [
      "C:\\Users\\Home\\Anaconda3\\lib\\importlib\\_bootstrap.py:219: RuntimeWarning: numpy.ufunc size changed, may indicate binary incompatibility. Expected 112 from C header, got 124 from PyObject\n",
      "  return f(*args, **kwds)\n",
      "C:\\Users\\Home\\Anaconda3\\lib\\importlib\\_bootstrap.py:219: RuntimeWarning: numpy.ufunc size changed, may indicate binary incompatibility. Expected 112 from C header, got 124 from PyObject\n",
      "  return f(*args, **kwds)\n"
     ]
    },
    {
     "data": {
      "text/plain": [
       "['DESCR', 'data', 'images', 'target', 'target_names']"
      ]
     },
     "execution_count": 1,
     "metadata": {},
     "output_type": "execute_result"
    }
   ],
   "source": [
    "import pandas as pd\n",
    "from sklearn.datasets import load_digits\n",
    "digit = load_digits()\n",
    "dir(digit)"
   ]
  },
  {
   "cell_type": "code",
   "execution_count": 2,
   "metadata": {},
   "outputs": [
    {
     "data": {
      "text/plain": [
       "array([[ 0.,  0.,  5., ...,  0.,  0.,  0.],\n",
       "       [ 0.,  0.,  0., ..., 10.,  0.,  0.],\n",
       "       [ 0.,  0.,  0., ..., 16.,  9.,  0.],\n",
       "       ...,\n",
       "       [ 0.,  0.,  1., ...,  6.,  0.,  0.],\n",
       "       [ 0.,  0.,  2., ..., 12.,  0.,  0.],\n",
       "       [ 0.,  0., 10., ..., 12.,  1.,  0.]])"
      ]
     },
     "execution_count": 2,
     "metadata": {},
     "output_type": "execute_result"
    }
   ],
   "source": [
    "digit.data"
   ]
  },
  {
   "cell_type": "code",
   "execution_count": 4,
   "metadata": {},
   "outputs": [
    {
     "data": {
      "text/plain": [
       "array([0, 1, 2, ..., 8, 9, 8])"
      ]
     },
     "execution_count": 4,
     "metadata": {},
     "output_type": "execute_result"
    }
   ],
   "source": [
    "digit.target"
   ]
  },
  {
   "cell_type": "code",
   "execution_count": 5,
   "metadata": {},
   "outputs": [],
   "source": [
    "x=digit.data\n",
    "y=digit.target"
   ]
  },
  {
   "cell_type": "code",
   "execution_count": 6,
   "metadata": {},
   "outputs": [],
   "source": [
    "from sklearn.model_selection import train_test_split\n",
    "x_train,x_test,y_train,y_test=train_test_split(x,y,test_size=0.3,random_state=10)"
   ]
  },
  {
   "cell_type": "code",
   "execution_count": 7,
   "metadata": {},
   "outputs": [
    {
     "data": {
      "text/plain": [
       "1257"
      ]
     },
     "execution_count": 7,
     "metadata": {},
     "output_type": "execute_result"
    }
   ],
   "source": [
    "len(x_train)"
   ]
  },
  {
   "cell_type": "code",
   "execution_count": 8,
   "metadata": {},
   "outputs": [
    {
     "data": {
      "text/plain": [
       "1257"
      ]
     },
     "execution_count": 8,
     "metadata": {},
     "output_type": "execute_result"
    }
   ],
   "source": [
    "len(y_train)"
   ]
  },
  {
   "cell_type": "code",
   "execution_count": 24,
   "metadata": {},
   "outputs": [
    {
     "name": "stderr",
     "output_type": "stream",
     "text": [
      "C:\\Users\\Home\\Anaconda3\\lib\\site-packages\\sklearn\\svm\\base.py:196: FutureWarning: The default value of gamma will change from 'auto' to 'scale' in version 0.22 to account better for unscaled features. Set gamma explicitly to 'auto' or 'scale' to avoid this warning.\n",
      "  \"avoid this warning.\", FutureWarning)\n"
     ]
    },
    {
     "data": {
      "text/plain": [
       "SVC(C=70, cache_size=200, class_weight=None, coef0=0.0,\n",
       "  decision_function_shape='ovr', degree=3, gamma='auto_deprecated',\n",
       "  kernel='rbf', max_iter=-1, probability=False, random_state=None,\n",
       "  shrinking=True, tol=0.001, verbose=False)"
      ]
     },
     "execution_count": 24,
     "metadata": {},
     "output_type": "execute_result"
    }
   ],
   "source": [
    "from sklearn.svm import SVC\n",
    "model=SVC(C=70)\n",
    "model.fit(x_train,y_train)"
   ]
  },
  {
   "cell_type": "code",
   "execution_count": 30,
   "metadata": {},
   "outputs": [
    {
     "data": {
      "text/plain": [
       "array([5, 5, 5, 5, 5, 5, 4, 5, 3, 0, 5, 5, 0, 5, 5, 5, 5, 5, 9, 5, 5, 5,\n",
       "       6, 5, 5, 5, 5, 5, 5, 5, 5, 5, 5, 3, 4, 1, 9, 2, 5, 5, 2, 1, 0, 5,\n",
       "       5, 5, 5, 5, 9, 4, 5, 5, 5, 5, 5, 5, 5, 5, 5, 0, 4, 5, 5, 4, 7, 5,\n",
       "       0, 5, 5, 3, 9, 3, 3, 5, 5, 7, 3, 6, 5, 5, 5, 5, 5, 0, 5, 5, 2, 5,\n",
       "       5, 8, 5, 5, 3, 4, 5, 5, 5, 5, 5, 5, 5, 5, 5, 0, 5, 5, 5, 0, 5, 5,\n",
       "       3, 3, 5, 1, 5, 5, 5, 5, 5, 5, 5, 5, 5, 5, 5, 5, 2, 3, 5, 5, 5, 6,\n",
       "       2, 5, 4, 5, 5, 5, 6, 7, 2, 5, 4, 5, 5, 5, 5, 5, 6, 1, 5, 1, 5, 5,\n",
       "       5, 9, 5, 5, 5, 5, 0, 3, 4, 5, 5, 4, 9, 5, 5, 6, 4, 5, 5, 5, 5, 5,\n",
       "       9, 5, 4, 7, 3, 5, 2, 0, 5, 7, 5, 3, 5, 7, 5, 5, 5, 8, 5, 3, 5, 7,\n",
       "       1, 5, 5, 5, 5, 6, 5, 6, 9, 5, 5, 5, 5, 5, 5, 5, 4, 8, 5, 9, 5, 5,\n",
       "       5, 2, 3, 5, 0, 5, 0, 5, 1, 5, 5, 0, 6, 4, 5, 1, 9, 0, 9, 0, 6, 5,\n",
       "       5, 5, 5, 5, 5, 5, 5, 5, 7, 0, 5, 6, 5, 0, 1, 2, 5, 5, 4, 4, 3, 5,\n",
       "       5, 5, 5, 2, 5, 5, 5, 9, 5, 5, 6, 3, 5, 0, 6, 6, 5, 5, 1, 6, 5, 7,\n",
       "       5, 5, 5, 5, 5, 5, 6, 2, 5, 5, 8, 4, 7, 5, 3, 0, 0, 5, 3, 5, 5, 5,\n",
       "       5, 5, 5, 5, 5, 5, 5, 6, 5, 5, 5, 5, 5, 5, 5, 5, 5, 5, 5, 5, 4, 6,\n",
       "       6, 5, 0, 5, 5, 5, 5, 9, 5, 5, 0, 5, 5, 5, 5, 5, 5, 5, 5, 5, 5, 5,\n",
       "       5, 5, 5, 3, 5, 5, 5, 3, 5, 1, 5, 5, 3, 0, 8, 5, 5, 4, 5, 1, 5, 5,\n",
       "       5, 8, 5, 1, 5, 9, 5, 7, 5, 4, 5, 5, 5, 5, 5, 4, 5, 5, 0, 5, 5, 0,\n",
       "       6, 6, 5, 6, 5, 5, 0, 5, 7, 1, 6, 5, 4, 5, 5, 2, 5, 2, 5, 5, 5, 5,\n",
       "       5, 1, 5, 7, 5, 5, 5, 5, 5, 5, 5, 5, 5, 5, 5, 5, 1, 5, 3, 0, 6, 8,\n",
       "       3, 5, 0, 5, 5, 5, 5, 5, 5, 6, 5, 5, 5, 5, 5, 2, 5, 4, 5, 3, 5, 4,\n",
       "       1, 5, 5, 5, 5, 1, 7, 4, 5, 5, 2, 5, 9, 5, 5, 5, 2, 5, 4, 5, 5, 5,\n",
       "       2, 1, 5, 5, 5, 5, 5, 5, 5, 5, 5, 5, 5, 9, 7, 2, 5, 5, 5, 5, 0, 2,\n",
       "       5, 5, 6, 4, 5, 5, 5, 5, 3, 5, 6, 1, 5, 0, 5, 5, 4, 5, 5, 3, 5, 5,\n",
       "       4, 5, 5, 1, 5, 8, 6, 5, 5, 7, 5, 5])"
      ]
     },
     "execution_count": 30,
     "metadata": {},
     "output_type": "execute_result"
    }
   ],
   "source": [
    "yz=model.predict(x_test)\n",
    "yz"
   ]
  },
  {
   "cell_type": "code",
   "execution_count": 31,
   "metadata": {},
   "outputs": [
    {
     "data": {
      "text/plain": [
       "array([5, 2, 5, 4, 8, 2, 4, 3, 3, 0, 8, 7, 0, 1, 8, 6, 9, 7, 9, 7, 1, 8,\n",
       "       6, 7, 8, 8, 5, 3, 5, 9, 3, 3, 7, 3, 4, 1, 9, 2, 5, 4, 2, 1, 0, 9,\n",
       "       2, 3, 6, 1, 9, 4, 4, 9, 8, 4, 8, 5, 9, 7, 8, 0, 4, 5, 8, 4, 7, 9,\n",
       "       0, 7, 1, 3, 9, 3, 3, 8, 0, 7, 3, 6, 5, 2, 0, 8, 8, 0, 1, 1, 2, 8,\n",
       "       8, 8, 2, 6, 3, 4, 7, 9, 8, 2, 9, 2, 5, 0, 8, 0, 4, 8, 8, 0, 6, 7,\n",
       "       3, 3, 9, 1, 5, 4, 6, 0, 8, 8, 1, 1, 7, 9, 9, 5, 2, 3, 3, 9, 7, 6,\n",
       "       2, 5, 4, 3, 3, 7, 6, 7, 2, 7, 4, 9, 5, 1, 9, 4, 6, 1, 1, 1, 4, 0,\n",
       "       4, 9, 1, 2, 3, 5, 0, 3, 4, 1, 5, 4, 9, 3, 5, 6, 4, 0, 8, 6, 7, 0,\n",
       "       9, 9, 4, 7, 3, 5, 2, 0, 6, 7, 5, 3, 9, 7, 1, 3, 2, 8, 3, 3, 1, 7,\n",
       "       1, 1, 1, 7, 1, 6, 7, 6, 9, 5, 2, 3, 5, 2, 9, 5, 4, 8, 2, 9, 1, 5,\n",
       "       0, 2, 3, 9, 0, 2, 0, 2, 1, 0, 5, 0, 6, 4, 2, 1, 9, 0, 9, 0, 6, 9,\n",
       "       4, 4, 9, 7, 5, 6, 1, 8, 7, 0, 8, 6, 2, 0, 1, 2, 3, 8, 4, 4, 3, 5,\n",
       "       7, 9, 7, 2, 0, 2, 0, 9, 2, 8, 6, 3, 6, 0, 6, 6, 6, 7, 1, 6, 1, 7,\n",
       "       6, 0, 6, 3, 7, 4, 6, 2, 8, 0, 8, 4, 7, 3, 3, 0, 0, 2, 3, 9, 7, 4,\n",
       "       6, 7, 9, 7, 6, 0, 5, 6, 2, 7, 1, 0, 5, 1, 6, 4, 7, 2, 5, 1, 4, 6,\n",
       "       6, 5, 0, 2, 9, 8, 7, 9, 6, 7, 0, 8, 3, 5, 9, 4, 1, 5, 5, 4, 7, 3,\n",
       "       9, 2, 7, 3, 3, 6, 6, 3, 2, 1, 9, 8, 3, 0, 8, 7, 0, 4, 2, 1, 1, 2,\n",
       "       9, 8, 5, 1, 7, 9, 8, 7, 5, 4, 2, 5, 5, 4, 2, 4, 6, 5, 0, 8, 2, 0,\n",
       "       6, 6, 3, 6, 5, 3, 0, 9, 7, 1, 6, 7, 4, 7, 3, 2, 5, 2, 1, 2, 6, 8,\n",
       "       0, 1, 9, 7, 6, 9, 9, 2, 9, 1, 0, 9, 9, 8, 3, 6, 1, 1, 3, 0, 6, 8,\n",
       "       3, 2, 0, 3, 4, 5, 5, 8, 8, 6, 9, 3, 1, 5, 4, 2, 7, 4, 7, 3, 7, 4,\n",
       "       1, 7, 0, 1, 7, 1, 7, 4, 9, 5, 2, 1, 9, 2, 8, 0, 2, 3, 4, 5, 7, 4,\n",
       "       2, 1, 5, 7, 8, 3, 1, 5, 5, 6, 1, 1, 8, 9, 7, 2, 5, 7, 8, 7, 0, 2,\n",
       "       2, 2, 6, 4, 8, 0, 6, 1, 3, 6, 6, 1, 3, 0, 6, 5, 4, 1, 5, 3, 7, 6,\n",
       "       4, 4, 9, 1, 4, 8, 6, 2, 3, 7, 8, 5])"
      ]
     },
     "execution_count": 31,
     "metadata": {},
     "output_type": "execute_result"
    }
   ],
   "source": [
    "y_test"
   ]
  },
  {
   "cell_type": "code",
   "execution_count": 33,
   "metadata": {},
   "outputs": [
    {
     "data": {
      "text/plain": [
       "1.0"
      ]
     },
     "execution_count": 33,
     "metadata": {},
     "output_type": "execute_result"
    }
   ],
   "source": [
    "model.score(x_train,y_train)"
   ]
  },
  {
   "cell_type": "code",
   "execution_count": 35,
   "metadata": {},
   "outputs": [
    {
     "data": {
      "image/png": "[encoded data removed]",
      "text/plain": [
       "<Figure size 288x288 with 1 Axes>"
      ]
     },
     "metadata": {
      "needs_background": "light"
     },
     "output_type": "display_data"
    }
   ],
   "source": [
    "plt.matshow(digit.images[9])\n",
    "plt.gray()"
   ]
  },
  {
   "cell_type": "code",
   "execution_count": 27,
   "metadata": {},
   "outputs": [
    {
     "data": {
      "text/plain": [
       "array([[30,  0,  0,  0,  0, 21,  0,  0,  0,  0],\n",
       "       [ 0, 21,  0,  0,  0, 36,  0,  0,  0,  0],\n",
       "       [ 0,  0, 19,  0,  0, 36,  0,  0,  0,  0],\n",
       "       [ 0,  0,  0, 27,  0, 29,  0,  0,  0,  0],\n",
       "       [ 0,  0,  0,  0, 29, 22,  0,  0,  0,  0],\n",
       "       [ 0,  0,  0,  0,  0, 51,  0,  0,  0,  0],\n",
       "       [ 0,  0,  0,  0,  0, 27, 28,  0,  0,  0],\n",
       "       [ 0,  0,  0,  0,  0, 44,  0, 16,  0,  0],\n",
       "       [ 0,  0,  0,  0,  0, 42,  0,  0,  8,  0],\n",
       "       [ 0,  0,  0,  0,  0, 38,  0,  0,  0, 16]], dtype=int64)"
      ]
     },
     "execution_count": 27,
     "metadata": {},
     "output_type": "execute_result"
    }
   ],
   "source": [
    "from sklearn.metrics import confusion_matrix\n",
    "cm=confusion_matrix(y_test,yz)\n",
    "cm"
   ]
  },
  {
   "cell_type": "code",
   "execution_count": 23,
   "metadata": {},
   "outputs": [
    {
     "data": {
      "image/png": "[encoded data removed]",
      "text/plain": [
       "<Figure size 504x360 with 2 Axes>"
      ]
     },
     "metadata": {},
     "output_type": "display_data"
    }
   ],
   "source": [
    "import matplotlib.pyplot as plt\n",
    "import seaborn as sn\n",
    "plt.figure(facecolor='yellow',figsize=(7,5))\n",
    "sn.heatmap(cm,annot=True)\n",
    "plt.xlabel(\"predicted\")\n",
    "plt.ylabel(\"truth\")\n",
    "plt.show()"
   ]
  }
 ],
 "metadata": {
  "kernelspec": {
   "display_name": "Python 3",
   "language": "python",
   "name": "python3"
  },
  "language_info": {
   "codemirror_mode": {
    "name": "ipython",
    "version": 3
   },
   "file_extension": ".py",
   "mimetype": "text/x-python",
   "name": "python",
   "nbconvert_exporter": "python",
   "pygments_lexer": "ipython3",
   "version": "3.7.3"
  }
 },
 "nbformat": 4,
 "nbformat_minor": 2
}
